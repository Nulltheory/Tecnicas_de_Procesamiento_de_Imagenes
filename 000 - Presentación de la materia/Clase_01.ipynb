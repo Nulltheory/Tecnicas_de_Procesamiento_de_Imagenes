{
  "cells": [
    {
      "cell_type": "markdown",
      "metadata": {
        "id": "8V_V_aIPhnhe"
      },
      "source": [
        "# Usando py5 en Google Colab"
      ]
    },
    {
      "cell_type": "markdown",
      "metadata": {
        "id": "MHTn4JeuiHdD"
      },
      "source": [
        "## Configuración del entorno\n",
        "\n",
        "Por favor, ejecuta las siguientes celdas antes de comenzar."
      ]
    },
    {
      "cell_type": "code",
      "execution_count": 1,
      "metadata": {
        "id": "IXXKhStRrk35",
        "colab": {
          "base_uri": "https://localhost:8080/"
        },
        "outputId": "4d10e397-aa4b-435f-d27e-32eae2f35e80"
      },
      "outputs": [
        {
          "output_type": "stream",
          "name": "stdout",
          "text": [
            "Java installed to /root/.jdk/jdk-17.0.16+8\n"
          ]
        }
      ],
      "source": [
        "!pip install install-jdk --quiet\n",
        "!python -c \"import jdk; print('Java installed to', jdk.install('17'))\""
      ]
    },
    {
      "cell_type": "code",
      "execution_count": 2,
      "metadata": {
        "id": "rSrJ7gvArxJI"
      },
      "outputs": [],
      "source": [
        "!apt-get -qq install ca-certificates-java libxcursor1 libxrandr2 libxrender1 libxtst6 libxi6 xvfb > /dev/null # remove `> /dev/null` to see output"
      ]
    },
    {
      "cell_type": "code",
      "execution_count": 3,
      "metadata": {
        "id": "ZABpVzCt8ih_",
        "colab": {
          "base_uri": "https://localhost:8080/"
        },
        "outputId": "d454783f-db32-432a-cebb-44a26ded2c98"
      },
      "outputs": [
        {
          "output_type": "stream",
          "name": "stdout",
          "text": [
            "nohup: appending output to 'nohup.out'\n",
            "env: DISPLAY=:0\n"
          ]
        }
      ],
      "source": [
        "# Esto es muy importante, de lo contrario obtendrás el error de \"headless mode\".\n",
        "!nohup /usr/bin/Xvfb :0 -screen 0 1024x768x24 &\n",
        "%env DISPLAY=:0"
      ]
    },
    {
      "cell_type": "code",
      "execution_count": 4,
      "metadata": {
        "id": "csZBj1bysLjD",
        "colab": {
          "base_uri": "https://localhost:8080/"
        },
        "collapsed": true,
        "outputId": "53f74f8b-289a-4438-eaab-c23d3a588919"
      },
      "outputs": [
        {
          "output_type": "stream",
          "name": "stdout",
          "text": [
            "\u001b[2K     \u001b[90m━━━━━━━━━━━━━━━━━━━━━━━━━━━━━━━━━━━━━━━━\u001b[0m \u001b[32m62.1/62.1 kB\u001b[0m \u001b[31m5.1 MB/s\u001b[0m eta \u001b[36m0:00:00\u001b[0m\n",
            "\u001b[2K   \u001b[90m━━━━━━━━━━━━━━━━━━━━━━━━━━━━━━━━━━━━━━━━\u001b[0m \u001b[32m12.2/12.2 MB\u001b[0m \u001b[31m13.8 MB/s\u001b[0m eta \u001b[36m0:00:00\u001b[0m\n",
            "\u001b[2K   \u001b[90m━━━━━━━━━━━━━━━━━━━━━━━━━━━━━━━━━━━━━━━━\u001b[0m \u001b[32m45.8/45.8 kB\u001b[0m \u001b[31m2.8 MB/s\u001b[0m eta \u001b[36m0:00:00\u001b[0m\n",
            "\u001b[2K   \u001b[90m━━━━━━━━━━━━━━━━━━━━━━━━━━━━━━━━━━━━━━━━\u001b[0m \u001b[32m495.9/495.9 kB\u001b[0m \u001b[31m26.5 MB/s\u001b[0m eta \u001b[36m0:00:00\u001b[0m\n",
            "\u001b[2K   \u001b[90m━━━━━━━━━━━━━━━━━━━━━━━━━━━━━━━━━━━━━━━━\u001b[0m \u001b[32m1.5/1.5 MB\u001b[0m \u001b[31m38.0 MB/s\u001b[0m eta \u001b[36m0:00:00\u001b[0m\n",
            "\u001b[2K   \u001b[90m━━━━━━━━━━━━━━━━━━━━━━━━━━━━━━━━━━━━━━━━\u001b[0m \u001b[32m16.6/16.6 MB\u001b[0m \u001b[31m69.3 MB/s\u001b[0m eta \u001b[36m0:00:00\u001b[0m\n",
            "\u001b[?25h\u001b[31mERROR: pip's dependency resolver does not currently take into account all the packages that are installed. This behaviour is the source of the following dependency conflicts.\n",
            "opencv-python-headless 4.12.0.88 requires numpy<2.3.0,>=2; python_version >= \"3.9\", but you have numpy 2.3.3 which is incompatible.\n",
            "numba 0.60.0 requires numpy<2.1,>=1.22, but you have numpy 2.3.3 which is incompatible.\n",
            "cupy-cuda12x 13.3.0 requires numpy<2.3,>=1.22, but you have numpy 2.3.3 which is incompatible.\n",
            "opencv-python 4.12.0.88 requires numpy<2.3.0,>=2; python_version >= \"3.9\", but you have numpy 2.3.3 which is incompatible.\n",
            "tensorflow 2.19.0 requires numpy<2.2.0,>=1.26.0, but you have numpy 2.3.3 which is incompatible.\n",
            "opencv-contrib-python 4.12.0.88 requires numpy<2.3.0,>=2; python_version >= \"3.9\", but you have numpy 2.3.3 which is incompatible.\u001b[0m\u001b[31m\n",
            "\u001b[0m"
          ]
        }
      ],
      "source": [
        "# No instales py5[extras] porque actualizará iPython y otros paquetes,\n",
        "# lo que rompe la sesión y obliga a Colab a reiniciarse, reiniciando la instalación infinitamente.\n",
        "\n",
        "!pip install py5 --quiet # elimina `--quiet` si quieres ver los detalles de la instalación"
      ]
    },
    {
      "cell_type": "code",
      "execution_count": 5,
      "metadata": {
        "id": "OuF9541PDVF6",
        "colab": {
          "base_uri": "https://localhost:8080/"
        },
        "collapsed": true,
        "outputId": "66ce640b-b1c2-4ac6-d50a-b9c8dadfbd16"
      },
      "outputs": [
        {
          "output_type": "stream",
          "name": "stdout",
          "text": [
            "\u001b[2K   \u001b[90m━━━━━━━━━━━━━━━━━━━━━━━━━━━━━━━━━━━━━━━━\u001b[0m \u001b[32m1.2/1.2 MB\u001b[0m \u001b[31m20.5 MB/s\u001b[0m eta \u001b[36m0:00:00\u001b[0m\n",
            "\u001b[2K   \u001b[90m━━━━━━━━━━━━━━━━━━━━━━━━━━━━━━━━━━━━━━━━\u001b[0m \u001b[32m96.2/96.2 kB\u001b[0m \u001b[31m7.2 MB/s\u001b[0m eta \u001b[36m0:00:00\u001b[0m\n",
            "\u001b[2K   \u001b[90m━━━━━━━━━━━━━━━━━━━━━━━━━━━━━━━━━━━━━━━━\u001b[0m \u001b[32m17.2/17.2 MB\u001b[0m \u001b[31m32.0 MB/s\u001b[0m eta \u001b[36m0:00:00\u001b[0m\n",
            "\u001b[2K   \u001b[90m━━━━━━━━━━━━━━━━━━━━━━━━━━━━━━━━━━━━━━━━\u001b[0m \u001b[32m128.4/128.4 kB\u001b[0m \u001b[31m6.6 MB/s\u001b[0m eta \u001b[36m0:00:00\u001b[0m\n",
            "\u001b[2K   \u001b[90m━━━━━━━━━━━━━━━━━━━━━━━━━━━━━━━━━━━━━━━━\u001b[0m \u001b[32m507.6/507.6 kB\u001b[0m \u001b[31m20.9 MB/s\u001b[0m eta \u001b[36m0:00:00\u001b[0m\n",
            "\u001b[2K   \u001b[90m━━━━━━━━━━━━━━━━━━━━━━━━━━━━━━━━━━━━━━━━\u001b[0m \u001b[32m729.1/729.1 kB\u001b[0m \u001b[31m33.9 MB/s\u001b[0m eta \u001b[36m0:00:00\u001b[0m\n",
            "\u001b[2K   \u001b[90m━━━━━━━━━━━━━━━━━━━━━━━━━━━━━━━━━━━━━━━━\u001b[0m \u001b[32m266.0/266.0 kB\u001b[0m \u001b[31m20.2 MB/s\u001b[0m eta \u001b[36m0:00:00\u001b[0m\n",
            "\u001b[?25h"
          ]
        }
      ],
      "source": [
        "# Opcionalmente, puedes intentar instalar manualmente algunos extras...\n",
        "# https://trimesh.org/install.html trimesh[easy] también instalará\n",
        "# shapely y networkx. Ten en cuenta que matplotlib ya está preinstalado.\n",
        "\n",
        "!pip install trimesh[easy] --quiet # elimina `--quiet` si quieres ver los detalles"
      ]
    },
    {
      "cell_type": "markdown",
      "metadata": {
        "id": "eWsaVrN4hw19"
      },
      "source": [
        "## Now for some **py5** testing!"
      ]
    },
    {
      "cell_type": "code",
      "execution_count": 6,
      "metadata": {
        "id": "YkCsH8wtskbP"
      },
      "outputs": [],
      "source": [
        "import py5\n",
        "import py5_tools\n"
      ]
    },
    {
      "cell_type": "code",
      "execution_count": 7,
      "metadata": {
        "id": "WTNzo8Xdu89O"
      },
      "outputs": [],
      "source": [
        "def setup():\n",
        "  py5.size(600, 600)\n",
        "  py5.background(0)\n",
        "  for _ in range(100):\n",
        "      py5.fill(py5.random_choice(('red', 'green', 'blue')), 180)\n",
        "      py5.square(py5.random(50, 500), py5.random(50, 500), py5.random(10, 30))\n"
      ]
    },
    {
      "cell_type": "code",
      "execution_count": 8,
      "metadata": {
        "id": "irNvRExGvGRt"
      },
      "outputs": [],
      "source": [
        "py5.run_sketch()"
      ]
    },
    {
      "cell_type": "markdown",
      "metadata": {
        "id": "jyMxDnJpXgxg"
      },
      "source": [
        "Unlike a local version of a notebook, running on Jupyter Lab, for instance, you won't see a window with your sketch running on it pop up.\n",
        "\n",
        "But it is running and you can take a snapshot of it using `py5_tools.screenshot()`. Afterwards you can stop it using `py5.exit_sketch()`"
      ]
    },
    {
      "cell_type": "code",
      "execution_count": 9,
      "metadata": {
        "id": "NhNKH14W8ZeU",
        "colab": {
          "base_uri": "https://localhost:8080/",
          "height": 654
        },
        "outputId": "69878218-2800-4465-820d-c824de757386"
      },
      "outputs": [
        {
          "output_type": "stream",
          "name": "stderr",
          "text": [
            "/usr/local/lib/python3.12/dist-packages/py5_tools/hooks/frame_hooks.py:121: DeprecationWarning: 'mode' parameter is deprecated and will be removed in Pillow 13 (2026-10-15)\n",
            "  return PIL.Image.fromarray(sketch.np_pixels[:, :, 1:], mode=\"RGB\")\n"
          ]
        },
        {
          "output_type": "execute_result",
          "data": {
            "text/plain": [
              "<PIL.Image.Image image mode=RGB size=600x600>"
            ],
            "image/png": "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\n",
            "image/jpeg": "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\n"
          },
          "metadata": {},
          "execution_count": 9
        }
      ],
      "source": [
        "py5_tools.screenshot()"
      ]
    },
    {
      "cell_type": "markdown",
      "metadata": {
        "id": "VWaLUiMD9JbN"
      },
      "source": [
        "WOW!"
      ]
    },
    {
      "cell_type": "code",
      "execution_count": 10,
      "metadata": {
        "id": "9hiZphNk8vBl"
      },
      "outputs": [],
      "source": [
        "# If you want to run it again, stop the sketch.\n",
        "py5.exit_sketch()"
      ]
    },
    {
      "cell_type": "markdown",
      "metadata": {
        "id": "JFgdJtF1mSTX"
      },
      "source": [
        "## More env debugging resources"
      ]
    },
    {
      "cell_type": "code",
      "execution_count": 11,
      "metadata": {
        "id": "32aQpHdakbSC",
        "colab": {
          "base_uri": "https://localhost:8080/"
        },
        "outputId": "7d521492-48fd-4c14-ad98-75d853fe105c"
      },
      "outputs": [
        {
          "output_type": "execute_result",
          "data": {
            "text/plain": [
              "{'JAVA_HOME environment variable': '/root/.jdk/jdk-17.0.16+8',\n",
              " 'jvm version': (17, 0, 16),\n",
              " 'default jvm path': '/root/.jdk/jdk-17.0.16+8/lib/server/libjvm.so'}"
            ]
          },
          "metadata": {},
          "execution_count": 11
        }
      ],
      "source": [
        "import py5_tools\n",
        "\n",
        "py5_tools.jvm.get_jvm_debug_info() # si ejecutas esto antes de iniciar py5 obtendrás el JDK-11 por defecto del sistema"
      ]
    },
    {
      "cell_type": "code",
      "source": [
        "def setup():\n",
        "    py5.size(500, 500)\n",
        "    py5.fill(\"#FF0000\")\n",
        "    py5.rect(100, 150, 200, 300)\n",
        "    py5.save(\"/img/testing/000_intro_py5.png\")\n",
        "\n",
        "\n",
        "py5.run_sketch()\n"
      ],
      "metadata": {
        "id": "gxoTLxr4mOXy"
      },
      "execution_count": 12,
      "outputs": []
    },
    {
      "cell_type": "code",
      "source": [
        "py5_tools.screenshot()"
      ],
      "metadata": {
        "colab": {
          "base_uri": "https://localhost:8080/",
          "height": 517
        },
        "id": "mj5_7RKxm6T6",
        "outputId": "c05a5033-7393-48d8-c9a3-6fa5f9d931ef"
      },
      "execution_count": 13,
      "outputs": [
        {
          "output_type": "execute_result",
          "data": {
            "text/plain": [
              "<PIL.Image.Image image mode=RGB size=500x500>"
            ],
            "image/png": "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\n",
            "image/jpeg": "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\n"
          },
          "metadata": {},
          "execution_count": 13
        }
      ]
    },
    {
      "cell_type": "code",
      "source": [
        "py5.exit_sketch()"
      ],
      "metadata": {
        "id": "_B_ZsER8qKpy"
      },
      "execution_count": 14,
      "outputs": []
    },
    {
      "cell_type": "code",
      "source": [
        "def setup():\n",
        "    py5.size(400, 400)\n",
        "    py5.background(200)\n",
        "    print(\"py5 funcionando correctamente\")\n",
        "\n",
        "def draw():\n",
        "    py5.fill(255, 0, 0)  # Rojo\n",
        "    py5.no_stroke()\n",
        "    py5.ellipse(200, 200, 100, 100)"
      ],
      "metadata": {
        "id": "8b93sUptokUp"
      },
      "execution_count": 15,
      "outputs": []
    },
    {
      "cell_type": "code",
      "source": [
        "py5.run_sketch()"
      ],
      "metadata": {
        "id": "3wFFsjnrqeMi"
      },
      "execution_count": 16,
      "outputs": []
    },
    {
      "cell_type": "code",
      "source": [
        "py5_tools.screenshot()"
      ],
      "metadata": {
        "colab": {
          "base_uri": "https://localhost:8080/",
          "height": 435,
          "referenced_widgets": [
            "fbbc67fccbde435ab12777573c3e63a8",
            "12f636ebe5614a899f1cd813f6142876"
          ]
        },
        "id": "4oKlVBgUotLh",
        "outputId": "b1465645-1576-4fcf-d204-a15e17c991dc"
      },
      "execution_count": 17,
      "outputs": [
        {
          "output_type": "stream",
          "name": "stdout",
          "text": [
            "py5 funcionando correctamente\n"
          ]
        },
        {
          "output_type": "display_data",
          "data": {
            "text/plain": [
              "Output(layout=Layout(max_height='200px', overflow='auto'))"
            ],
            "application/vnd.jupyter.widget-view+json": {
              "version_major": 2,
              "version_minor": 0,
              "model_id": "fbbc67fccbde435ab12777573c3e63a8"
            }
          },
          "metadata": {}
        },
        {
          "output_type": "execute_result",
          "data": {
            "text/plain": [
              "<PIL.Image.Image image mode=RGB size=400x400>"
            ],
            "image/png": "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\n",
            "image/jpeg": "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\n"
          },
          "metadata": {},
          "execution_count": 17
        }
      ]
    },
    {
      "cell_type": "code",
      "source": [
        "py5.exit_sketch()"
      ],
      "metadata": {
        "id": "i2ojirglqk8L"
      },
      "execution_count": 18,
      "outputs": []
    },
    {
      "cell_type": "code",
      "source": [
        "def setup():\n",
        "    py5.size(400, 400)\n",
        "    py5.color_mode(py5.HSB, 360, 100, 100)\n",
        "    py5.background(200)\n",
        "    print(\"py5 funcionando correctamente\")\n",
        "\n",
        "\n",
        "def draw():\n",
        "    py5.fill(200, 80, 80)"
      ],
      "metadata": {
        "id": "pOW5K-99rLHz"
      },
      "execution_count": 19,
      "outputs": []
    },
    {
      "cell_type": "code",
      "source": [
        "py5.run_sketch()"
      ],
      "metadata": {
        "id": "VEY5LnPmrMnK"
      },
      "execution_count": 20,
      "outputs": []
    },
    {
      "cell_type": "code",
      "source": [
        "py5_tools.screenshot()"
      ],
      "metadata": {
        "colab": {
          "base_uri": "https://localhost:8080/",
          "height": 435,
          "referenced_widgets": [
            "c54eb3d21d8f4563bbd16d4e2f7f1147",
            "11d0fd7038e944e68a078252b42ac953"
          ]
        },
        "id": "55rg_D9YrPCK",
        "outputId": "5a2e660d-916b-4f3c-a898-1d2e6e1300c2"
      },
      "execution_count": 21,
      "outputs": [
        {
          "output_type": "stream",
          "name": "stdout",
          "text": [
            "py5 funcionando correctamente\n"
          ]
        },
        {
          "output_type": "display_data",
          "data": {
            "text/plain": [
              "Output(layout=Layout(max_height='200px', overflow='auto'))"
            ],
            "application/vnd.jupyter.widget-view+json": {
              "version_major": 2,
              "version_minor": 0,
              "model_id": "c54eb3d21d8f4563bbd16d4e2f7f1147"
            }
          },
          "metadata": {}
        },
        {
          "output_type": "execute_result",
          "data": {
            "text/plain": [
              "<PIL.Image.Image image mode=RGB size=400x400>"
            ],
            "image/png": "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\n",
            "image/jpeg": "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\n"
          },
          "metadata": {},
          "execution_count": 21
        }
      ]
    },
    {
      "cell_type": "code",
      "source": [
        "py5.exit_sketch()"
      ],
      "metadata": {
        "id": "7jop5-JDs_ua"
      },
      "execution_count": 22,
      "outputs": []
    },
    {
      "cell_type": "code",
      "source": [
        "def setup():\n",
        "    # Diferentes resoluciones\n",
        "    py5.size(800, 600)  # HD 4:3\n",
        "    py5.background(220)\n",
        "\n",
        "    # Mostrar información de la ventana\n",
        "    print(f\"Ancho: {py5.width} píxeles\")\n",
        "    print(f\"Alto: {py5.height} píxeles\")\n",
        "    print(f\"Total píxeles: {py5.width * py5.height}\")\n",
        "\n",
        "\n",
        "py5.run_sketch()"
      ],
      "metadata": {
        "id": "1-l1Qvlxs_dK"
      },
      "execution_count": 23,
      "outputs": []
    },
    {
      "cell_type": "code",
      "source": [
        "py5_tools.screenshot()"
      ],
      "metadata": {
        "colab": {
          "base_uri": "https://localhost:8080/",
          "height": 672,
          "referenced_widgets": [
            "237e3dddb7b7495ebd0e9ffb4e102f65",
            "ec63143ca03e427f9a495c509e130cbe"
          ]
        },
        "id": "QtOJe6VotEBC",
        "outputId": "f8c84d8c-b0b0-4acf-ce45-197ba2105095"
      },
      "execution_count": 24,
      "outputs": [
        {
          "output_type": "stream",
          "name": "stdout",
          "text": [
            "Ancho: 800 píxeles\n",
            "Alto: 600 píxeles\n",
            "Total píxeles: 480000\n"
          ]
        },
        {
          "output_type": "display_data",
          "data": {
            "text/plain": [
              "Output(layout=Layout(max_height='200px', overflow='auto'))"
            ],
            "application/vnd.jupyter.widget-view+json": {
              "version_major": 2,
              "version_minor": 0,
              "model_id": "237e3dddb7b7495ebd0e9ffb4e102f65"
            }
          },
          "metadata": {}
        },
        {
          "output_type": "execute_result",
          "data": {
            "text/plain": [
              "<PIL.Image.Image image mode=RGB size=800x600>"
            ],
            "image/png": "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\n",
            "image/jpeg": "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\n"
          },
          "metadata": {},
          "execution_count": 24
        }
      ]
    },
    {
      "cell_type": "code",
      "source": [
        "py5.exit_sketch()"
      ],
      "metadata": {
        "id": "2A46PDKEuMZ6"
      },
      "execution_count": 25,
      "outputs": []
    },
    {
      "cell_type": "code",
      "source": [
        "def setup():\n",
        "    py5.size(600, 200)\n",
        "    py5.color_mode(py5.RGB, 255)\n",
        "    py5.no_stroke()\n",
        "\n",
        "\n",
        "def draw():\n",
        "    # Canal Rojo\n",
        "    py5.fill(255, 0, 0)\n",
        "    py5.rect(0, 0, 200, 200)\n",
        "\n",
        "    # Canal Verde\n",
        "    py5.fill(0, 255, 0)\n",
        "    py5.rect(200, 0, 200, 200)\n",
        "\n",
        "    # Canal Azul\n",
        "    py5.fill(0, 0, 255)\n",
        "    py5.rect(400, 0, 200, 200)\n",
        "\n",
        "\n",
        "py5.run_sketch()"
      ],
      "metadata": {
        "id": "g1EYxiZFuL4i"
      },
      "execution_count": 26,
      "outputs": []
    },
    {
      "cell_type": "code",
      "source": [
        "py5_tools.screenshot()"
      ],
      "metadata": {
        "colab": {
          "base_uri": "https://localhost:8080/",
          "height": 217,
          "referenced_widgets": [
            "7de16b54447d4df490b79f1e8871194a",
            "b51ff2a998b944da908ef62d0298201d"
          ]
        },
        "id": "Dd1NO-dGuQcq",
        "outputId": "b7fe7836-c86c-4e13-c435-78825f2e9680"
      },
      "execution_count": 27,
      "outputs": [
        {
          "output_type": "display_data",
          "data": {
            "text/plain": [
              "Output(layout=Layout(max_height='200px', overflow='auto'))"
            ],
            "application/vnd.jupyter.widget-view+json": {
              "version_major": 2,
              "version_minor": 0,
              "model_id": "7de16b54447d4df490b79f1e8871194a"
            }
          },
          "metadata": {}
        },
        {
          "output_type": "execute_result",
          "data": {
            "text/plain": [
              "<PIL.Image.Image image mode=RGB size=600x200>"
            ],
            "image/png": "iVBORw0KGgoAAAANSUhEUgAAAlgAAADICAIAAAC7/QjhAAAI70lEQVR4Ae3VwQnAMBADQTv995w0kX0IxgWIY2TQfY9H4H+B62P9jyrxHB/LLwgEniBTJAECBAgQmBEwhDNVOZQAAQIECgFDWKjKJECAAIEZAUM4U5VDCRAgQKAQMISFqkwCBAgQmBEwhDNVOZQAAQIECgFDWKjKJECAAIEZAUM4U5VDCRAgQKAQMISFqkwCBAgQmBEwhDNVOZQAAQIECgFDWKjKJECAAIEZAUM4U5VDCRAgQKAQMISFqkwCBAgQmBEwhDNVOZQAAQIECgFDWKjKJECAAIEZAUM4U5VDCRAgQKAQMISFqkwCBAgQmBEwhDNVOZQAAQIECgFDWKjKJECAAIEZAUM4U5VDCRAgQKAQMISFqkwCBAgQmBEwhDNVOZQAAQIECgFDWKjKJECAAIEZAUM4U5VDCRAgQKAQMISFqkwCBAgQmBEwhDNVOZQAAQIECgFDWKjKJECAAIEZAUM4U5VDCRAgQKAQMISFqkwCBAgQmBEwhDNVOZQAAQIECgFDWKjKJECAAIEZAUM4U5VDCRAgQKAQMISFqkwCBAgQmBEwhDNVOZQAAQIECgFDWKjKJECAAIEZAUM4U5VDCRAgQKAQMISFqkwCBAgQmBEwhDNVOZQAAQIECgFDWKjKJECAAIEZAUM4U5VDCRAgQKAQMISFqkwCBAgQmBEwhDNVOZQAAQIECgFDWKjKJECAAIEZAUM4U5VDCRAgQKAQMISFqkwCBAgQmBEwhDNVOZQAAQIECgFDWKjKJECAAIEZAUM4U5VDCRAgQKAQMISFqkwCBAgQmBEwhDNVOZQAAQIECgFDWKjKJECAAIEZAUM4U5VDCRAgQKAQMISFqkwCBAgQmBEwhDNVOZQAAQIECgFDWKjKJECAAIEZAUM4U5VDCRAgQKAQMISFqkwCBAgQmBEwhDNVOZQAAQIECgFDWKjKJECAAIEZAUM4U5VDCRAgQKAQMISFqkwCBAgQmBEwhDNVOZQAAQIECgFDWKjKJECAAIEZAUM4U5VDCRAgQKAQMISFqkwCBAgQmBEwhDNVOZQAAQIECgFDWKjKJECAAIEZAUM4U5VDCRAgQKAQMISFqkwCBAgQmBEwhDNVOZQAAQIECgFDWKjKJECAAIEZAUM4U5VDCRAgQKAQMISFqkwCBAgQmBEwhDNVOZQAAQIECgFDWKjKJECAAIEZAUM4U5VDCRAgQKAQMISFqkwCBAgQmBEwhDNVOZQAAQIECgFDWKjKJECAAIEZAUM4U5VDCRAgQKAQMISFqkwCBAgQmBEwhDNVOZQAAQIECgFDWKjKJECAAIEZAUM4U5VDCRAgQKAQMISFqkwCBAgQmBEwhDNVOZQAAQIECgFDWKjKJECAAIEZAUM4U5VDCRAgQKAQMISFqkwCBAgQmBEwhDNVOZQAAQIECgFDWKjKJECAAIEZAUM4U5VDCRAgQKAQMISFqkwCBAgQmBEwhDNVOZQAAQIECgFDWKjKJECAAIEZAUM4U5VDCRAgQKAQMISFqkwCBAgQmBEwhDNVOZQAAQIECgFDWKjKJECAAIEZAUM4U5VDCRAgQKAQMISFqkwCBAgQmBEwhDNVOZQAAQIECgFDWKjKJECAAIEZAUM4U5VDCRAgQKAQMISFqkwCBAgQmBEwhDNVOZQAAQIECgFDWKjKJECAAIEZAUM4U5VDCRAgQKAQMISFqkwCBAgQmBEwhDNVOZQAAQIECgFDWKjKJECAAIEZAUM4U5VDCRAgQKAQMISFqkwCBAgQmBEwhDNVOZQAAQIECgFDWKjKJECAAIEZAUM4U5VDCRAgQKAQMISFqkwCBAgQmBEwhDNVOZQAAQIECgFDWKjKJECAAIEZAUM4U5VDCRAgQKAQMISFqkwCBAgQmBEwhDNVOZQAAQIECgFDWKjKJECAAIEZAUM4U5VDCRAgQKAQMISFqkwCBAgQmBEwhDNVOZQAAQIECgFDWKjKJECAAIEZAUM4U5VDCRAgQKAQMISFqkwCBAgQmBEwhDNVOZQAAQIECgFDWKjKJECAAIEZAUM4U5VDCRAgQKAQMISFqkwCBAgQmBEwhDNVOZQAAQIECgFDWKjKJECAAIEZAUM4U5VDCRAgQKAQMISFqkwCBAgQmBEwhDNVOZQAAQIECgFDWKjKJECAAIEZAUM4U5VDCRAgQKAQMISFqkwCBAgQmBEwhDNVOZQAAQIECgFDWKjKJECAAIEZAUM4U5VDCRAgQKAQMISFqkwCBAgQmBEwhDNVOZQAAQIECgFDWKjKJECAAIEZAUM4U5VDCRAgQKAQMISFqkwCBAgQmBEwhDNVOZQAAQIECgFDWKjKJECAAIEZAUM4U5VDCRAgQKAQMISFqkwCBAgQmBEwhDNVOZQAAQIECgFDWKjKJECAAIEZAUM4U5VDCRAgQKAQMISFqkwCBAgQmBEwhDNVOZQAAQIECgFDWKjKJECAAIEZAUM4U5VDCRAgQKAQMISFqkwCBAgQmBEwhDNVOZQAAQIECgFDWKjKJECAAIEZAUM4U5VDCRAgQKAQMISFqkwCBAgQmBEwhDNVOZQAAQIECgFDWKjKJECAAIEZAUM4U5VDCRAgQKAQMISFqkwCBAgQmBEwhDNVOZQAAQIECgFDWKjKJECAAIEZAUM4U5VDCRAgQKAQMISFqkwCBAgQmBEwhDNVOZQAAQIECgFDWKjKJECAAIEZAUM4U5VDCRAgQKAQMISFqkwCBAgQmBEwhDNVOZQAAQIECgFDWKjKJECAAIEZAUM4U5VDCRAgQKAQMISFqkwCBAgQmBEwhDNVOZQAAQIECgFDWKjKJECAAIEZAUM4U5VDCRAgQKAQMISFqkwCBAgQmBEwhDNVOZQAAQIECgFDWKjKJECAAIEZAUM4U5VDCRAgQKAQMISFqkwCBAgQmBEwhDNVOZQAAQIECgFDWKjKJECAAIEZAUM4U5VDCRAgQKAQMISFqkwCBAgQmBEwhDNVOZQAAQIECgFDWKjKJECAAIEZAUM4U5VDCRAgQKAQMISFqkwCBAgQmBEwhDNVOZQAAQIECgFDWKjKJECAAIEZgQ9/oQSPWx2tswAAAABJRU5ErkJggg==\n",
            "image/jpeg": "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\n"
          },
          "metadata": {},
          "execution_count": 27
        }
      ]
    },
    {
      "cell_type": "code",
      "source": [
        "py5.exit_sketch()"
      ],
      "metadata": {
        "id": "e4bWb3IuuzgC"
      },
      "execution_count": 28,
      "outputs": []
    },
    {
      "cell_type": "code",
      "source": [
        "def setup():\n",
        "    py5.size(400, 400)\n",
        "    py5.color_mode(py5.HSB, 360, 100, 100)\n",
        "    py5.no_stroke()\n",
        "\n",
        "\n",
        "def draw():\n",
        "    for i in range(360):\n",
        "        py5.fill(i, 100, 100)\n",
        "        py5.rect(i, 0, 1, py5.height)\n",
        "\n",
        "\n",
        "py5.run_sketch()"
      ],
      "metadata": {
        "id": "GkHElikru0HT"
      },
      "execution_count": 29,
      "outputs": []
    },
    {
      "cell_type": "code",
      "source": [
        "py5_tools.screenshot()"
      ],
      "metadata": {
        "colab": {
          "base_uri": "https://localhost:8080/",
          "height": 417,
          "referenced_widgets": [
            "0bb04a8b7fd24f5298de546658c75e8a",
            "ad6496a554bd481ab834dc29e2183f5e"
          ]
        },
        "id": "J0ynnoptu3w6",
        "outputId": "0136cc6c-17c7-4c97-e879-aebd8c0b48db"
      },
      "execution_count": 30,
      "outputs": [
        {
          "output_type": "display_data",
          "data": {
            "text/plain": [
              "Output(layout=Layout(max_height='200px', overflow='auto'))"
            ],
            "application/vnd.jupyter.widget-view+json": {
              "version_major": 2,
              "version_minor": 0,
              "model_id": "0bb04a8b7fd24f5298de546658c75e8a"
            }
          },
          "metadata": {}
        },
        {
          "output_type": "execute_result",
          "data": {
            "text/plain": [
              "<PIL.Image.Image image mode=RGB size=400x400>"
            ],
            "image/png": "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\n",
            "image/jpeg": "/9j/4AAQSkZJRgABAQAAAQABAAD/2wBDAAgGBgcGBQgHBwcJCQgKDBQNDAsLDBkSEw8UHRofHh0aHBwgJC4nICIsIxwcKDcpLDAxNDQ0Hyc5PTgyPC4zNDL/2wBDAQkJCQwLDBgNDRgyIRwhMjIyMjIyMjIyMjIyMjIyMjIyMjIyMjIyMjIyMjIyMjIyMjIyMjIyMjIyMjIyMjIyMjL/wAARCAGQAZADASIAAhEBAxEB/8QAHwAAAQUBAQEBAQEAAAAAAAAAAAECAwQFBgcICQoL/8QAtRAAAgEDAwIEAwUFBAQAAAF9AQIDAAQRBRIhMUEGE1FhByJxFDKBkaEII0KxwRVS0fAkM2JyggkKFhcYGRolJicoKSo0NTY3ODk6Q0RFRkdISUpTVFVWV1hZWmNkZWZnaGlqc3R1dnd4eXqDhIWGh4iJipKTlJWWl5iZmqKjpKWmp6ipqrKztLW2t7i5usLDxMXGx8jJytLT1NXW19jZ2uHi4+Tl5ufo6erx8vP09fb3+Pn6/8QAHwEAAwEBAQEBAQEBAQAAAAAAAAECAwQFBgcICQoL/8QAtREAAgECBAQDBAcFBAQAAQJ3AAECAxEEBSExBhJBUQdhcRMiMoEIFEKRobHBCSMzUvAVYnLRChYkNOEl8RcYGRomJygpKjU2Nzg5OkNERUZHSElKU1RVVldYWVpjZGVmZ2hpanN0dXZ3eHl6goOEhYaHiImKkpOUlZaXmJmaoqOkpaanqKmqsrO0tba3uLm6wsPExcbHyMnK0tPU1dbX2Nna4uPk5ebn6Onq8vP09fb3+Pn6/9oADAMBAAIRAxEAPwDlIK1IKy4K1IK+QrH7NXNSDtWpb9qy4O1alv2ry6x4tc1LftWpb9qy7ftWpb9q8qseNXNS37Vop9ys637Vop9yvMq7ni1yGSqslWpKqyU4HhYkqyVVkq1JVWSuqB4OJKslVJKtyVUkrqgeDiSrJTBT5KYK7aW54lXceKkWoxUi17eHOZki1IKjWpBXvYcyZIKkFRipBXv4czYrfcNZ8/etBvuGs+fvXt0S6O5lz96y561J+9Zc9erRPYoGXP3rLn71qT96y5+9epRPZoGXP3rLnrUn71lz16lE9mgQR1bjqpHVuOtpnt4YtR1ajqrHVqOuSZ7+GLUdWo6qx1ajrlme9hi1HVlfu1Wjqyv3a5amx72HGmmGnmmGvGxJ2Ijao2qRqjavBxJqiNqjNSNUZrwMSaojNe/V4Ca9+rDBby+X6nxfGf8Ay4/7e/8AbQooorvPhwooooA8IgrUgrLgrUgr5Csfs1c1IO1alv2rLg7VqW/avLrHi1zUt+1alv2rLt+1alv2ryqx41c1LftWin3KzrftWin3K8yrueLXIZKqyVakqrJTgeFiSrJVWSrUlVZK6oHg4kqyVUkq3JVSSuqB4OJKslMFPkpgrtpbniVdx4qRajFSLXt4c5mSLUgqNakFe9hzJkgqQVGKkFe/hzNit9w1nz960G+4az5+9e3RLo7mXP3rLnrUn71lz16tE9igZc/esufvWpP3rLn716lE9mgZc/esuetSfvWXPXqUT2aBBHVuOqkdW462me3hi1HVqOqsdWo65Jnv4YtR1ajqrHVqOuWZ72GLUdWV+7VaOrK/drlqbHvYcaaYaeaYa8bEnYiNqjapGqNq8HEmqI2qM1I1RmvAxJqiM179XgJr36sMFvL5fqfF8Z/8uP8At7/20KKKK7z4cKKKKAPCIK1IKy4K1IK+QrH7NXNSDtWpb9qy4O1alv2ry6x4tc1LftWpb9qy7ftWpb9q8qseNXNS37Vop9ys637Vop9yvMq7ni1yGSqslWpKqyU4HhYkqyVVkq1JVWSuqB4OJKslVJKtyVUkrqgeDiSrJTBT5KYK7aW54lXceKkWoxUi17eHOZki1IKjWpBXvYcyZIKkFRipBXv4czYrfcNZ8/etBvuGs+fvXt0S6O5lz96y561J+9Zc9erRPYoGXP3rLn71qT96y5+9epRPZoGXP3rLnrUn71lz16lE9mgQR1bjqpHVuOtpnt4YtR1ajqrHVqOuSZ7+GLUdWo6qx1ajrlme9hi1HVlfu1Wjqyv3a5amx72HGmmGnmmGvGxJ2Ijao2qRqjavBxJqiNqjNSNUZrwMSaojNe/V4Ca9+rDBby+X6nxfGf8Ay4/7e/8AbQooorvPhwooooA8IgrUgrLgrUgr5Csfs1c1IO1alv2rLg7VqW/avLrHi1zUt+1alv2rLt+1alv2ryqx41c1LftWin3KzrftWin3K8yrueLXIZKqyVakqrJTgeFiSrJVWSrUlVZK6oHg4kqyVUkq3JVSSuqB4OJKslMFPkpgrtpbniVdx4qRajFSLXt4c5mSLUgqNakFe9hzJkgqQVGKkFe/hzNit9w1nz960G+4az5+9e3RLo7mXP3rLnrUn71lz16tE9igZc/esufvWpP3rLn716lE9mgZc/esuetSfvWXPXqUT2aBBHVuOqkdW462me3hi1HVqOqsdWo65Jnv4YtR1ajqrHVqOuWZ72GLUdWV+7VaOrK/drlqbHvYcaaYaeaYa8bEnYiNqjapGqNq8HEmqI2qM1I1RmvAxJqiM179XgJr36sMFvL5fqfF8Z/8uP8At7/20KKKK7z4cKKKKAPCIK1IKy4K1IK+QrH7NXNSDtWpb9qy4O1alv2ry6x4tc1LftWpb9qy7ftWpb9q8qseNXNS37Vop9ys637Vop9yvMq7ni1yGSqslWpKqyU4HhYkqyVVkq1JVWSuqB4OJKslVJKtyVUkrqgeDiSrJTBT5KYK7aW54lXceKkWoxUi17eHOZki1IKjWpBXvYcyZIKkFRipBXv4czYrfcNZ8/etBvuGs+fvXt0S6O5lz96y561J+9Zc9erRPYoGXP3rLn71qT96y5+9epRPZoGXP3rLnrUn71lz16lE9mgQR1bjqpHVuOtpnt4YtR1ajqrHVqOuSZ7+GLUdWo6qx1ajrlme9hi1HVlfu1Wjqyv3a5amx72HGmmGnmmGvGxJ2Ijao2qRqjavBxJqiNqjNSNUZrwMSaojNe/V4Ca9+rDBby+X6nxfGf8Ay4/7e/8AbQooorvPhwooooA8IgrUgrLgrUgr5Csfs1c1IO1alv2rLg7VqW/avLrHi1zUt+1alv2rLt+1alv2ryqx41c1LftWin3KzrftWin3K8yrueLXIZKqyVakqrJTgeFiSrJVWSrUlVZK6oHg4kqyVUkq3JVSSuqB4OJKslMFPkpgrtpbniVdx4qRajFSLXt4c5mSLUgqNakFe9hzJkgqQVGKkFe/hzNit9w1nz960G+4az5+9e3RLo7mXP3rLnrUn71lz16tE9igZc/esufvWpP3rLn716lE9mgZc/esuetSfvWXPXqUT2aBBHVuOqkdW462me3hi1HVqOqsdWo65Jnv4YtR1ajqrHVqOuWZ72GLUdWV+7VaOrK/drlqbHvYcaaYaeaYa8bEnYiNqjapGqNq8HEmqI2qM1I1RmvAxJqiM179XgJr36sMFvL5fqfF8Z/8uP8At7/20KKKK7z4cKKKKAPCIK1IKy4K1IK+QrH7NXNSDtWpb9qy4O1alv2ry6x4tc1LftWpb9qy7ftWpb9q8qseNXNS37Vop9ys637Vop9yvMq7ni1yGSqslWpKqyU4HhYkqyVVkq1JVWSuqB4OJKslVJKtyVUkrqgeDiSrJTBT5KYK7aW54lXceKkWoxUi17eHOZki1IKjWpBXvYcyZIKkFRipBXv4czYrfcNZ8/etBvuGs+fvXt0S6O5lz96y561J+9Zc9erRPYoGXP3rLn71qT96y5+9epRPZoGXP3rLnrUn71lz16lE9mgQR1bjqpHVuOtpnt4YtR1ajqrHVqOuSZ7+GLUdWo6qx1ajrlme9hi1HVlfu1Wjqyv3a5amx72HGmmGnmmGvGxJ2Ijao2qRqjavBxJqiNqjNSNUZrwMSaojNe/V4Ca9+rDBby+X6nxfGf8Ay4/7e/8AbQooorvPhwooooA8IgrUgrLgrUgr5Csfs1c1IO1alv2rLg7VqW/avLrHi1zUt+1alv2rLt+1alv2ryqx41c1LftWin3KzrftWin3K8yrueLXIZKqyVakqrJTgeFiSrJVWSrUlVZK6oHg4kqyVUkq3JVSSuqB4OJKslMFPkpgrtpbniVdx4qRajFSLXt4c5mSLUgqNakFe9hzJkgqQVGKkFe/hzNit9w1nz960G+4az5+9e3RLo7mXP3rLnrUn71lz16tE9igZc/esufvWpP3rLn716lE9mgZc/esuetSfvWXPXqUT2aBBHVuOqkdW462me3hi1HVqOqsdWo65Jnv4YtR1ajqrHVqOuWZ72GLUdWV+7VaOrK/drlqbHvYcaaYaeaYa8bEnYiNqjapGqNq8HEmqI2qM1I1RmvAxJqiM179XgJr36sMFvL5fqfF8Z/8uP8At7/20KKKK7z4cKKKKAPCIK1IKy4K1IK+QrH7NXNSDtWpb9qy4O1alv2ry6x4tc1LftWpb9qy7ftWpb9q8qseNXNS37Vop9ys637Vop9yvMq7ni1yGSqslWpKqyU4HhYkqyVVkq1JVWSuqB4OJKslVJKtyVUkrqgeDiSrJTBT5KYK7aW54lXceKkWoxUi17eHOZki1IKjWpBXvYcyZIKkFRipBXv4czYrfcNZ8/etBvuGs+fvXt0S6O5lz96y561J+9Zc9erRPYoGXP3rLn71qT96y5+9epRPZoGXP3rLnrUn71lz16lE9mgQR1bjqpHVuOtpnt4YtR1ajqrHVqOuSZ7+GLUdWo6qx1ajrlme9hi1HVlfu1Wjqyv3a5amx72HGmmGnmmGvGxJ2Ijao2qRqjavBxJqiNqjNSNUZrwMSaojNe/V4Ca9+rDBby+X6nxfGf8Ay4/7e/8AbQooorvPhwooooA8IgrUgrLgrUgr5Csfs1c1IO1alv2rLg7VqW/avLrHi1zUt+1alv2rLt+1alv2ryqx41c1LftWin3KzrftWin3K8yrueLXIZKqyVakqrJTgeFiSrJVWSrUlVZK6oHg4kqyVUkq3JVSSuqB4OJKslMFPkpgrtpbniVdx4qRajFSLXt4c5mSLUgqNakFe9hzJkgqQVGKkFe/hzNit9w1nz960G+4az5+9e3RLo7mXP3rLnrUn71lz16tE9igZc/esufvWpP3rLn716lE9mgZc/esuetSfvWXPXqUT2aBBHVuOqkdW462me3hi1HVqOqsdWo65Jnv4YtR1ajqrHVqOuWZ72GLUdWV+7VaOrK/drlqbHvYcaaYaeaYa8bEnYiNqjapGqNq8HEmqI2qM1I1RmvAxJqiM179XgJr36sMFvL5fqfF8Z/8uP8At7/20KKKK7z4cKKKKAPCIK1IKy4K1IK+QrH7NXNSDtWpb9qy4O1alv2ry6x4tc1LftWpb9qy7ftWpb9q8qseNXNS37Vop9ys637Vop9yvMq7ni1yGSqslWpKqyU4HhYkqyVVkq1JVWSuqB4OJKslVJKtyVUkrqgeDiSrJTBT5KYK7aW54lXceKkWoxUi17eHOZki1IKjWpBXvYcyZIKkFRipBXv4czYrfcNZ8/etBvuGs+fvXt0S6O5lz96y561J+9Zc9erRPYoGXP3rLn71qT96y5+9epRPZoGXP3rLnrUn71lz16lE9mgQR1bjqpHVuOtpnt4YtR1ajqrHVqOuSZ7+GLUdWo6qx1ajrlme9hi1HVlfu1Wjqyv3a5amx72HGmmGnmmGvGxJ2Ijao2qRqjavBxJqiNqjNSNUZrwMSaojNe/V4Ca9+rDBby+X6nxfGf8Ay4/7e/8AbQooorvPhwooooA8IgrUgrLgrUgr5Csfs1c1IO1alv2rLg7VqW/avLrHi1zUt+1alv2rLt+1alv2ryqx41c1LftWin3KzrftWin3K8yrueLXIZKqyVakqrJTgeFiSrJVWSrUlVZK6oHg4kqyVUkq3JVSSuqB4OJKslMFPkpgrtpbniVdx4qRajFSLXt4c5mSLUgqNakFe9hzJkgqQVGKkFe/hzNit9w1nz960G+4az5+9e3RLo7mXP3rLnrUn71lz16tE9igZc/esufvWpP3rLn716lE9mgZc/esuetSfvWXPXqUT2aBBHVuOqkdW462me3hi1HVqOqsdWo65Jnv4YtR1ajqrHVqOuWZ72GLUdWV+7VaOrK/drlqbHvYcaaYaeaYa8bEnYiNqjapGqNq8HEmqI2qM1I1RmvAxJqiM179XgJr36sMFvL5fqfF8Z/8uP8At7/20KKKK7z4cKKKKAPCIK1IKy4K1IK+QrH7NXNSDtWpb9qy4O1alv2ry6x4tc1LftWpb9qy7ftWpb9q8qseNXNS37Vop9ys637Vop9yvMq7ni1yGSqslWpKqyU4HhYkqyVVkq1JVWSuqB4OJKslVJKtyVUkrqgeDiSrJTBT5KYK7aW54lXceKkWoxUi17eHOZki1IKjWpBXvYcyZIKkFRipBXv4czYrfcNZ8/etBvuGs+fvXt0S6O5lz96y561J+9Zc9erRPYoGXP3rLn71qT96y5+9epRPZoGXP3rLnrUn71lz16lE9mgQR1bjqpHVuOtpnt4YtR1ajqrHVqOuSZ7+GLUdWo6qx1ajrlme9hi1HVlfu1Wjqyv3a5amx72HGmmGnmmGvGxJ2Ijao2qRqjavBxJqiNqjNSNUZrwMSaojNe/V4Ca9+rDBby+X6nxfGf8Ay4/7e/8AbQooorvPhwooooA8IgrUgrLgrUgr5Csfs1c1IO1alv2rLg7VqW/avLrHi1zUt+1alv2rLt+1alv2ryqx41c1LftWin3KzrftWin3K8yrueLXIZKqyVakqrJTgeFiSrJVWSrUlVZK6oHg4kqyVUkq3JVSSuqB4OJKslMFPkpgrtpbniVdx4qRajFSLXt4c5mSLUgqNakFe9hzJkgqQVGKkFe/hzNit9w1nz960G+4az5+9e3RLo7mXP3rLnrUn71lz16tE9igZc/esufvWpP3rLn716lE9mgZc/esuetSfvWXPXqUT2aBBHVuOqkdW462me3hi1HVqOqsdWo65Jnv4YtR1ajqrHVqOuWZ72GLUdWV+7VaOrK/drlqbHvYcaaYaeaYa8bEnYiNqjapGqNq8HEmqI2qM1I1RmvAxJqiM179XgJr36sMFvL5fqfF8Z/8uP8At7/20KKKK7z4cKKKKAPCIK1IKy4K1IK+QrH7NXNSDtWpb9qy4O1alv2ry6x4tc1LftWpb9qy7ftWpb9q8qseNXNS37Vop9ys637Vop9yvMq7ni1yGSqslWpKqyU4HhYkqyVVkq1JVWSuqB4OJKslVJKtyVUkrqgeDiSrJTBT5KYK7aW54lXceKkWoxUi17eHOZki1IKjWpBXvYcyZIKkFRipBXv4czYrfcNZ8/etBvuGs+fvXt0S6O5lz96y561J+9Zc9erRPYoGXP3rLn71qT96y5+9epRPZoGXP3rLnrUn71lz16lE9mgQR1bjqpHVuOtpnt4YtR1ajqrHVqOuSZ7+GLUdWo6qx1ajrlme9hi1HVlfu1Wjqyv3a5amx72HGmmGnmmGvGxJ2Ijao2qRqjavBxJqiNqjNSNUZrwMSaojNe/V4Ca9+rDBby+X6nxfGf8Ay4/7e/8AbQooorvPhwooooA8IgrUgrLgrUgr5Csfs1c1IO1alv2rLg7VqW/avLrHi1zUt+1alv2rLt+1alv2ryqx41c1LftWin3KzrftWin3K8yrueLXIZKqyVakqrJTgeFiSrJVWSrUlVZK6oHg4kqyVUkq3JVSSuqB4OJKslMFPkpgrtpbniVdx4qRajFSLXt4c5mSLUgqNakFe9hzJkgqQVGKkFe/hzNit9w1nz960G+4az5+9e3RLo7mXP3rLnrUn71lz16tE9igZc/esufvWpP3rLn716lE9mgZc/esuetSfvWXPXqUT2aBBHVuOqkdW462me3hi1HVqOqsdWo65Jnv4YtR1ajqrHVqOuWZ72GLUdWV+7VaOrK/drlqbHvYcaaYaeaYa8bEnYiNqjapGqNq8HEmqI2qM1I1RmvAxJqiM179XgJr36sMFvL5fqfF8Z/8uP8At7/20KKKK7z4cKKKKAPCIK1IKy4K1IK+QrH7NXNSDtWpb9qy4O1alv2ry6x4tc1LftWpb9qy7ftWpb9q8qseNXNS37Vop9ys637Vop9yvMq7ni1yGSqslWpKqyU4HhYkqyVVkq1JVWSuqB4OJKslVJKtyVUkrqgeDiSrJTBT5KYK7aW54lXceKkWoxUi17eHOZki1IKjWpBXvYcyZIKkFRipBXv4czYrfcNZ8/etBvuGs+fvXt0S6O5lz96y561J+9Zc9erRPYoGXP3rLn71qT96y5+9epRPZoGXP3rLnrUn71lz16lE9mgQR1bjqpHVuOtpnt4YtR1ajqrHVqOuSZ7+GLUdWo6qx1ajrlme9hi1HVlfu1Wjqyv3a5amx72HGmmGnmmGvGxJ2Ijao2qRqjavBxJqiNqjNSNUZrwMSaojNe/V4Ca9+rDBby+X6nxfGf8Ay4/7e/8AbQooorvPhwooooA8IgrUgrLgrUgr5Csfs1c1IO1alv2rLg7VqW/avLrHi1zUt+1alv2rLt+1alv2ryqx41c1LftWin3KzrftWin3K8yrueLXIZKqyVakqrJTgeFiSrJVWSrUlVZK6oHg4kqyVUkq3JVSSuqB4OJKslMFPkpgrtpbniVdx4qRajFSLXt4c5mSLUgqNakFe9hzJkgqQVGKkFe/hzNit9w1nz960G+4az5+9e3RLo7mXP3rLnrUn71lz16tE9igZc/esufvWpP3rLn716lE9mgZc/esuetSfvWXPXqUT2aBBHVuOqkdW462me3hi1HVqOqsdWo65Jnv4YtR1ajqrHVqOuWZ72GLUdWV+7VaOrK/drlqbHvYcaaYaeaYa8bEnYiNqjapGqNq8HEmqI2qM1I1RmvAxJqiM179XgJr36sMFvL5fqfF8Z/8uP8At7/20KKKK7z4cKKKKAPCIK1IKy4K1IK+QrH7NXNSDtWpb9qy4O1alv2ry6x4tc1LftWpb9qy7ftWpb9q8qseNXNS37Vop9ys637Vop9yvMq7ni1yGSqslWpKqyU4HhYkqyVVkq1JVWSuqB4OJKslVJKtyVUkrqgeDiSrJTBT5KYK7aW54lXceKkWoxUi17eHOZki1IKjWpBXvYcyZIKkFRipBXv4czYrfcNZ8/etBvuGs+fvXt0S6O5lz96y561J+9Zc9erRPYoGXP3rLn71qT96y5+9epRPZoGXP3rLnrUn71lz16lE9mgQR1bjqpHVuOtpnt4YtR1ajqrHVqOuSZ7+GLUdWo6qx1ajrlme9hi1HVlfu1Wjqyv3a5amx72HGmmGnmmGvGxJ2Ijao2qRqjavBxJqiNqjNSNUZrwMSaojNe/V4Ca9+rDBby+X6nxfGf8Ay4/7e/8AbQooorvPhwooooA8IgrUgrLgrUgr5Csfs1c1IO1alv2rLg7VqW/avLrHi1zUt+1alv2rLt+1alv2ryqx41c1LftWin3KzrftWin3K8yrueLXIZKqyVakqrJTgeFiSrJVWSrUlVZK6oHg4kqyVUkq3JVSSuqB4OJKslMFPkpgrtpbniVdx4qRajFSLXt4c5mSLUgqNakFe9hzJkgqQVGKkFe/hzNit9w1nz960G+4az5+9e3RLo7mXP3rLnrUn71lz16tE9igZc/esufvWpP3rLn716lE9mgZc/esuetSfvWXPXqUT2aBBHVuOqkdW462me3hi1HVqOqsdWo65Jnv4YtR1ajqrHVqOuWZ72GLUdWV+7VaOrK/drlqbHvYcaaYaeaYa8bEnYiNqjapGqNq8HEmqI2qM1I1RmvAxJqiM179XgJr36sMFvL5fqfF8Z/8uP8At7/20KKKK7z4cKKKKAPCIK1IKy4K1IK+QrH7NXNSDtWpb9qy4O1alv2ry6x4tc1LftWpb9qy7ftWpb9q8qseNXNS37Vop9ys637Vop9yvMq7ni1yGSqslWpKqyU4HhYkqyVVkq1JVWSuqB4OJKslVJKtyVUkrqgeDiSrJTBT5KYK7aW54lXceKkWoxUi17eHOZki1IKjWpBXvYcyZIKkFRipBXv4czYrfcNZ8/etBvuGs+fvXt0S6O5lz96y561J+9Zc9erRPYoGXP3rLn71qT96y5+9epRPZoGXP3rLnrUn71lz16lE9mgQR1bjqpHVuOtpnt4YtR1ajqrHVqOuSZ7+GLUdWo6qx1ajrlme9hi1HVlfu1Wjqyv3a5amx72HGmmGnmmGvGxJ2Ijao2qRqjavBxJqiNqjNSNUZrwMSaojNe/V4Ca9+rDBby+X6nxfGf8Ay4/7e/8AbQooorvPhwooooA8IgrUgrLgrUgr5Csfs1c1IO1alv2rLg7VqW/avLrHi1zUt+1alv2rLt+1alv2ryqx41c1LftWin3KzrftWin3K8yrueLXIZKqyVakqrJTgeFiSrJVWSrUlVZK6oHg4kqyVUkq3JVSSuqB4OJKslMFPkpgrtpbniVdx4qRajFSLXt4c5mSLUgqNakFe9hzJkgqQVGKkFe/hzNit9w1nz960G+4az5+9e3RLo7mXP3rLnrUn71lz16tE9igZc/esufvWpP3rLn716lE9mgZc/esuetSfvWXPXqUT2aBBHVuOqkdW462me3hi1HVqOqsdWo65Jnv4YtR1ajqrHVqOuWZ72GLUdWV+7VaOrK/drlqbHvYcaaYaeaYa8bEnYiNqjapGqNq8HEmqI2qM1I1RmvAxJqiM179XgJr36sMFvL5fqfF8Z/8uP8At7/20KKKK7z4cKKKKAPCIK1IKy4K1IK+QrH7NXNSDtWpb9qy4O1alv2ry6x4tc1LftWpb9qy7ftWpb9q8qseNXNS37Vop9ys637Vop9yvMq7ni1yGSqslWpKqyU4HhYkqyVVkq1JVWSuqB4OJKslVJKtyVUkrqgeDiSrJTBT5KYK7aW54lXceKkWoxUi17eHOZki1IKjWpBXvYcyZIKkFRipBXv4czYrfcNZ8/etBvuGs+fvXt0S6O5lz96y561J+9Zc9erRPYoGXP3rLn71qT96y5+9epRPZoGXP3rLnrUn71lz16lE9mgQR1bjqpHVuOtpnt4YtR1ajqrHVqOuSZ7+GLUdWo6qx1ajrlme9hi1HVlfu1Wjqyv3a5amx72HGmmGnmmGvGxJ2Ijao2qRqjavBxJqiNqjNSNUZrwMSaojNe/V4Ca9+rDBby+X6nxfGf8Ay4/7e/8AbQooorvPhwooooA8IgrUgrLgrUgr5Csfs1c1IO1alv2rLg7VqW/avLrHi1zUt+1alv2rLt+1alv2ryqx41c1LftWin3KzrftWin3K8yrueLXIZKqyVakqrJTgeFiSrJVWSrUlVZK6oHg4kqyVUkq3JVSSuqB4OJKslMFPkpgrtpbniVdx4qRajFSLXt4c5mSLUgqNakFe9hzJkgqQVGKkFe/hzNit9w1nz960G+4az5+9e3RLo7mXP3rLnrUn71lz16tE9igZc/esufvWpP3rLn716lE9mgZc/esuetSfvWXPXqUT2aBBHVuOqkdW462me3hi1HVqOqsdWo65Jnv4YtR1ajqrHVqOuWZ72GLUdWV+7VaOrK/drlqbHvYcaaYaeaYa8bEnYiNqjapGqNq8HEmqI2qM1I1RmvAxJqiM179XgJr36sMFvL5fqfF8Z/8uP8At7/20KKKK7z4cKKKKAPCIK1IKy4K1IK+QrH7NXNSDtWpb9qy4O1alv2ry6x4tc1LftWpb9qy7ftWpb9q8qseNXNS37Vop9ys637Vop9yvMq7ni1yGSqslWpKqyU4HhYkqyVVkq1JVWSuqB4OJKslVJKtyVUkrqgeDiSrJTBT5KYK7aW54lXceKkWoxUi17eHOZki1IKjWpBXvYcyZIKkFRipBXv4czYrfcNZ8/etBvuGs+fvXt0S6O5lz96y561J+9Zc9erRPYoGXP3rLn71qT96y5+9epRPZoGXP3rLnrUn71lz16lE9mgQR1bjqpHVuOtpnt4YtR1ajqrHVqOuSZ7+GLUdWo6qx1ajrlme9hi1HVlfu1Wjqyv3a5amx72HGmmGnmmGvGxJ2Ijao2qRqjavBxJqiNqjNSNUZrwMSaojNe/V4Ca9+rDBby+X6nxfGf8Ay4/7e/8AbQooorvPhwooooA//9k=\n"
          },
          "metadata": {},
          "execution_count": 30
        }
      ]
    },
    {
      "cell_type": "code",
      "source": [],
      "metadata": {
        "id": "562ym82oxQFS"
      },
      "execution_count": 30,
      "outputs": []
    },
    {
      "cell_type": "code",
      "source": [
        "img = None\n",
        "\n",
        "\n",
        "def setup():\n",
        "    global img\n",
        "    py5.size(800, 450)\n",
        "\n",
        "    # Cargar imagen (colocar una imagen en la carpeta del proyecto)\n",
        "    try:\n",
        "        img = py5.load_image(\"img/imagen.jpg\")  # Cambiar por imagen disponible\n",
        "    except Exception as e:\n",
        "        print(f\"Error loading image: {e}\")\n",
        "        img = None\n",
        "\n",
        "\n",
        "def draw():\n",
        "    if img:\n",
        "        # Mostrar imagen original\n",
        "        py5.image(img, 0, 0, 400, 400)\n",
        "\n",
        "        # Mostrar imagen redimensionada\n",
        "        py5.image(img, 400, 0, 200, 200)\n",
        "\n",
        "        # Información de la imagen\n",
        "        py5.fill(0)\n",
        "        py5.text(f\"Original: {img.width} x {img.height}\\nRedimensionada: 200 x 200\", 10, 10)"
      ],
      "metadata": {
        "id": "lT20xDqdxQjz"
      },
      "execution_count": 32,
      "outputs": []
    },
    {
      "cell_type": "code",
      "source": [],
      "metadata": {
        "id": "z32gcZmFzB1T"
      },
      "execution_count": null,
      "outputs": []
    },
    {
      "cell_type": "code",
      "source": [
        "def setup():\n",
        "    py5.size(400, 400)\n",
        "    py5.load_pixels()\n",
        "\n",
        "    # Crear un patrón de píxeles\n",
        "    for x in range(py5.width):\n",
        "        for y in range(py5.height):\n",
        "            # Calcular índice en el array de píxeles\n",
        "            index = x + y * py5.width\n",
        "\n",
        "            # Crear patrón de colores\n",
        "            r = (x * 255) // py5.width\n",
        "            g = (y * 255) // py5.height\n",
        "            b = 128\n",
        "\n",
        "            py5.pixels[index] = py5.color(r, g, b)\n",
        "\n",
        "    py5.update_pixels()\n",
        "\n",
        "\n",
        "py5.run_sketch()"
      ],
      "metadata": {
        "id": "Ei2KyJEjzBsr",
        "colab": {
          "base_uri": "https://localhost:8080/"
        },
        "outputId": "5124d82d-85f9-48a4-f418-72bbe6d1d9eb"
      },
      "execution_count": 33,
      "outputs": [
        {
          "output_type": "stream",
          "name": "stderr",
          "text": [
            "Sketch is already running. To run a new sketch, exit the running sketch first.\n"
          ]
        }
      ]
    },
    {
      "cell_type": "code",
      "source": [],
      "metadata": {
        "id": "nPLNq24CzhTD"
      },
      "execution_count": null,
      "outputs": []
    },
    {
      "cell_type": "code",
      "source": [
        "img = None\n",
        "\n",
        "\n",
        "def setup():\n",
        "    global img\n",
        "    py5.size(400, 400)\n",
        "    py5.background(255)\n",
        "\n",
        "    # Verificar que la imagen existe\n",
        "    try:\n",
        "        img = py5.load_image(\"img/imagen.jpg\")\n",
        "    except:\n",
        "        print(\"⚠️  Error: Coloca una imagen en la carpeta 'img/imagen.jpg'\")\n",
        "        return\n",
        "\n",
        "    # Procesar imagen en setup DESPUÉS de configurar el contexto\n",
        "    if img is not None:\n",
        "        procesar_imagen()\n",
        "\n",
        "\n",
        "def procesar_imagen():\n",
        "    \"\"\"Procesa la imagen invirtiendo colores\"\"\"\n",
        "    global im"
      ],
      "metadata": {
        "id": "jOzgzGY7zhAL"
      },
      "execution_count": 34,
      "outputs": []
    },
    {
      "cell_type": "code",
      "source": [],
      "metadata": {
        "id": "QWDLPwNU0Uc7"
      },
      "execution_count": null,
      "outputs": []
    },
    {
      "cell_type": "code",
      "source": [
        "# Crear un filtro que solo muestre un canal de color\n",
        "import py5\n",
        "\n",
        "img = None\n",
        "\n",
        "\n",
        "def setup():\n",
        "    global img\n",
        "    py5.size(600, 200)\n",
        "    img = py5.create_image(200, 200, py5.RGB)\n",
        "\n",
        "    # Crear imagen de prueba\n",
        "    img.load_pixels()\n",
        "    for i in range(len(img.pixels)):\n",
        "        img.pixels[i] = py5.color(py5.random(255), py5.random(255), py5.random(255))\n",
        "    img.update_pixels()\n",
        "def draw():\n",
        "    # Imagen original\n",
        "    py5.image(img, 0, 0)\n",
        "\n",
        "    # Solo canal rojo\n",
        "    py5.tint(255, 0, 0)\n",
        "    py5.image(img, 200, 0)\n",
        "\n",
        "    # Solo canal verde\n",
        "    py5.tint(0, 255, 0)\n",
        "    py5.image(img, 400, 0)\n",
        "\n",
        "    py5.no_tint()\n",
        "\n",
        "\n",
        "py5.run_sketch()"
      ],
      "metadata": {
        "id": "VRm4LEE10UQs",
        "colab": {
          "base_uri": "https://localhost:8080/"
        },
        "outputId": "c96ba2ad-b72c-4750-85da-2bdbf22a7bea"
      },
      "execution_count": 35,
      "outputs": [
        {
          "output_type": "stream",
          "name": "stderr",
          "text": [
            "Sketch is already running. To run a new sketch, exit the running sketch first.\n"
          ]
        }
      ]
    },
    {
      "cell_type": "code",
      "source": [],
      "metadata": {
        "id": "Kim8kkjk19c7"
      },
      "execution_count": null,
      "outputs": []
    },
    {
      "cell_type": "code",
      "source": [
        "# Verificar instalación\n",
        "import py5\n",
        "\n",
        "\n",
        "def setup():\n",
        "    py5.size(400, 300)\n",
        "    py5.background(255)\n",
        "    print(\"py5 funcionando correctamente\")\n",
        "\n",
        "\n",
        "def draw():\n",
        "    py5.background(255)  # Limpiar el fondo en cada frame\n",
        "\n",
        "    # Solo dibujar el círculo si el mouse está dentro de la ventana\n",
        "    if 0 <= py5.mouse_x <= py5.width and 0 <= py5.mouse_y <= py5.height:\n",
        "        py5.fill(255, 0, 0)\n",
        "        py5.circle(py5.mouse_x, py5.mouse_y, 20)\n",
        "\n",
        "\n",
        "py5.run_sketch()\n",
        "import py5\n",
        "\n",
        "\n",
        "def setup():\n",
        "    py5.size(400, 400)\n",
        "\n",
        "\n",
        "def draw():\n",
        "    img = py5.load_image(\"img/imagen.jpg\")\n",
        "    py5.image(img, 0, 0, 400, 400)  # Especificar el tamaño de la imagen\n",
        "    py5.apply_filter(py5.THRESHOLD, 0.8)\n",
        "\n",
        "\n",
        "py5.run_sketch()"
      ],
      "metadata": {
        "id": "rpF4KohJ19TM",
        "colab": {
          "base_uri": "https://localhost:8080/"
        },
        "outputId": "c3e1ab04-efb3-45bc-ffff-d87a8b4b4a59"
      },
      "execution_count": 36,
      "outputs": [
        {
          "output_type": "stream",
          "name": "stderr",
          "text": [
            "Sketch is already running. To run a new sketch, exit the running sketch first.\n",
            "Sketch is already running. To run a new sketch, exit the running sketch first.\n"
          ]
        }
      ]
    }
  ],
  "metadata": {
    "colab": {
      "provenance": []
    },
    "kernelspec": {
      "display_name": "Python 3",
      "name": "python3"
    },
    "language_info": {
      "name": "python"
    },
        },
        "12f636ebe5614a899f1cd813f6142876": {
          "model_module": "@jupyter-widgets/base",
          "model_name": "LayoutModel",
          "model_module_version": "1.2.0",
          "state": {
            "_model_module": "@jupyter-widgets/base",
            "_model_module_version": "1.2.0",
            "_model_name": "LayoutModel",
            "_view_count": null,
            "_view_module": "@jupyter-widgets/base",
            "_view_module_version": "1.2.0",
            "_view_name": "LayoutView",
            "align_content": null,
            "align_items": null,
            "align_self": null,
            "border": null,
            "bottom": null,
            "display": null,
            "flex": null,
            "flex_flow": null,
            "grid_area": null,
            "grid_auto_columns": null,
            "grid_auto_flow": null,
            "grid_auto_rows": null,
            "grid_column": null,
            "grid_gap": null,
            "grid_row": null,
            "grid_template_areas": null,
            "grid_template_columns": null,
            "grid_template_rows": null,
            "height": null,
            "justify_content": null,
            "justify_items": null,
            "left": null,
            "margin": null,
            "max_height": "200px",
            "max_width": null,
            "min_height": null,
            "min_width": null,
            "object_fit": null,
            "object_position": null,
            "order": null,
            "overflow": "auto",
            "overflow_x": null,
            "overflow_y": null,
            "padding": null,
            "right": null,
            "top": null,
            "visibility": null,
            "width": null
          }
        },
        "c54eb3d21d8f4563bbd16d4e2f7f1147": {
          "model_module": "@jupyter-widgets/output",
          "model_name": "OutputModel",
          "model_module_version": "1.0.0",
          "state": {
            "_dom_classes": [],
            "_model_module": "@jupyter-widgets/output",
            "_model_module_version": "1.0.0",
            "_model_name": "OutputModel",
            "_view_count": null,
            "_view_module": "@jupyter-widgets/output",
            "_view_module_version": "1.0.0",
            "_view_name": "OutputView",
            "layout": "IPY_MODEL_11d0fd7038e944e68a078252b42ac953",
            "msg_id": "",
            "outputs": []
          }
        },
        "11d0fd7038e944e68a078252b42ac953": {
          "model_module": "@jupyter-widgets/base",
          "model_name": "LayoutModel",
          "model_module_version": "1.2.0",
          "state": {
            "_model_module": "@jupyter-widgets/base",
            "_model_module_version": "1.2.0",
            "_model_name": "LayoutModel",
            "_view_count": null,
            "_view_module": "@jupyter-widgets/base",
            "_view_module_version": "1.2.0",
            "_view_name": "LayoutView",
            "align_content": null,
            "align_items": null,
            "align_self": null,
            "border": null,
            "bottom": null,
            "display": null,
            "flex": null,
            "flex_flow": null,
            "grid_area": null,
            "grid_auto_columns": null,
            "grid_auto_flow": null,
            "grid_auto_rows": null,
            "grid_column": null,
            "grid_gap": null,
            "grid_row": null,
            "grid_template_areas": null,
            "grid_template_columns": null,
            "grid_template_rows": null,
            "height": null,
            "justify_content": null,
            "justify_items": null,
            "left": null,
            "margin": null,
            "max_height": "200px",
            "max_width": null,
            "min_height": null,
            "min_width": null,
            "object_fit": null,
            "object_position": null,
            "order": null,
            "overflow": "auto",
            "overflow_x": null,
            "overflow_y": null,
            "padding": null,
            "right": null,
            "top": null,
            "visibility": null,
            "width": null
          }
        },
        "237e3dddb7b7495ebd0e9ffb4e102f65": {
          "model_module": "@jupyter-widgets/output",
          "model_name": "OutputModel",
          "model_module_version": "1.0.0",
          "state": {
            "_dom_classes": [],
            "_model_module": "@jupyter-widgets/output",
            "_model_module_version": "1.0.0",
            "_model_name": "OutputModel",
            "_view_count": null,
            "_view_module": "@jupyter-widgets/output",
            "_view_module_version": "1.0.0",
            "_view_name": "OutputView",
            "layout": "IPY_MODEL_ec63143ca03e427f9a495c509e130cbe",
            "msg_id": "",
            "outputs": []
          }
        },
        "ec63143ca03e427f9a495c509e130cbe": {
          "model_module": "@jupyter-widgets/base",
          "model_name": "LayoutModel",
          "model_module_version": "1.2.0",
          "state": {
            "_model_module": "@jupyter-widgets/base",
            "_model_module_version": "1.2.0",
            "_model_name": "LayoutModel",
            "_view_count": null,
            "_view_module": "@jupyter-widgets/base",
            "_view_module_version": "1.2.0",
            "_view_name": "LayoutView",
            "align_content": null,
            "align_items": null,
            "align_self": null,
            "border": null,
            "bottom": null,
            "display": null,
            "flex": null,
            "flex_flow": null,
            "grid_area": null,
            "grid_auto_columns": null,
            "grid_auto_flow": null,
            "grid_auto_rows": null,
            "grid_column": null,
            "grid_gap": null,
            "grid_row": null,
            "grid_template_areas": null,
            "grid_template_columns": null,
            "grid_template_rows": null,
            "height": null,
            "justify_content": null,
            "justify_items": null,
            "left": null,
            "margin": null,
            "max_height": "200px",
            "max_width": null,
            "min_height": null,
            "min_width": null,
            "object_fit": null,
            "object_position": null,
            "order": null,
            "overflow": "auto",
            "overflow_x": null,
            "overflow_y": null,
            "padding": null,
            "right": null,
            "top": null,
            "visibility": null,
            "width": null
          }
        },
        "7de16b54447d4df490b79f1e8871194a": {
          "model_module": "@jupyter-widgets/output",
          "model_name": "OutputModel",
          "model_module_version": "1.0.0",
          "state": {
            "_dom_classes": [],
            "_model_module": "@jupyter-widgets/output",
            "_model_module_version": "1.0.0",
            "_model_name": "OutputModel",
            "_view_count": null,
            "_view_module": "@jupyter-widgets/output",
            "_view_module_version": "1.0.0",
            "_view_name": "OutputView",
            "layout": "IPY_MODEL_b51ff2a998b944da908ef62d0298201d",
            "msg_id": "",
            "outputs": []
          }
        },
        "b51ff2a998b944da908ef62d0298201d": {
          "model_module": "@jupyter-widgets/base",
          "model_name": "LayoutModel",
          "model_module_version": "1.2.0",
          "state": {
            "_model_module": "@jupyter-widgets/base",
            "_model_module_version": "1.2.0",
            "_model_name": "LayoutModel",
            "_view_count": null,
            "_view_module": "@jupyter-widgets/base",
            "_view_module_version": "1.2.0",
            "_view_name": "LayoutView",
            "align_content": null,
            "align_items": null,
            "align_self": null,
            "border": null,
            "bottom": null,
            "display": null,
            "flex": null,
            "flex_flow": null,
            "grid_area": null,
            "grid_auto_columns": null,
            "grid_auto_flow": null,
            "grid_auto_rows": null,
            "grid_column": null,
            "grid_gap": null,
            "grid_row": null,
            "grid_template_areas": null,
            "grid_template_columns": null,
            "grid_template_rows": null,
            "height": null,
            "justify_content": null,
            "justify_items": null,
            "left": null,
            "margin": null,
            "max_height": "200px",
            "max_width": null,
            "min_height": null,
            "min_width": null,
            "object_fit": null,
            "object_position": null,
            "order": null,
            "overflow": "auto",
            "overflow_x": null,
            "overflow_y": null,
            "padding": null,
            "right": null,
            "top": null,
            "visibility": null,
            "width": null
          }
        },
        "0bb04a8b7fd24f5298de546658c75e8a": {
          "model_module": "@jupyter-widgets/output",
          "model_name": "OutputModel",
          "model_module_version": "1.0.0",
          "state": {
            "_dom_classes": [],
            "_model_module": "@jupyter-widgets/output",
            "_model_module_version": "1.0.0",
            "_model_name": "OutputModel",
            "_view_count": null,
            "_view_module": "@jupyter-widgets/output",
            "_view_module_version": "1.0.0",
            "_view_name": "OutputView",
            "layout": "IPY_MODEL_ad6496a554bd481ab834dc29e2183f5e",
            "msg_id": "",
            "outputs": []
          }
        },
        "ad6496a554bd481ab834dc29e2183f5e": {
          "model_module": "@jupyter-widgets/base",
          "model_name": "LayoutModel",
          "model_module_version": "1.2.0",
          "state": {
            "_model_module": "@jupyter-widgets/base",
            "_model_module_version": "1.2.0",
            "_model_name": "LayoutModel",
            "_view_count": null,
            "_view_module": "@jupyter-widgets/base",
            "_view_module_version": "1.2.0",
            "_view_name": "LayoutView",
            "align_content": null,
            "align_items": null,
            "align_self": null,
            "border": null,
            "bottom": null,
            "display": null,
            "flex": null,
            "flex_flow": null,
            "grid_area": null,
            "grid_auto_columns": null,
            "grid_auto_flow": null,
            "grid_auto_rows": null,
            "grid_column": null,
            "grid_gap": null,
            "grid_row": null,
            "grid_template_areas": null,
            "grid_template_columns": null,
            "grid_template_rows": null,
            "height": null,
            "justify_content": null,
            "justify_items": null,
            "left": null,
            "margin": null,
            "max_height": "200px",
            "max_width": null,
            "min_height": null,
            "min_width": null,
            "object_fit": null,
            "object_position": null,
            "order": null,
            "overflow": "auto",
            "overflow_x": null,
            "overflow_y": null,
            "padding": null,
            "right": null,
            "top": null,
            "visibility": null,
            "width": null
          }
        }
      }
    }
  },
  "nbformat": 4,
  "nbformat_minor": 0
}
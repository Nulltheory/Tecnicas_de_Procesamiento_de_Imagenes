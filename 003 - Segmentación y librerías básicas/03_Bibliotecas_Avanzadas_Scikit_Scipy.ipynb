{
 "nbformat": 4,
 "nbformat_minor": 0,
 "metadata": {
  "colab": {
   "provenance": [
    {
     "file_id": "1BkY_EM50A3XRuIP03cdPRFhErdesgXoA",
     "timestamp": 1756858623205
    }
   ]
  },
  "kernelspec": {
   "name": "python3",
   "display_name": "Python 3"
  },
  "language_info": {
   "name": "python"
  }
 },
 "cells": [
  {
   "cell_type": "markdown",
   "source": [
    "#Procesamiento de Im\u00e1genes con scikit-image y scipy"
   ],
   "metadata": {
    "id": "VVwVSK0v28Dd"
   }
  },
  {
   "cell_type": "markdown",
   "source": [
    "###Objetivo: Aprender a leer, convertir y manipular im\u00e1genes usando scikit-image y scipy, con \u00e9nfasis en espacios de color, formatos y estructuras de datos."
   ],
   "metadata": {
    "id": "Kfkufffv2-p7"
   }
  },
  {
   "cell_type": "markdown",
   "source": [
    "##1. Configuraci\u00f3n Inicial"
   ],
   "metadata": {
    "id": "Sd2Ti3Gd3Efh"
   }
  },
  {
   "cell_type": "code",
   "execution_count": null,
   "metadata": {
    "id": "b_EkPE7q21i6"
   },
   "outputs": [],
   "source": [
    "!pip install scikit-image scipy --quiet  # Instalar si es necesario\n",
    "from skimage import io, color, data\n",
    "from scipy import misc\n",
    "import numpy as np\n",
    "import matplotlib.pyplot as plt\n",
    "from PIL import Image\n",
    "from google.colab import files"
   ]
  },
  {
   "cell_type": "markdown",
   "source": [
    "##2. Lectura y Visualizaci\u00f3n de Im\u00e1genes\n",
    "\n",
    "A. Usando scikit-image"
   ],
   "metadata": {
    "id": "_yzUEcu33PhV"
   }
  },
  {
   "cell_type": "code",
   "source": [
    "#mUsar imagen de ejemplo (astronauta)\n",
    "im = data.astronaut()\n",
    "print(\"Tipo:\", type(im), \"Dimensiones:\", im.shape, \"Rango de valores:\", im.dtype)\n",
    "# Salida: <class 'numpy.ndarray'> (512, 512, 3) uint8"
   ],
   "metadata": {
    "id": "1vhjrA6g3SCW"
   },
   "execution_count": null,
   "outputs": []
  },
  {
   "cell_type": "markdown",
   "source": [
    "Visualizar:"
   ],
   "metadata": {
    "id": "8pN23WNF3YZW"
   }
  },
  {
   "cell_type": "code",
   "source": [
    "plt.figure(figsize=(8, 6))\n",
    "plt.imshow(im)\n",
    "plt.axis('off')\n",
    "plt.title(\"Imagen en RGB\")\n",
    "plt.show()"
   ],
   "metadata": {
    "id": "diVp6YtZ3Ysk"
   },
   "execution_count": null,
   "outputs": []
  },
  {
   "cell_type": "markdown",
   "source": [
    "B. Usando scipy.misc (solo para versiones antiguas)"
   ],
   "metadata": {
    "id": "6uONDBus3lHs"
   }
  },
  {
   "cell_type": "code",
   "source": [
    "# Cargar imagen de ejemplo (cara de mapache)\n",
    "im = misc.face()  # Obsoleto en versiones recientes de SciPy\n",
    "plt.imshow(im), plt.axis('off'), plt.show()"
   ],
   "metadata": {
    "id": "EIIrBr293nr3"
   },
   "execution_count": null,
   "outputs": []
  },
  {
   "cell_type": "markdown",
   "source": [
    "## 3. Conversiones entre Espacios de Color\n",
    "A. RGB a HSV (Matiz, Saturaci\u00f3n, Valor)"
   ],
   "metadata": {
    "id": "M8TCGD0b3yGO"
   }
  },
  {
   "cell_type": "code",
   "source": [
    "im_hsv = color.rgb2hsv(im)  # Convertir a HSV\n",
    "\n",
    "# Visualizar canales por separado\n",
    "plt.figure(figsize=(12, 4))\n",
    "canales = ['Matiz (H)', 'Saturaci\u00f3n (S)', 'Valor (V)']\n",
    "for i in range(3):\n",
    "    plt.subplot(1, 3, i+1)\n",
    "    plt.imshow(im_hsv[:, :, i], cmap='gray')\n",
    "    plt.title(canales[i])\n",
    "    plt.axis('off')\n",
    "plt.show()"
   ],
   "metadata": {
    "id": "5vjrGCA03qv6"
   },
   "execution_count": null,
   "outputs": []
  },
  {
   "cell_type": "markdown",
   "source": [
    "B. Modificar Saturaci\u00f3n"
   ],
   "metadata": {
    "id": "5fDpToiG34si"
   }
  },
  {
   "cell_type": "code",
   "source": [
    "im_hsv_mod = im_hsv.copy()\n",
    "im_hsv_mod[:, :, 1] = 0.5  # Ajustar saturaci\u00f3n al 50%\n",
    "im_rgb_mod = color.hsv2rgb(im_hsv_mod)  # Volver a RGB\n",
    "\n",
    "plt.imshow(im_rgb_mod)\n",
    "plt.title(\"HSV con Saturaci\u00f3n Ajustada\")\n",
    "plt.axis('off')\n",
    "plt.show()"
   ],
   "metadata": {
    "id": "iz-HJLXY39Bt"
   },
   "execution_count": null,
   "outputs": []
  },
  {
   "cell_type": "markdown",
   "source": [
    "##4. Manipulaci\u00f3n de Formatos y Tipos de Imagen\n",
    "A. Convertir entre Formatos (PNG \u2192 JPG)"
   ],
   "metadata": {
    "id": "bjgeFxem4CPb"
   }
  },
  {
   "cell_type": "code",
   "source": [
    "# Usando PIL (para manejar modos como RGBA)\n",
    "im_pil = Image.fromarray(im)\n",
    "im_pil.save(\"imagen.jpg\")  # Conversi\u00f3n autom\u00e1tica a RGB si es RGBA\n",
    "files.download(\"imagen.jpg\")"
   ],
   "metadata": {
    "id": "OtbYp4sY4FSV"
   },
   "execution_count": null,
   "outputs": []
  },
  {
   "cell_type": "markdown",
   "source": [
    "B. Convertir a Escala de Grises"
   ],
   "metadata": {
    "id": "7V6lYaVA4Qtk"
   }
  },
  {
   "cell_type": "code",
   "source": [
    "im_gris = color.rgb2gray(im)  # scikit-image (rango 0-1)\n",
    "print(\"Shape:\", im_gris.shape)  # (alto, ancho)\n",
    "\n",
    "# Mostrar\n",
    "plt.imshow(im_gris, cmap='gray')\n",
    "plt.title(\"Escala de Grises (float64)\")\n",
    "plt.axis('off')\n",
    "plt.show()"
   ],
   "metadata": {
    "id": "4FPKnP9_4Nk-"
   },
   "execution_count": null,
   "outputs": []
  },
  {
   "cell_type": "markdown",
   "source": [
    "Ejercicio 1:\n",
    "\n",
    "\u00bfQu\u00e9 pasa si convertimos una imagen RGB a escala de grises usando solo el canal rojo (im[:, :, 0])? Comparar con rgb2gray."
   ],
   "metadata": {
    "id": "GyBMz-eN4ZWQ"
   }
  },
  {
   "cell_type": "code",
   "source": [
    "im_gris_rojo = im[:, :, 0]  # Solo canal R\n",
    "plt.imshow(im_gris_rojo, cmap='gray')\n",
    "plt.title(\"Grises usando Canal Rojo\")\n",
    "plt.axis('off')\n",
    "plt.show()"
   ],
   "metadata": {
    "id": "l8YAkktE4bEK"
   },
   "execution_count": null,
   "outputs": []
  },
  {
   "cell_type": "markdown",
   "source": [
    "##6. Estructuras de Datos y Conversiones"
   ],
   "metadata": {
    "id": "CIsClJc_4krT"
   }
  },
  {
   "cell_type": "markdown",
   "source": [
    "A. De PIL a NumPy (y viceversa)"
   ],
   "metadata": {
    "id": "WQnwFJ8k4pGD"
   }
  },
  {
   "cell_type": "code",
   "source": [
    "# PIL \u2192 NumPy\n",
    "im_pil = Image.open(\"imagen.jpg\")\n",
    "im_np = np.array(im_pil)  # Convertir a ndarray\n",
    "\n",
    "# NumPy \u2192 PIL\n",
    "im_np = data.astronaut()\n",
    "im_pil = Image.fromarray(im_np)"
   ],
   "metadata": {
    "id": "gzcjVT7A4oJe"
   },
   "execution_count": null,
   "outputs": []
  },
  {
   "cell_type": "markdown",
   "source": [
    "## 7. Resumen de Funciones Clave\n",
    "\n",
    "| Operaci\u00f3n | Funci\u00f3n | Biblioteca |\n",
    "|---|---|---|\n",
    "| Leer imagen | `io.imread()` | scikit-image |\n",
    "| RGB a HSV | `color.rgb2hsv()` | scikit-image |\n",
    "| Escala de grises | `color.rgb2gray()` | scikit-image |\n",
    "| Guardar imagen | `Image.save()` | PIL |\n",
    "| Visualizar m\u00faltiples im\u00e1genes | `io.imshow_collection()` | scikit-image |"
   ],
   "metadata": {
    "id": "WrT6FUnC5Foy"
   }
  }
 ]
}
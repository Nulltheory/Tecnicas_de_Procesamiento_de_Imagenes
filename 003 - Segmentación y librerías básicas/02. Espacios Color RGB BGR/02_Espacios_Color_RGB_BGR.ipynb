{
 "nbformat": 4,
 "nbformat_minor": 0,
 "metadata": {
  "colab": {
   "provenance": [
    {
     "file_id": "1d4BdhycqrVybafRrbTJW-JR6nREE2pCv",
     "timestamp": 1756858434162
    }
   ]
  },
  "kernelspec": {
   "name": "python3",
   "display_name": "Python 3"
  },
  "language_info": {
   "name": "python"
  }
 },
 "cells": [
  {
   "cell_type": "markdown",
   "source": [
    "## 1. Introducci\u00f3n a los Espacios de Color\n",
    "\n",
    "Las im\u00e1genes digitales a color se pueden representar de diferentes maneras. Los dos espacios\n",
    "de color m\u00e1s comunes en procesamiento digital de im\u00e1genes son:\n",
    "\n",
    "- **RGB (Red, Green, Blue)**:\n",
    "  - Usado por la mayor\u00eda de dispositivos de visualizaci\u00f3n\n",
    "  - Cada pixel se representa con 3 valores (Rojo, Verde, Azul)\n",
    "  - Valores t\u00edpicos entre 0-255 por canal\n",
    "\n",
    "- **BGR (Blue, Green, Red)**:\n",
    "  - Formato utilizado por OpenCV\n",
    "  - Misma estructura que RGB pero con orden invertido\n",
    "  - Importante para evitar errores de interpretaci\u00f3n"
   ],
   "metadata": {
    "id": "H5LqmVnkEV2B"
   }
  },
  {
   "cell_type": "code",
   "execution_count": null,
   "metadata": {
    "id": "7ViNNeheES6E"
   },
   "outputs": [],
   "source": [
    "!wget https://www.dropbox.com/s/do6b49d10ty1dyf/frutos_rojos.png"
   ]
  },
  {
   "cell_type": "markdown",
   "source": [
    "## 2. Trabajando con OpenCV (cv2)\n",
    "\n",
    "OpenCV es una biblioteca especializada en visi\u00f3n por computador y procesamiento de im\u00e1genes.\n",
    "Caracter\u00edsticas importantes:\n",
    "- Utiliza formato BGR por defecto\n",
    "- Eficiente en t\u00e9rminos de procesamiento\n",
    "- Ampliamente utilizada en aplicaciones de visi\u00f3n computacional"
   ],
   "metadata": {
    "id": "9GtTuIKNEn2G"
   }
  },
  {
   "cell_type": "code",
   "source": [
    "import cv2\n",
    "from google.colab.patches import cv2_imshow"
   ],
   "metadata": {
    "id": "Rdpf2XNfExyp"
   },
   "execution_count": null,
   "outputs": []
  },
  {
   "cell_type": "code",
   "source": [
    "# Lectura de imagen usando OpenCV\n",
    "imagen_bgr = cv2.imread('frutos_rojos.png')\n",
    "\n",
    "# Informaci\u00f3n b\u00e1sica de la imagen\n",
    "print(\"Dimensiones de la imagen:\", imagen_bgr.shape)\n",
    "print(\"Tipo de datos:\", imagen_bgr.dtype)\n",
    "print(\"Tama\u00f1o en memoria (bytes):\", imagen_bgr.nbytes)\n",
    "\n",
    "# Visualizaci\u00f3n de la imagen completa\n",
    "cv2_imshow(imagen_bgr)"
   ],
   "metadata": {
    "id": "zGdtoJWvEpeD"
   },
   "execution_count": null,
   "outputs": []
  },
  {
   "cell_type": "markdown",
   "source": [
    "### 2.1 An\u00e1lisis de Canales BGR\n",
    "\n",
    "Cada canal representa la intensidad de un color espec\u00edfico:\n",
    "- Valores cercanos a 0 indican ausencia del color\n",
    "- Valores cercanos a 255 indican m\u00e1xima intensidad"
   ],
   "metadata": {
    "id": "J5U9jWyoFXMW"
   }
  },
  {
   "cell_type": "code",
   "source": [
    "# Canal Azul (B)\n",
    "B = imagen_bgr[:,:,0]\n",
    "print(\"Estad\u00edsticas del canal Azul:\")\n",
    "print(f\"Valor m\u00ednimo: {B.min()}, Valor m\u00e1ximo: {B.max()}, Promedio: {B.mean():.2f}\")\n",
    "cv2_imshow(B)"
   ],
   "metadata": {
    "id": "rQGtxZJiFbKi"
   },
   "execution_count": null,
   "outputs": []
  },
  {
   "cell_type": "code",
   "source": [
    "# Canal Verde (G)\n",
    "G = imagen_bgr[:,:,1]\n",
    "print(\"\\nEstad\u00edsticas del canal Verde:\")\n",
    "print(f\"Valor m\u00ednimo: {G.min()}, Valor m\u00e1ximo: {G.max()}, Promedio: {G.mean():.2f}\")\n",
    "cv2_imshow(G)"
   ],
   "metadata": {
    "id": "PS1ws99qFgfM"
   },
   "execution_count": null,
   "outputs": []
  },
  {
   "cell_type": "code",
   "source": [
    "# Canal Rojo (R)\n",
    "R = imagen_bgr[:,:,2]\n",
    "print(\"\\nEstad\u00edsticas del canal Rojo:\")\n",
    "print(f\"Valor m\u00ednimo: {R.min()}, Valor m\u00e1ximo: {R.max()}, Promedio: {R.mean():.2f}\")\n",
    "cv2_imshow(R)"
   ],
   "metadata": {
    "id": "A1-eIrnjFjLJ"
   },
   "execution_count": null,
   "outputs": []
  },
  {
   "cell_type": "markdown",
   "source": [
    "## 3. Trabajando con Matplotlib\n",
    "\n",
    "Matplotlib ofrece funcionalidades m\u00e1s avanzadas de visualizaci\u00f3n:\n",
    "- Usa formato RGB por defecto\n",
    "- Permite personalizaci\u00f3n detallada de gr\u00e1ficos\n",
    "- Ideal para presentaci\u00f3n y an\u00e1lisis visual"
   ],
   "metadata": {
    "id": "_DwVbHBTFnN-"
   }
  },
  {
   "cell_type": "code",
   "source": [
    "import matplotlib.pyplot as plt"
   ],
   "metadata": {
    "id": "hXlRk6tLFtFO"
   },
   "execution_count": null,
   "outputs": []
  },
  {
   "cell_type": "code",
   "source": [
    "# Lectura y visualizaci\u00f3n con Matplotlib\n",
    "imagen_rgb = plt.imread('frutos_rojos.png')\n",
    "plt.figure(figsize=(10,8))\n",
    "plt.imshow(imagen_rgb)\n",
    "plt.title('Imagen RGB en Matplotlib')\n",
    "plt.axis('on')  # Muestra los ejes para referencia\n",
    "plt.colorbar()  # A\u00f1ade barra de color\n",
    "plt.show()"
   ],
   "metadata": {
    "id": "f0HZWK8eFpOi"
   },
   "execution_count": null,
   "outputs": []
  },
  {
   "cell_type": "markdown",
   "source": [
    "### 3.1 Visualizaci\u00f3n Detallada de Canales RGB"
   ],
   "metadata": {
    "id": "yZQsNj6LF34J"
   }
  },
  {
   "cell_type": "code",
   "source": [
    "# Configuraci\u00f3n de subplots\n",
    "fig, axes = plt.subplots(2, 2, figsize=(15,15))\n",
    "fig.suptitle('An\u00e1lisis de Canales RGB', fontsize=16)\n",
    "\n",
    "# Imagen Original\n",
    "axes[0,0].imshow(imagen_rgb)\n",
    "axes[0,0].set_title('Imagen Original')\n",
    "\n",
    "# Canal Rojo\n",
    "axes[0,1].imshow(imagen_rgb[:,:,0], cmap='gray')\n",
    "axes[0,1].set_title('Canal Rojo')\n",
    "\n",
    "# Canal Verde\n",
    "axes[1,0].imshow(imagen_rgb[:,:,1], cmap='gray')\n",
    "axes[1,0].set_title('Canal Verde')\n",
    "\n",
    "# Canal Azul\n",
    "axes[1,1].imshow(imagen_rgb[:,:,2], cmap='gray')\n",
    "axes[1,1].set_title('Canal Azul')\n",
    "\n",
    "plt.tight_layout()\n",
    "plt.show()\n"
   ],
   "metadata": {
    "id": "kq5_QTn7F3MU"
   },
   "execution_count": null,
   "outputs": []
  },
  {
   "cell_type": "markdown",
   "source": [
    "## 4. Conversi\u00f3n entre Espacios de Color\n",
    "\n",
    "Es crucial entender c\u00f3mo convertir entre BGR y RGB:\n",
    "- Evita errores de interpretaci\u00f3n\n",
    "- Permite usar correctamente ambas bibliotecas"
   ],
   "metadata": {
    "id": "6MUcsXp0GTj8"
   }
  },
  {
   "cell_type": "code",
   "source": [
    "# Demostraci\u00f3n de conversi\u00f3n BGR a RGB\n",
    "imagen_bgr = cv2.imread('frutos_rojos.png')\n",
    "imagen_rgb = cv2.cvtColor(imagen_bgr, cv2.COLOR_BGR2RGB)"
   ],
   "metadata": {
    "id": "QDh_GhXzGW1N"
   },
   "execution_count": null,
   "outputs": []
  },
  {
   "cell_type": "code",
   "source": [
    "# Visualizaci\u00f3n comparativa\n",
    "fig, (ax1, ax2) = plt.subplots(1, 2, figsize=(15,7))\n",
    "\n",
    "ax1.imshow(imagen_bgr)\n",
    "ax1.set_title('Imagen BGR mostrada como RGB\\n(Colores Incorrectos)')\n",
    "\n",
    "ax2.imshow(imagen_rgb)\n",
    "ax2.set_title('Imagen convertida a RGB\\n(Colores Correctos)')\n",
    "\n",
    "plt.show()"
   ],
   "metadata": {
    "id": "Kmfwkx3vGfso"
   },
   "execution_count": null,
   "outputs": []
  },
  {
   "cell_type": "markdown",
   "source": [
    "## 5. Resumen y Conceptos Clave\n",
    "\n",
    "### Puntos Importantes:\n",
    "1. **Espacios de Color**:\n",
    "   - RGB: Est\u00e1ndar en visualizaci\u00f3n\n",
    "   - BGR: Est\u00e1ndar en OpenCV\n",
    "   \n",
    "2. **Bibliotecas**:\n",
    "   - OpenCV: Orientado a procesamiento\n",
    "   - Matplotlib: Orientado a visualizaci\u00f3n\n",
    "\n",
    "3. **Buenas Pr\u00e1cticas**:\n",
    "   - Verificar siempre el espacio de color\n",
    "   - Usar las funciones de conversi\u00f3n adecuadas\n",
    "   - Documentar el formato usado en cada paso\n",
    "\n",
    "### Ejercicios Sugeridos:\n",
    "1. Cargar una imagen propia y analizar sus canales\n",
    "2. Experimentar con diferentes mapas de color en Matplotlib\n",
    "3. Practicar conversiones entre BGR y RGB"
   ],
   "metadata": {
    "id": "x5EMc5lJGnvG"
   }
  }
 ]
}
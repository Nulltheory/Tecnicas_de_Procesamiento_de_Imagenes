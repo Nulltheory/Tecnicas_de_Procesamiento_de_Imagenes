{
 "nbformat": 4,
 "nbformat_minor": 0,
 "metadata": {
  "colab": {
   "provenance": [
    {
     "file_id": "1Gvt9uQUN0k3cF1nCEWBbiUDusHT7kWu6",
     "timestamp": 1756858647642
    }
   ]
  },
  "kernelspec": {
   "name": "python3",
   "display_name": "Python 3"
  },
  "language_info": {
   "name": "python"
  }
 },
 "cells": [
  {
   "cell_type": "markdown",
   "source": [
    "# Muestreo y Cuantizaci\u00f3n en Procesamiento de Im\u00e1genes"
   ],
   "metadata": {
    "id": "Z4SaXUKXygD_"
   }
  },
  {
   "cell_type": "markdown",
   "source": [
    "El procesamiento digital de im\u00e1genes se basa en dos operaciones fundamentales:\n",
    "\n",
    "* Muestreo espacial: Convertir una imagen continua en una matriz discreta de p\u00edxeles\n",
    "\n",
    "* Cuantizaci\u00f3n: Asignar valores discretos a la intensidad de cada p\u00edxel"
   ],
   "metadata": {
    "id": "m-HuExSzyoNM"
   }
  },
  {
   "cell_type": "code",
   "execution_count": null,
   "metadata": {
    "id": "Sykq5XhLycPX"
   },
   "outputs": [],
   "source": [
    "# Preparaci\u00f3n del entorno\n",
    "\n",
    "import numpy as np\n",
    "from cv2 import imread\n",
    "import matplotlib.pyplot as plt"
   ]
  },
  {
   "cell_type": "markdown",
   "source": [
    "Estas bibliotecas son fundamentales:\n",
    "\n",
    "* NumPy: Permite trabajar con matrices (que es como se representan las im\u00e1genes)\n",
    "* OpenCV (cv2): Biblioteca especializada en procesamiento de im\u00e1genes\n",
    "* Matplotlib: Nos permite visualizar las im\u00e1genes y gr\u00e1ficos"
   ],
   "metadata": {
    "id": "DHzsIhchy7dW"
   }
  },
  {
   "cell_type": "code",
   "source": [
    "# Descargamos las im\u00e1genes de ejemplo\n",
    "!wget https://www2.eecs.berkeley.edu/Research/Projects/CS/vision/bsds/BSDS300/html/images/plain/normal/gray/253027.jpg\n",
    "!wget https://sipi.usc.edu/database/preview/misc/gray21.512.png\n",
    "!wget https://www.dropbox.com/s/vjxcddg5rgap35i/scale.png"
   ],
   "metadata": {
    "id": "82b_iQhCy_hI"
   },
   "execution_count": null,
   "outputs": []
  },
  {
   "cell_type": "markdown",
   "source": [
    "## Visualizaci\u00f3n y an\u00e1lisis de la imagen original"
   ],
   "metadata": {
    "id": "G7pOiaetzHnq"
   }
  },
  {
   "cell_type": "code",
   "source": [
    "# Muestra informaci\u00f3n b\u00e1sica de la imagen\n",
    "def howis(img):\n",
    "    print('Tama\u00f1o =', img.shape)     # Dimensiones de la matriz\n",
    "    print('M\u00e1ximo =', np.max(img))   # Valor m\u00e1s alto (m\u00e1s blanco)\n",
    "    print('M\u00ednimo =', np.min(img))   # Valor m\u00e1s bajo (m\u00e1s negro)"
   ],
   "metadata": {
    "id": "Ni-72OpB7UmN"
   },
   "execution_count": null,
   "outputs": []
  },
  {
   "cell_type": "code",
   "source": [
    "# 3. CARGA Y VISUALIZACI\u00d3N DE IMAGEN ORIGINAL\n",
    "X = imread('253027.jpg')    # Lee la imagen del archivo\n",
    "X = X[:,:,0]               # Toma solo el primer canal (rojo)\n",
    "                          # Los : significan \"todos los elementos\""
   ],
   "metadata": {
    "id": "XwkFjnBK86Vr"
   },
   "execution_count": null,
   "outputs": []
  },
  {
   "cell_type": "code",
   "source": [
    "# Muestra la imagen original\n",
    "plt.figure(figsize=(8,8))   # Crea figura de 8x8 pulgadas\n",
    "plt.imshow(X, cmap='gray')  # Muestra imagen en escala de grises\n",
    "plt.title('Imagen Original')\n",
    "plt.show()                  # Muestra la figura\n",
    "howis(X)                    # Muestra informaci\u00f3n"
   ],
   "metadata": {
    "id": "63GIF2vy86Si"
   },
   "execution_count": null,
   "outputs": []
  },
  {
   "cell_type": "markdown",
   "source": [
    "## Muestreo Espacial\n",
    "\n",
    "El muestreo espacial reduce la resoluci\u00f3n de una imagen tomando p\u00edxeles a intervalos regulares."
   ],
   "metadata": {
    "id": "_3MKaEcrzXWG"
   }
  },
  {
   "cell_type": "code",
   "source": [
    "d = 2   # Factor de muestreo: toma 1 pixel cada 'd' pixeles\n",
    "(Nx,Mx) = X.shape          # Obtiene dimensiones de imagen original\n",
    "ix = range(0,Nx,d)         # Crea secuencia de 0 a Nx saltando de d en d\n",
    "jx = range(0,Mx,d)         # Igual para columnas\n",
    "Ny = len(ix)               # Nueva altura = n\u00famero de filas a tomar\n",
    "My = len(jx)               # Nueva anchura = n\u00famero de columnas a tomar"
   ],
   "metadata": {
    "id": "6y2xngen8Wx6"
   },
   "execution_count": null,
   "outputs": []
  },
  {
   "cell_type": "code",
   "source": [
    "# Crea nueva imagen muestreada\n",
    "Y = np.zeros((Ny,My), np.uint8)  # Matriz vac\u00eda de enteros 0-255\n",
    "for i in range(Ny):              # Para cada fila\n",
    "    for j in range(My):          # Para cada columna\n",
    "        Y[i,j] = X[ix[i],jx[j]]  # Copia el pixel correspondiente"
   ],
   "metadata": {
    "id": "kurph1kd9ZFL"
   },
   "execution_count": null,
   "outputs": []
  },
  {
   "cell_type": "code",
   "source": [
    "# Muestra imagen muestreada\n",
    "plt.figure(figsize=(8,8))\n",
    "plt.imshow(Y, cmap='gray')\n",
    "plt.title(f'Imagen Muestreada (factor {d})')\n",
    "plt.show()\n",
    "howis(Y)\n",
    "print(f'Resoluci\u00f3n reducida de {Nx}x{Mx} a {Ny}x{My} pixels')"
   ],
   "metadata": {
    "id": "BVr2r4-w9fs8"
   },
   "execution_count": null,
   "outputs": []
  },
  {
   "cell_type": "markdown",
   "source": [
    "## Cuantizacion\n",
    "\n",
    "La cuantizaci\u00f3n reduce el n\u00famero de niveles de gris en la imagen."
   ],
   "metadata": {
    "id": "ZQ3Arcn89xpD"
   }
  },
  {
   "cell_type": "code",
   "source": [
    "q = 32                  # Factor de cuantizaci\u00f3n\n",
    "# Divide por q, redondea hacia abajo y multiplica por q\n",
    "Z = np.floor(X/q)*q      # Agrupa valores en intervalos de tama\u00f1o q\n",
    "Z = Z.astype(np.uint8)   # Convierte a enteros 0-255"
   ],
   "metadata": {
    "id": "Nc_Uok5I9zwY"
   },
   "execution_count": null,
   "outputs": []
  },
  {
   "cell_type": "code",
   "source": [
    "# Muestra imagen cuantizada\n",
    "plt.figure(figsize=(8,8))\n",
    "plt.imshow(Z, cmap='gray')\n",
    "plt.title(f'Imagen Cuantizada (factor {q})')\n",
    "plt.show()\n",
    "howis(Z)\n",
    "print(f'Esta imagen tiene {int(256/q)} niveles de gris (original: 256)')"
   ],
   "metadata": {
    "id": "SBSwDOJF9-Pw"
   },
   "execution_count": null,
   "outputs": []
  },
  {
   "cell_type": "markdown",
   "source": [
    "## Histograma de la imagen\n",
    "\n",
    "El histograma muestra la distribuci\u00f3n de los niveles de gris en la imagen."
   ],
   "metadata": {
    "id": "0VqkTm4T0Gq8"
   }
  },
  {
   "cell_type": "code",
   "source": [
    "def hist(img):\n",
    "    h = np.zeros(256)           # Vector para contar ocurrencias\n",
    "    for i in range(img.shape[0]):    # Para cada fila\n",
    "        for j in range(img.shape[1]): # Para cada columna\n",
    "            h[img[i,j]] += 1         # Incrementa contador del valor\n",
    "    return h"
   ],
   "metadata": {
    "id": "GLTOES0C--wQ"
   },
   "execution_count": null,
   "outputs": []
  },
  {
   "cell_type": "markdown",
   "source": [
    "VISUALIZACI\u00d3N DE HISTOGRAMAS"
   ],
   "metadata": {
    "id": "XqnjUm7q_Ir5"
   }
  },
  {
   "cell_type": "code",
   "source": [
    "# Histograma imagen muestreada\n",
    "plt.figure(figsize=(10,6))\n",
    "plt.plot(hist(Y))\n",
    "plt.title(f'Histograma - Imagen Muestreada\\nResoluci\u00f3n: {Ny}x{My} pixels')\n",
    "plt.xlabel('Nivel de gris')\n",
    "plt.ylabel('N\u00famero de pixels')\n",
    "plt.grid(True, alpha=0.3)\n",
    "plt.show()"
   ],
   "metadata": {
    "id": "UHotQGfZ_DL-"
   },
   "execution_count": null,
   "outputs": []
  },
  {
   "cell_type": "code",
   "source": [
    "# Histograma imagen cuantizada\n",
    "plt.figure(figsize=(10,6))\n",
    "plt.plot(hist(Z))\n",
    "plt.title(f'Histograma - Imagen Cuantificada\\nNiveles de gris: {int(256/q)}')\n",
    "plt.xlabel('Nivel de gris')\n",
    "plt.ylabel('N\u00famero de pixels')\n",
    "plt.grid(True, alpha=0.3)\n",
    "plt.show()"
   ],
   "metadata": {
    "id": "XPbLwcJL_OXp"
   },
   "execution_count": null,
   "outputs": []
  },
  {
   "cell_type": "markdown",
   "source": [
    "### Conceptos clave para reforzar\n",
    "\n",
    "* Resoluci\u00f3n espacial: N\u00famero de p\u00edxeles en la imagen (afectado por el muestreo)\n",
    "* Profundidad de bits: N\u00famero de niveles de gris posibles (afectado por la cuantizaci\u00f3n)\n",
    "* Aliasing: Efecto no deseado que aparece cuando el muestreo es insuficiente\n",
    "* Posterizaci\u00f3n: Efecto visual que ocurre cuando hay pocos niveles de gris (cuantizaci\u00f3n grande)"
   ],
   "metadata": {
    "id": "M6P6BAzQ1tyZ"
   }
  },
  {
   "cell_type": "markdown",
   "source": [
    "## Ejercicios pr\u00e1cticos\n",
    "\n",
    "Exploraci\u00f3n b\u00e1sica: Cambiar entre las im\u00e1genes disponibles (mandril.png y scale.png) modificando la variable nombre_imagen y observar las diferencias en los resultados.\n",
    "\n",
    "Efectos del muestreo: Experimentar con diferentes valores del factor_muestreo (2, 4, 8, etc.) y analizar:\n",
    "\n",
    "* \u00bfC\u00f3mo afecta a la calidad visual de la imagen?\n",
    "* \u00bfCu\u00e1nto se reduce el tama\u00f1o de la imagen con cada factor?\n",
    "* \u00bfA partir de qu\u00e9 factor se hace notoria la p\u00e9rdida de calidad?\n",
    "\n",
    "\n",
    "Efectos de la cuantizaci\u00f3n: Probar con diferentes valores del factor_cuantizacion (32, 64, 128) y observar:\n",
    "\n",
    "* \u00bfC\u00f3mo cambia la apariencia de la imagen?\n",
    "* \u00bfQu\u00e9 sucede con el histograma en cada caso?\n",
    "* \u00bfEn qu\u00e9 tipos de im\u00e1genes es m\u00e1s o menos notorio el efecto?\n",
    "\n",
    "Reto de comprensi\u00f3n:\n",
    "\n",
    "* \u00bfQu\u00e9 ocurre si combinamos muestreo y cuantizaci\u00f3n en una misma imagen?\n",
    "* \u00bfQu\u00e9 proceso afecta m\u00e1s a la calidad percibida de la imagen?\n",
    "* \u00bfQu\u00e9 proceso permite mayor compresi\u00f3n de datos?"
   ],
   "metadata": {
    "id": "tlUxO9DH03M6"
   }
  }
 ]
}
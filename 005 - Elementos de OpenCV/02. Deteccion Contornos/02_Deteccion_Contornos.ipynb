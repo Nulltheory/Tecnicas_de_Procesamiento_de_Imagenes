{
 "cells": [
  {
   "cell_type": "markdown",
   "metadata": {
    "id": "g9K8bv4Wqn_K"
   },
   "source": [
    "# Detecci\u00f3n de Contornos: Abriendo la Caja Negra\n",
    "\n",
    "**Tecnicatura Superior en Ciencias de Datos e IA**  \n",
    "*Procesamiento de Im\u00e1genes*\n",
    "\n",
    "---\n",
    "\n",
    "## Objetivos de Aprendizaje\n",
    "\n",
    "- **Entender** qu\u00e9 hace cada m\u00f3dulo y por qu\u00e9 lo necesitamos\n",
    "- **Descubrir** c\u00f3mo funcionan los par\u00e1metros internamente\n",
    "- **Explorar** los algoritmos detr\u00e1s de la detecci\u00f3n de contornos\n",
    "- **Aplicar** conocimientos t\u00e9cnicos de forma creativa\n",
    "\n",
    "## Filosof\u00eda del Cuaderno\n",
    "\n",
    "No vamos a usar las herramientas \"a ciegas\". Como futuros cient\u00edficos de datos, necesitamos entender **qu\u00e9** hacemos, **c\u00f3mo** lo hacemos, y **por qu\u00e9** funciona.\n",
    "\n",
    "---"
   ]
  },
  {
   "cell_type": "markdown",
   "metadata": {
    "id": "nifzRaN9qn_O"
   },
   "source": [
    "## 1. Los M\u00f3dulos: Conociendo a Nuestros Aliados\n",
    "\n",
    "Antes de programar, vamos a entender qu\u00e9 herramientas estamos usando y por qu\u00e9 cada una es importante."
   ]
  },
  {
   "cell_type": "markdown",
   "metadata": {
    "id": "rOur2kDoqn_O"
   },
   "source": [
    "### OpenCV (cv2): El Especialista en Visi\u00f3n\n",
    "\n",
    "**\u00bfQu\u00e9 es?** OpenCV es como un \"microscopio digital\" para im\u00e1genes.\n",
    "\n",
    "**\u00bfPor qu\u00e9 cv2?** Hist\u00f3ricamente, cv2 era la versi\u00f3n 2 de OpenCV, pero el nombre se mantuvo aunque ahora estemos en versiones superiores.\n",
    "\n",
    "**\u00bfQu\u00e9 hace internamente?**\n",
    "- Convierte im\u00e1genes en matrices de n\u00fameros\n",
    "- Aplica algoritmos matem\u00e1ticos a esas matrices\n",
    "- Optimiza operaciones para velocidad (usa C++ por debajo)\n",
    "\n",
    "**En nuestro contexto:** Ser\u00e1 nuestro \"detective de contornos\""
   ]
  },
  {
   "cell_type": "code",
   "execution_count": null,
   "metadata": {
    "id": "451ljgctqn_O",
    "executionInfo": {
     "status": "ok",
     "timestamp": 1757542083835,
     "user_tz": 180,
     "elapsed": 145,
     "user": {
      "displayName": "BARRETO MAT\u00cdAS",
      "userId": "15011433883683359534"
     }
    },
    "outputId": "d7b3aa58-6f13-4ab9-de9e-0a7a1943583c",
    "colab": {
     "base_uri": "https://localhost:8080/"
    }
   },
   "outputs": [
    {
     "output_type": "stream",
     "name": "stdout",
     "text": [
      "OpenCV importado - Versi\u00f3n: 4.12.0\n",
      "Funciones que vamos a usar:\n",
      "   \u2022 cv2.findContours() - Encuentra los bordes\n",
      "   \u2022 cv2.contourArea() - Calcula \u00e1reas\n",
      "   \u2022 cv2.arcLength() - Calcula per\u00edmetros\n",
      "   \u2022 cv2.moments() - Extrae propiedades geom\u00e9tricas\n",
      "   \u2022 cv2.drawContours() - Dibuja resultados\n"
     ]
    }
   ],
   "source": [
    "import cv2\n",
    "\n",
    "print(f\"OpenCV importado - Versi\u00f3n: {cv2.__version__}\")\n",
    "print(\"Funciones que vamos a usar:\")\n",
    "print(\"   \u2022 cv2.findContours() - Encuentra los bordes\")\n",
    "print(\"   \u2022 cv2.contourArea() - Calcula \u00e1reas\")\n",
    "print(\"   \u2022 cv2.arcLength() - Calcula per\u00edmetros\")\n",
    "print(\"   \u2022 cv2.moments() - Extrae propiedades geom\u00e9tricas\")\n",
    "print(\"   \u2022 cv2.drawContours() - Dibuja resultados\")"
   ]
  },
  {
   "cell_type": "markdown",
   "metadata": {
    "id": "dBLHVNbMqn_P"
   },
   "source": [
    "### NumPy (np): El Matem\u00e1tico Universal\n",
    "\n",
    "**\u00bfQu\u00e9 es?** NumPy es como una \"calculadora s\u00faper poderosa\" para trabajar con listas gigantes de n\u00fameros.\n",
    "\n",
    "**\u00bfPor qu\u00e9 lo necesitamos?**\n",
    "- Las im\u00e1genes son matrices de n\u00fameros (cada p\u00edxel es un n\u00famero)\n",
    "- NumPy maneja estas matrices de forma eficiente\n",
    "- Permite operaciones matem\u00e1ticas vectorizadas (muy r\u00e1pidas)\n",
    "\n",
    "**Dato t\u00e9cnico:** NumPy usa memoria contigua y operaciones en C, por eso es tan r\u00e1pido."
   ]
  },
  {
   "cell_type": "code",
   "execution_count": null,
   "metadata": {
    "id": "duYHjxCgqn_Q",
    "executionInfo": {
     "status": "ok",
     "timestamp": 1757542083841,
     "user_tz": 180,
     "elapsed": 40,
     "user": {
      "displayName": "BARRETO MAT\u00cdAS",
      "userId": "15011433883683359534"
     }
    },
    "outputId": "e30ced06-1b5b-4e29-973c-84b771c40acf",
    "colab": {
     "base_uri": "https://localhost:8080/"
    }
   },
   "outputs": [
    {
     "output_type": "stream",
     "name": "stdout",
     "text": [
      "NumPy importado - Versi\u00f3n: 2.0.2\n",
      "Funciones que vamos a usar:\n",
      "   \u2022 np.zeros() - Crea matrices llenas de ceros\n",
      "   \u2022 np.array() - Convierte listas en arrays eficientes\n",
      "   \u2022 dtype=np.uint8 - Tipo de dato para im\u00e1genes (0-255)\n",
      "\n",
      "Ejemplo: Un p\u00edxel RGB = [255 128   0]\n",
      "   Tipo de dato: uint8\n",
      "   Rango v\u00e1lido: 0 a 255\n"
     ]
    }
   ],
   "source": [
    "import numpy as np\n",
    "\n",
    "print(f\"NumPy importado - Versi\u00f3n: {np.__version__}\")\n",
    "print(\"Funciones que vamos a usar:\")\n",
    "print(\"   \u2022 np.zeros() - Crea matrices llenas de ceros\")\n",
    "print(\"   \u2022 np.array() - Convierte listas en arrays eficientes\")\n",
    "print(\"   \u2022 dtype=np.uint8 - Tipo de dato para im\u00e1genes (0-255)\")\n",
    "\n",
    "# Demostraci\u00f3n pr\u00e1ctica\n",
    "ejemplo_pixel = np.array([255, 128, 0], dtype=np.uint8)\n",
    "print(f\"\\nEjemplo: Un p\u00edxel RGB = {ejemplo_pixel}\")\n",
    "print(f\"   Tipo de dato: {ejemplo_pixel.dtype}\")\n",
    "print(f\"   Rango v\u00e1lido: 0 a {np.iinfo(np.uint8).max}\")"
   ]
  },
  {
   "cell_type": "markdown",
   "metadata": {
    "id": "DK7z4Xvdqn_Q"
   },
   "source": [
    "### Matplotlib (plt): El Artista Visualizador\n",
    "\n",
    "**\u00bfQu\u00e9 es?** Matplotlib es como un \"pincel digital\" que convierte n\u00fameros en im\u00e1genes que podemos ver.\n",
    "\n",
    "**\u00bfPor qu\u00e9 es crucial?**\n",
    "- Las computadoras \"ven\" n\u00fameros, nosotros necesitamos im\u00e1genes\n",
    "- Permite verificar visualmente que nuestros algoritmos funcionan\n",
    "- Esencial para comunicar resultados\n",
    "\n",
    "**Aspecto t\u00e9cnico:** Matplotlib interpreta matrices NumPy como mapas de colores."
   ]
  },
  {
   "cell_type": "code",
   "execution_count": null,
   "metadata": {
    "id": "aVP0h8b_qn_Q",
    "executionInfo": {
     "status": "ok",
     "timestamp": 1757542083842,
     "user_tz": 180,
     "elapsed": 19,
     "user": {
      "displayName": "BARRETO MAT\u00cdAS",
      "userId": "15011433883683359534"
     }
    },
    "outputId": "31aff24b-40c4-48ab-b017-1a021c4c24af",
    "colab": {
     "base_uri": "https://localhost:8080/"
    }
   },
   "outputs": [
    {
     "output_type": "stream",
     "name": "stdout",
     "text": [
      "Matplotlib importado\n",
      "Configuraciones que vamos a usar:\n",
      "   \u2022 cmap='gray' - Mapa de colores en escala de grises\n",
      "   \u2022 figsize=(w,h) - Tama\u00f1o de la figura en pulgadas\n",
      "   \u2022 axis('off') - Oculta los ejes num\u00e9ricos\n",
      "\n",
      "Configuraci\u00f3n optimizada para Jupyter\n"
     ]
    }
   ],
   "source": [
    "import matplotlib.pyplot as plt\n",
    "\n",
    "print(\"Matplotlib importado\")\n",
    "print(\"Configuraciones que vamos a usar:\")\n",
    "print(\"   \u2022 cmap='gray' - Mapa de colores en escala de grises\")\n",
    "print(\"   \u2022 figsize=(w,h) - Tama\u00f1o de la figura en pulgadas\")\n",
    "print(\"   \u2022 axis('off') - Oculta los ejes num\u00e9ricos\")\n",
    "\n",
    "# Configuraci\u00f3n para mejor visualizaci\u00f3n\n",
    "plt.rcParams['figure.figsize'] = [10, 6]\n",
    "plt.rcParams['font.size'] = 11\n",
    "print(\"\\nConfiguraci\u00f3n optimizada para Jupyter\")"
   ]
  },
  {
   "cell_type": "markdown",
   "metadata": {
    "id": "g3jn-7XOqn_R"
   },
   "source": [
    "## 2. Construyendo Nuestro Laboratorio Digital\n",
    "\n",
    "Ahora vamos a crear una imagen controlada para experimentos. Es como preparar una muestra en un laboratorio."
   ]
  },
  {
   "cell_type": "markdown",
   "metadata": {
    "id": "RTXXDJ7Sqn_R"
   },
   "source": [
    "### El Lienzo Digital: np.zeros()\n",
    "\n",
    "**\u00bfQu\u00e9 hace realmente `np.zeros()`?**\n",
    "- Reserva un bloque de memoria\n",
    "- Lo llena completamente con ceros\n",
    "- En t\u00e9rminos de imagen: crea una \"hoja negra\"\n",
    "\n",
    "**Los par\u00e1metros explicados:**"
   ]
  },
  {
   "cell_type": "code",
   "execution_count": null,
   "metadata": {
    "id": "7yejEgSsqn_R",
    "executionInfo": {
     "status": "ok",
     "timestamp": 1757542083888,
     "user_tz": 180,
     "elapsed": 32,
     "user": {
      "displayName": "BARRETO MAT\u00cdAS",
      "userId": "15011433883683359534"
     }
    },
    "outputId": "08772ca2-b32f-41ec-8a28-bdb36dd483dd",
    "colab": {
     "base_uri": "https://localhost:8080/"
    }
   },
   "outputs": [
    {
     "output_type": "stream",
     "name": "stdout",
     "text": [
      "Lienzo digital creado:\n",
      "   Dimensiones: 300 \u00d7 200 p\u00edxeles\n",
      "   Forma de la matriz: (200, 300)\n",
      "   Tipo de dato: uint8\n",
      "   Memoria usada: 60000 bytes\n",
      "\n",
      "Explorando la estructura interna:\n",
      "   Valor m\u00ednimo: 0 (negro absoluto)\n",
      "   Valor m\u00e1ximo: 0 (deber\u00eda ser 0 por ahora)\n",
      "   N\u00famero total de p\u00edxeles: 60000\n",
      "\n",
      "Muestra de valores (esquina superior izquierda):\n",
      "[[0 0 0 0 0]\n",
      " [0 0 0 0 0]\n",
      " [0 0 0 0 0]]\n"
     ]
    }
   ],
   "source": [
    "# Creando nuestro lienzo digital\n",
    "altura = 200    # N\u00famero de filas (p\u00edxeles de arriba a abajo)\n",
    "ancho = 300     # N\u00famero de columnas (p\u00edxeles de izquierda a derecha)\n",
    "\n",
    "imagen = np.zeros((altura, ancho), dtype=np.uint8)\n",
    "\n",
    "print(\"Lienzo digital creado:\")\n",
    "print(f\"   Dimensiones: {ancho} \u00d7 {altura} p\u00edxeles\")\n",
    "print(f\"   Forma de la matriz: {imagen.shape}\")\n",
    "print(f\"   Tipo de dato: {imagen.dtype}\")\n",
    "print(f\"   Memoria usada: {imagen.nbytes} bytes\")\n",
    "\n",
    "print(\"\\nExplorando la estructura interna:\")\n",
    "print(f\"   Valor m\u00ednimo: {imagen.min()} (negro absoluto)\")\n",
    "print(f\"   Valor m\u00e1ximo: {imagen.max()} (deber\u00eda ser 0 por ahora)\")\n",
    "print(f\"   N\u00famero total de p\u00edxeles: {imagen.size}\")\n",
    "\n",
    "# Mostrar algunos valores de la esquina superior izquierda\n",
    "print(f\"\\nMuestra de valores (esquina superior izquierda):\")\n",
    "print(imagen[0:3, 0:5])  # Primeras 3 filas, primeras 5 columnas"
   ]
  },
  {
   "cell_type": "markdown",
   "metadata": {
    "id": "-BCeoiCTqn_R"
   },
   "source": [
    "### \ud83c\udfaf Entendiendo dtype=np.uint8\n",
    "\n",
    "**\u00bfPor qu\u00e9 uint8 y no otro tipo?**\n",
    "\n",
    "- **uint** = \"unsigned integer\" (entero sin signo, solo positivos)\n",
    "- **8** = 8 bits de informaci\u00f3n\n",
    "- **Rango:** 0 a 255 (2^8 = 256 valores posibles)\n",
    "- **Ventaja:** Est\u00e1ndar para im\u00e1genes, eficiente en memoria\n",
    "\n",
    "**\u00bfQu\u00e9 significan los valores?**\n",
    "- 0 = Negro absoluto\n",
    "- 255 = Blanco absoluto\n",
    "- 128 = Gris medio\n",
    "- Todo valor intermedio = Diferentes tonos de gris"
   ]
  },
  {
   "cell_type": "code",
   "execution_count": null,
   "metadata": {
    "id": "NkKvJMeuqn_R",
    "executionInfo": {
     "status": "ok",
     "timestamp": 1757542083890,
     "user_tz": 180,
     "elapsed": 15,
     "user": {
      "displayName": "BARRETO MAT\u00cdAS",
      "userId": "15011433883683359534"
     }
    },
    "outputId": "6095f026-1a21-4111-c322-fd8f389a96d2",
    "colab": {
     "base_uri": "https://localhost:8080/"
    }
   },
   "outputs": [
    {
     "output_type": "stream",
     "name": "stdout",
     "text": [
      "\ud83c\udfa8 Escala de grises - Valores y significados:\n",
      "     0 = Negro\n",
      "    64 = Gris oscuro\n",
      "   128 = Gris medio\n",
      "   192 = Gris claro\n",
      "   255 = Blanco\n",
      "\n",
      "\ud83d\udcbe Comparaci\u00f3n de tipos de datos:\n",
      "   uint8:  0 a 255 (1 byte por p\u00edxel)\n",
      "   uint16: 0 a 65535 (2 bytes por p\u00edxel)\n",
      "   float32: precisi\u00f3n decimal (4 bytes por p\u00edxel)\n",
      "\n",
      "\ud83d\udca1 uint8 es el est\u00e1ndar porque balancea calidad y eficiencia\n"
     ]
    }
   ],
   "source": [
    "# Demostraci\u00f3n de valores de p\u00edxeles\n",
    "print(\"\ud83c\udfa8 Escala de grises - Valores y significados:\")\n",
    "valores_ejemplo = [0, 64, 128, 192, 255]\n",
    "nombres = ['Negro', 'Gris oscuro', 'Gris medio', 'Gris claro', 'Blanco']\n",
    "\n",
    "for valor, nombre in zip(valores_ejemplo, nombres):\n",
    "    print(f\"   {valor:3d} = {nombre}\")\n",
    "\n",
    "print(\"\\n\ud83d\udcbe Comparaci\u00f3n de tipos de datos:\")\n",
    "print(f\"   uint8:  0 a {np.iinfo(np.uint8).max} (1 byte por p\u00edxel)\")\n",
    "print(f\"   uint16: 0 a {np.iinfo(np.uint16).max} (2 bytes por p\u00edxel)\")\n",
    "print(f\"   float32: precisi\u00f3n decimal (4 bytes por p\u00edxel)\")\n",
    "print(\"\\n\ud83d\udca1 uint8 es el est\u00e1ndar porque balancea calidad y eficiencia\")"
   ]
  },
  {
   "cell_type": "markdown",
   "metadata": {
    "id": "dYA6MV56qn_R"
   },
   "source": [
    "## 3. Dibujando con Matem\u00e1tica: cv2.fillPoly()\n",
    "\n",
    "Ahora vamos a \"dibujar\" un objeto, pero entendiendo qu\u00e9 hace la computadora internamente."
   ]
  },
  {
   "cell_type": "markdown",
   "metadata": {
    "id": "ozUFe1xzqn_R"
   },
   "source": [
    "### Definiendo Coordenadas: Sistema de Referencia\n",
    "\n",
    "**\u00bfC\u00f3mo funciona el sistema de coordenadas en im\u00e1genes?**\n",
    "\n",
    "- **Origen (0,0):** Esquina superior izquierda (\u00a1no como en matem\u00e1tica!)\n",
    "- **Eje X:** Horizontal, crece hacia la derecha\n",
    "- **Eje Y:** Vertical, crece hacia abajo\n",
    "- **Formato:** (x, y) = (columna, fila)"
   ]
  },
  {
   "cell_type": "code",
   "execution_count": null,
   "metadata": {
    "id": "psiGZvBNqn_R",
    "executionInfo": {
     "status": "ok",
     "timestamp": 1757542084023,
     "user_tz": 180,
     "elapsed": 131,
     "user": {
      "displayName": "BARRETO MAT\u00cdAS",
      "userId": "15011433883683359534"
     }
    },
    "outputId": "a5af25a1-08ac-4e69-eb2a-bd9c40e47cdb",
    "colab": {
     "base_uri": "https://localhost:8080/"
    }
   },
   "outputs": [
    {
     "output_type": "stream",
     "name": "stdout",
     "text": [
      "Definiendo v\u00e9rtices del pol\u00edgono:\n",
      "   Formato: [x, y] donde x=columna, y=fila\n",
      "   Recordar: origen (0,0) est\u00e1 arriba a la izquierda\n",
      "\n",
      "V\u00e9rtices definidos:\n",
      "   V\u00e9rtice 1: x= 50, y= 50\n",
      "   V\u00e9rtice 2: x=200, y= 70\n",
      "   V\u00e9rtice 3: x=180, y=150\n",
      "   V\u00e9rtice 4: x= 40, y=120\n",
      "\n",
      "Informaci\u00f3n del array de puntos:\n",
      "   Forma: (4, 2) (4 puntos, 2 coordenadas cada uno)\n",
      "   Tipo: int32 (enteros de 32 bits)\n"
     ]
    }
   ],
   "source": [
    "# Definiendo los v\u00e9rtices de nuestro pol\u00edgono\n",
    "print(\"Definiendo v\u00e9rtices del pol\u00edgono:\")\n",
    "print(\"   Formato: [x, y] donde x=columna, y=fila\")\n",
    "print(\"   Recordar: origen (0,0) est\u00e1 arriba a la izquierda\\n\")\n",
    "\n",
    "puntos = np.array([\n",
    "    [50, 50],    # V\u00e9rtice 1: cerca de la esquina superior izquierda\n",
    "    [200, 70],   # V\u00e9rtice 2: hacia la derecha, un poco m\u00e1s abajo\n",
    "    [180, 150],  # V\u00e9rtice 3: un poco a la izquierda, mucho m\u00e1s abajo\n",
    "    [40, 120]    # V\u00e9rtice 4: hacia la izquierda, arriba del v\u00e9rtice 3\n",
    "], dtype=np.int32)\n",
    "\n",
    "print(\"V\u00e9rtices definidos:\")\n",
    "for i, (x, y) in enumerate(puntos, 1):\n",
    "    print(f\"   V\u00e9rtice {i}: x={x:3d}, y={y:3d}\")\n",
    "\n",
    "print(f\"\\nInformaci\u00f3n del array de puntos:\")\n",
    "print(f\"   Forma: {puntos.shape} (4 puntos, 2 coordenadas cada uno)\")\n",
    "print(f\"   Tipo: {puntos.dtype} (enteros de 32 bits)\")"
   ]
  },
  {
   "cell_type": "markdown",
   "metadata": {
    "id": "xxF7SE7rqn_S"
   },
   "source": [
    "### \ud83d\udd04 La Transformaci\u00f3n Misteriosa: reshape(-1, 1, 2)\n",
    "\n",
    "**\u00bfPor qu\u00e9 OpenCV necesita esta forma espec\u00edfica?**\n",
    "\n",
    "OpenCV espera contornos en formato: `[n\u00famero_de_puntos, 1, 2]`\n",
    "\n",
    "- **-1:** \"Calcul\u00e1 autom\u00e1ticamente esta dimensi\u00f3n\"\n",
    "- **1:** Dimensi\u00f3n \"dummy\" por compatibilidad hist\u00f3rica\n",
    "- **2:** Las dos coordenadas (x, y)"
   ]
  },
  {
   "cell_type": "code",
   "execution_count": null,
   "metadata": {
    "id": "BexYuZV9qn_S",
    "executionInfo": {
     "status": "ok",
     "timestamp": 1757542084034,
     "user_tz": 180,
     "elapsed": 9,
     "user": {
      "displayName": "BARRETO MAT\u00cdAS",
      "userId": "15011433883683359534"
     }
    },
    "outputId": "1f80a0f5-2672-471c-d2af-7bcdcb7cb576",
    "colab": {
     "base_uri": "https://localhost:8080/"
    }
   },
   "outputs": [
    {
     "output_type": "stream",
     "name": "stdout",
     "text": [
      "\ud83d\udd04 Transformaci\u00f3n de forma para OpenCV:\n",
      "   Forma original: (4, 2)\n",
      "   Forma para OpenCV: (4, 1, 2)\n",
      "\n",
      "\ud83d\udd0d Comparando las estructuras:\n",
      "   Original (m\u00e1s intuitivo):\n",
      "   [50 50] <- Primer punto\n",
      "   [200  70] <- Segundo punto\n",
      "\n",
      "   Formato OpenCV (con dimensi\u00f3n extra):\n",
      "   [[50 50]] <- Primer punto\n",
      "   [[200  70]] <- Segundo punto\n",
      "\n",
      "\ud83d\udca1 La dimensi\u00f3n '1' del medio es por compatibilidad con versiones anteriores\n",
      "   Permite manejar contornos con 'huecos' internos\n"
     ]
    }
   ],
   "source": [
    "print(\"\ud83d\udd04 Transformaci\u00f3n de forma para OpenCV:\")\n",
    "print(f\"   Forma original: {puntos.shape}\")\n",
    "\n",
    "# La transformaci\u00f3n que OpenCV necesita\n",
    "puntos_opencv = puntos.reshape((-1, 1, 2))\n",
    "print(f\"   Forma para OpenCV: {puntos_opencv.shape}\")\n",
    "\n",
    "print(\"\\n\ud83d\udd0d Comparando las estructuras:\")\n",
    "print(\"   Original (m\u00e1s intuitivo):\")\n",
    "print(f\"   {puntos[0]} <- Primer punto\")\n",
    "print(f\"   {puntos[1]} <- Segundo punto\")\n",
    "\n",
    "print(\"\\n   Formato OpenCV (con dimensi\u00f3n extra):\")\n",
    "print(f\"   {puntos_opencv[0]} <- Primer punto\")\n",
    "print(f\"   {puntos_opencv[1]} <- Segundo punto\")\n",
    "\n",
    "print(\"\\n\ud83d\udca1 La dimensi\u00f3n '1' del medio es por compatibilidad con versiones anteriores\")\n",
    "print(\"   Permite manejar contornos con 'huecos' internos\")"
   ]
  },
  {
   "cell_type": "markdown",
   "metadata": {
    "id": "nhqN_aiNqn_S"
   },
   "source": [
    "### \ud83c\udfa8 El Algoritmo de Relleno: cv2.fillPoly()\n",
    "\n",
    "**\u00bfC\u00f3mo funciona internamente el algoritmo de relleno?**\n",
    "\n",
    "1. **Scanline Algorithm:** Recorre l\u00ednea por l\u00ednea (fila por fila)\n",
    "2. **Ray Casting:** Para cada p\u00edxel, \"dispara\" un rayo hacia la derecha\n",
    "3. **Cuenta intersecciones:** Si es impar, est\u00e1 dentro; si es par, est\u00e1 fuera\n",
    "4. **Rellena p\u00edxeles:** Los que est\u00e1n \"dentro\" se pintan del color especificado"
   ]
  },
  {
   "cell_type": "code",
   "execution_count": null,
   "metadata": {
    "id": "LZjWyB6nqn_S",
    "executionInfo": {
     "status": "ok",
     "timestamp": 1757542084053,
     "user_tz": 180,
     "elapsed": 17,
     "user": {
      "displayName": "BARRETO MAT\u00cdAS",
      "userId": "15011433883683359534"
     }
    },
    "outputId": "9603ee4d-fb46-4820-9928-260dea59ae97",
    "colab": {
     "base_uri": "https://localhost:8080/"
    }
   },
   "outputs": [
    {
     "output_type": "stream",
     "name": "stdout",
     "text": [
      "\ud83c\udfa8 Aplicando cv2.fillPoly():\n",
      "\n",
      "\ud83d\udccb Par\u00e1metros explicados:\n",
      "   imagen: El lienzo donde dibujar (se modifica in-place)\n",
      "   [puntos_opencv]: Lista de pol\u00edgonos (podr\u00edamos tener varios)\n",
      "   255: Valor del color (blanco en escala de grises)\n",
      "\n",
      "\ud83d\udcca Estad\u00edsticas del relleno:\n",
      "   P\u00edxeles negros: 60000 \u2192 48544\n",
      "   P\u00edxeles blancos: 0 \u2192 11456\n",
      "   P\u00edxeles modificados: 11456\n",
      "   \u00c1rea del pol\u00edgono: 11456 p\u00edxeles\u00b2\n"
     ]
    }
   ],
   "source": [
    "# Aplicando el algoritmo de relleno\n",
    "print(\"\ud83c\udfa8 Aplicando cv2.fillPoly():\")\n",
    "print(\"\\n\ud83d\udccb Par\u00e1metros explicados:\")\n",
    "print(\"   imagen: El lienzo donde dibujar (se modifica in-place)\")\n",
    "print(\"   [puntos_opencv]: Lista de pol\u00edgonos (podr\u00edamos tener varios)\")\n",
    "print(\"   255: Valor del color (blanco en escala de grises)\")\n",
    "\n",
    "# Guardamos el estado antes del relleno\n",
    "pixeles_negros_antes = np.count_nonzero(imagen == 0)\n",
    "pixeles_blancos_antes = np.count_nonzero(imagen == 255)\n",
    "\n",
    "# \u00a1Aqu\u00ed sucede la magia!\n",
    "cv2.fillPoly(imagen, [puntos_opencv], 255)\n",
    "\n",
    "# Analizamos qu\u00e9 cambi\u00f3\n",
    "pixeles_negros_despues = np.count_nonzero(imagen == 0)\n",
    "pixeles_blancos_despues = np.count_nonzero(imagen == 255)\n",
    "\n",
    "print(\"\\n\ud83d\udcca Estad\u00edsticas del relleno:\")\n",
    "print(f\"   P\u00edxeles negros: {pixeles_negros_antes} \u2192 {pixeles_negros_despues}\")\n",
    "print(f\"   P\u00edxeles blancos: {pixeles_blancos_antes} \u2192 {pixeles_blancos_despues}\")\n",
    "print(f\"   P\u00edxeles modificados: {pixeles_blancos_despues - pixeles_blancos_antes}\")\n",
    "print(f\"   \u00c1rea del pol\u00edgono: {pixeles_blancos_despues} p\u00edxeles\u00b2\")"
   ]
  },
  {
   "cell_type": "code",
   "execution_count": null,
   "metadata": {
    "id": "BztS9rQ1qn_S",
    "executionInfo": {
     "status": "ok",
     "timestamp": 1757542084333,
     "user_tz": 180,
     "elapsed": 283,
     "user": {
      "displayName": "BARRETO MAT\u00cdAS",
      "userId": "15011433883683359534"
     }
    },
    "outputId": "d823595c-c780-4202-d8ee-a36eebc21672",
    "colab": {
     "base_uri": "https://localhost:8080/",
     "height": 584
    }
   },
   "outputs": [
    {
     "output_type": "display_data",
     "data": {
      "text/plain": [
       "<Figure size 1000x600 with 1 Axes>"
      ],
      "image/png": "[encoded data removed]"
     },
     "metadata": {}
    },
    {
     "output_type": "stream",
     "name": "stdout",
     "text": [
      "\ud83c\udfaf \u00a1Objetivo cumplido! Convertimos coordenadas matem\u00e1ticas en p\u00edxeles\n"
     ]
    }
   ],
   "source": [
    "# Visualizaci\u00f3n del resultado\n",
    "plt.figure(figsize=(10, 6))\n",
    "plt.imshow(imagen, cmap='gray')\n",
    "plt.title('Pol\u00edgono Rellenado: Del C\u00f3digo a la Imagen')\n",
    "\n",
    "# Agregar anotaciones de los v\u00e9rtices\n",
    "for i, (x, y) in enumerate(puntos, 1):\n",
    "    plt.plot(x, y, 'ro', markersize=8)\n",
    "    plt.annotate(f'V{i}\\n({x},{y})', (x, y), xytext=(5, 5),\n",
    "                textcoords='offset points', color='red', fontsize=10)\n",
    "\n",
    "plt.axis('on')  # Mantenemos los ejes para ver las coordenadas\n",
    "plt.xlabel('X (columnas)')\n",
    "plt.ylabel('Y (filas)')\n",
    "plt.grid(True, alpha=0.3)\n",
    "plt.show()\n",
    "\n",
    "print(\"\ud83c\udfaf \u00a1Objetivo cumplido! Convertimos coordenadas matem\u00e1ticas en p\u00edxeles\")"
   ]
  },
  {
   "cell_type": "markdown",
   "metadata": {
    "id": "kr0ovt0Kqn_S"
   },
   "source": [
    "## 4. El Detective de Contornos: cv2.findContours()\n",
    "\n",
    "Ahora viene la parte m\u00e1s fascinante: encontrar autom\u00e1ticamente los bordes de nuestro objeto."
   ]
  },
  {
   "cell_type": "markdown",
   "metadata": {
    "id": "XPSbtMhTqn_S"
   },
   "source": [
    "### El Algoritmo de Detecci\u00f3n\n",
    "\n",
    "**\u00bfC\u00f3mo encuentra OpenCV los contornos?**\n",
    "\n",
    "1. **An\u00e1lisis p\u00edxel por p\u00edxel:** Examina cada p\u00edxel y sus vecinos\n",
    "2. **Detecci\u00f3n de cambios:** Busca transiciones de negro (0) a blanco (255)\n",
    "3. **Seguimiento de bordes:** Sigue la \"frontera\" entre colores\n",
    "4. **Algoritmo Suzuki-Abe:** M\u00e9todo espec\u00edfico para encontrar contornos jer\u00e1rquicos\n",
    "\n",
    "**Los par\u00e1metros desglosados:**"
   ]
  },
  {
   "cell_type": "code",
   "execution_count": null,
   "metadata": {
    "id": "gWPjs2SVqn_S",
    "executionInfo": {
     "status": "ok",
     "timestamp": 1757542084439,
     "user_tz": 180,
     "elapsed": 108,
     "user": {
      "displayName": "BARRETO MAT\u00cdAS",
      "userId": "15011433883683359534"
     }
    },
    "outputId": "e8c7b1d3-4e4c-4586-d895-f4520e24581b",
    "colab": {
     "base_uri": "https://localhost:8080/"
    }
   },
   "outputs": [
    {
     "output_type": "stream",
     "name": "stdout",
     "text": [
      "\ud83d\udd0d Analizando cv2.findContours() en detalle:\n",
      "\n",
      "\ud83d\udccb Sintaxis completa:\n",
      "   contornos, jerarquia = cv2.findContours(imagen, modo, m\u00e9todo)\n",
      "\n",
      "\ud83c\udfaf Par\u00e1metros que vamos a usar:\n",
      "\n",
      "1\ufe0f\u20e3 IMAGEN (entrada):\n",
      "   \u2022 Tipo requerido: Imagen binaria (solo 0s y 255s)\n",
      "   \u2022 Nuestra imagen: (200, 300), valores \u00fanicos: [  0 255]\n",
      "   \u2022 OK Perfecta para detecci\u00f3n de contornos\n",
      "\n",
      "2\ufe0f\u20e3 MODO DE RECUPERACI\u00d3N (cv2.RETR_EXTERNAL):\n",
      "   \u2022 Qu\u00e9 hace: Solo encuentra contornos 'exteriores'\n",
      "   \u2022 Ignorar\u00e1: Contornos dentro de otros contornos\n",
      "   \u2022 Ideal para: Objetos simples sin huecos\n",
      "   \u2022 Alternativas:\n",
      "     - RETR_LIST: Todos los contornos (sin jerarqu\u00eda)\n",
      "     - RETR_TREE: Todos los contornos (con jerarqu\u00eda completa)\n",
      "     - RETR_CCOMP: Contornos externos e internos\n",
      "\n",
      "3\ufe0f\u20e3 M\u00c9TODO DE APROXIMACI\u00d3N (cv2.CHAIN_APPROX_SIMPLE):\n",
      "   \u2022 Qu\u00e9 hace: Comprime l\u00edneas rectas\n",
      "   \u2022 Ejemplo: En vez de guardar 100 puntos de una l\u00ednea recta,\n",
      "             solo guarda el punto inicial y final\n",
      "   \u2022 Ventaja: Menos memoria, procesamiento m\u00e1s r\u00e1pido\n",
      "   \u2022 Alternativa: CHAIN_APPROX_NONE (guarda todos los puntos)\n"
     ]
    }
   ],
   "source": [
    "print(\"\ud83d\udd0d Analizando cv2.findContours() en detalle:\")\n",
    "print(\"\\n\ud83d\udccb Sintaxis completa:\")\n",
    "print(\"   contornos, jerarquia = cv2.findContours(imagen, modo, m\u00e9todo)\")\n",
    "print(\"\\n\ud83c\udfaf Par\u00e1metros que vamos a usar:\")\n",
    "\n",
    "# Explicaci\u00f3n del primer par\u00e1metro\n",
    "print(\"\\n1\ufe0f\u20e3 IMAGEN (entrada):\")\n",
    "print(f\"   \u2022 Tipo requerido: Imagen binaria (solo 0s y 255s)\")\n",
    "print(f\"   \u2022 Nuestra imagen: {imagen.shape}, valores \u00fanicos: {np.unique(imagen)}\")\n",
    "print(f\"   \u2022 OK Perfecta para detecci\u00f3n de contornos\")\n",
    "\n",
    "# Explicaci\u00f3n del modo de recuperaci\u00f3n\n",
    "print(\"\\n2\ufe0f\u20e3 MODO DE RECUPERACI\u00d3N (cv2.RETR_EXTERNAL):\")\n",
    "print(\"   \u2022 Qu\u00e9 hace: Solo encuentra contornos 'exteriores'\")\n",
    "print(\"   \u2022 Ignorar\u00e1: Contornos dentro de otros contornos\")\n",
    "print(\"   \u2022 Ideal para: Objetos simples sin huecos\")\n",
    "print(\"   \u2022 Alternativas:\")\n",
    "print(\"     - RETR_LIST: Todos los contornos (sin jerarqu\u00eda)\")\n",
    "print(\"     - RETR_TREE: Todos los contornos (con jerarqu\u00eda completa)\")\n",
    "print(\"     - RETR_CCOMP: Contornos externos e internos\")\n",
    "\n",
    "# Explicaci\u00f3n del m\u00e9todo de aproximaci\u00f3n\n",
    "print(\"\\n3\ufe0f\u20e3 M\u00c9TODO DE APROXIMACI\u00d3N (cv2.CHAIN_APPROX_SIMPLE):\")\n",
    "print(\"   \u2022 Qu\u00e9 hace: Comprime l\u00edneas rectas\")\n",
    "print(\"   \u2022 Ejemplo: En vez de guardar 100 puntos de una l\u00ednea recta,\")\n",
    "print(\"             solo guarda el punto inicial y final\")\n",
    "print(\"   \u2022 Ventaja: Menos memoria, procesamiento m\u00e1s r\u00e1pido\")\n",
    "print(\"   \u2022 Alternativa: CHAIN_APPROX_NONE (guarda todos los puntos)\")"
   ]
  },
  {
   "cell_type": "code",
   "execution_count": null,
   "metadata": {
    "id": "CtTB6KDEqn_S",
    "executionInfo": {
     "status": "ok",
     "timestamp": 1757542084440,
     "user_tz": 180,
     "elapsed": 34,
     "user": {
      "displayName": "BARRETO MAT\u00cdAS",
      "userId": "15011433883683359534"
     }
    },
    "outputId": "d8b8d23d-47e2-47c7-bd80-626d171c1857",
    "colab": {
     "base_uri": "https://localhost:8080/"
    }
   },
   "outputs": [
    {
     "output_type": "stream",
     "name": "stdout",
     "text": [
      "Ejecutando la detecci\u00f3n de contornos...\n",
      "Detecci\u00f3n completada!\n",
      "\n",
      "Resultados del an\u00e1lisis:\n",
      "   N\u00famero de contornos encontrados: 1\n",
      "   Tipo de dato de 'contornos': <class 'tuple'>\n",
      "   Tipo de dato de 'jerarquia': <class 'numpy.ndarray'>\n",
      "\n",
      "An\u00e1lisis del contorno encontrado:\n",
      "   Forma del contorno: (164, 1, 2)\n",
      "   N\u00famero de puntos: 164\n",
      "   Tipo de datos: int32\n",
      "\n",
      "Primeros 3 puntos del contorno:\n",
      "   Punto 1: (50, 50)\n",
      "   Punto 2: (50, 53)\n",
      "   Punto 3: (49, 54)\n",
      "\n",
      "El algoritmo encontr\u00f3 164 puntos cr\u00edticos\n",
      "   (puntos donde la direcci\u00f3n del contorno cambia)\n"
     ]
    }
   ],
   "source": [
    "# Momento de la detecci\u00f3n!\n",
    "print(\"Ejecutando la detecci\u00f3n de contornos...\")\n",
    "\n",
    "contornos, jerarquia = cv2.findContours(\n",
    "    imagen,                    # Nuestra imagen binaria\n",
    "    cv2.RETR_EXTERNAL,        # Solo contornos externos\n",
    "    cv2.CHAIN_APPROX_SIMPLE   # Aproximaci\u00f3n simple\n",
    ")\n",
    "\n",
    "print(\"Detecci\u00f3n completada!\")\n",
    "print(\"\\nResultados del an\u00e1lisis:\")\n",
    "print(f\"   N\u00famero de contornos encontrados: {len(contornos)}\")\n",
    "print(f\"   Tipo de dato de 'contornos': {type(contornos)}\")\n",
    "print(f\"   Tipo de dato de 'jerarquia': {type(jerarquia)}\")\n",
    "\n",
    "if len(contornos) > 0:\n",
    "    contorno_principal = contornos[0]\n",
    "    print(f\"\\nAn\u00e1lisis del contorno encontrado:\")\n",
    "    print(f\"   Forma del contorno: {contorno_principal.shape}\")\n",
    "    print(f\"   N\u00famero de puntos: {len(contorno_principal)}\")\n",
    "    print(f\"   Tipo de datos: {contorno_principal.dtype}\")\n",
    "\n",
    "    # Mostramos algunos puntos del contorno\n",
    "    print(f\"\\nPrimeros 3 puntos del contorno:\")\n",
    "    for i in range(min(3, len(contorno_principal))):\n",
    "        punto = contorno_principal[i][0]  # [0] porque OpenCV usa formato [[x,y]]\n",
    "        print(f\"   Punto {i+1}: ({punto[0]}, {punto[1]})\")\n",
    "\n",
    "    print(f\"\\nEl algoritmo encontr\u00f3 {len(contorno_principal)} puntos cr\u00edticos\")\n",
    "    print(f\"   (puntos donde la direcci\u00f3n del contorno cambia)\")\n",
    "else:\n",
    "    print(\"No se encontraron contornos\")"
   ]
  },
  {
   "cell_type": "markdown",
   "metadata": {
    "id": "C-TDsXxLqn_S"
   },
   "source": [
    "### \ud83e\uddea Experimento: Comparando M\u00e9todos de Aproximaci\u00f3n\n",
    "\n",
    "Vamos a ver la diferencia entre `CHAIN_APPROX_SIMPLE` y `CHAIN_APPROX_NONE`:"
   ]
  },
  {
   "cell_type": "code",
   "execution_count": null,
   "metadata": {
    "id": "gz0pB8N2qn_S",
    "executionInfo": {
     "status": "ok",
     "timestamp": 1757542084443,
     "user_tz": 180,
     "elapsed": 15,
     "user": {
      "displayName": "BARRETO MAT\u00cdAS",
      "userId": "15011433883683359534"
     }
    },
    "outputId": "2b56891b-f429-4b99-ce4f-80057a1eba9b",
    "colab": {
     "base_uri": "https://localhost:8080/"
    }
   },
   "outputs": [
    {
     "output_type": "stream",
     "name": "stdout",
     "text": [
      "\ud83e\uddea Experimento: Comparando m\u00e9todos de aproximaci\u00f3n\n",
      "\n",
      "\ud83d\udcca Resultados de la comparaci\u00f3n:\n",
      "   CHAIN_APPROX_SIMPLE: 164 puntos\n",
      "   CHAIN_APPROX_NONE:   440 puntos\n",
      "   Reducci\u00f3n: 62.7%\n",
      "\n",
      "\ud83d\udcbe Uso de memoria:\n",
      "   SIMPLE: 1312 bytes\n",
      "   COMPLETO: 3520 bytes\n",
      "   Ahorro: 62.7%\n",
      "\n",
      "\ud83c\udfaf Conclusi\u00f3n: CHAIN_APPROX_SIMPLE es m\u00e1s eficiente\n",
      "   para formas con segmentos rectos como nuestro pol\u00edgono\n"
     ]
    }
   ],
   "source": [
    "# Comparaci\u00f3n experimental\n",
    "print(\"\ud83e\uddea Experimento: Comparando m\u00e9todos de aproximaci\u00f3n\\n\")\n",
    "\n",
    "# M\u00e9todo 1: CHAIN_APPROX_SIMPLE (que ya usamos)\n",
    "contornos_simple, _ = cv2.findContours(imagen, cv2.RETR_EXTERNAL, cv2.CHAIN_APPROX_SIMPLE)\n",
    "\n",
    "# M\u00e9todo 2: CHAIN_APPROX_NONE (todos los puntos)\n",
    "contornos_completo, _ = cv2.findContours(imagen, cv2.RETR_EXTERNAL, cv2.CHAIN_APPROX_NONE)\n",
    "\n",
    "if len(contornos_simple) > 0 and len(contornos_completo) > 0:\n",
    "    puntos_simple = len(contornos_simple[0])\n",
    "    puntos_completo = len(contornos_completo[0])\n",
    "\n",
    "    print(f\"\ud83d\udcca Resultados de la comparaci\u00f3n:\")\n",
    "    print(f\"   CHAIN_APPROX_SIMPLE: {puntos_simple} puntos\")\n",
    "    print(f\"   CHAIN_APPROX_NONE:   {puntos_completo} puntos\")\n",
    "    print(f\"   Reducci\u00f3n: {((puntos_completo - puntos_simple) / puntos_completo * 100):.1f}%\")\n",
    "\n",
    "    # Calculamos la eficiencia\n",
    "    bytes_simple = contornos_simple[0].nbytes\n",
    "    bytes_completo = contornos_completo[0].nbytes\n",
    "\n",
    "    print(f\"\\n\ud83d\udcbe Uso de memoria:\")\n",
    "    print(f\"   SIMPLE: {bytes_simple} bytes\")\n",
    "    print(f\"   COMPLETO: {bytes_completo} bytes\")\n",
    "    print(f\"   Ahorro: {((bytes_completo - bytes_simple) / bytes_completo * 100):.1f}%\")\n",
    "\n",
    "    print(f\"\\n\ud83c\udfaf Conclusi\u00f3n: CHAIN_APPROX_SIMPLE es m\u00e1s eficiente\")\n",
    "    print(f\"   para formas con segmentos rectos como nuestro pol\u00edgono\")\n",
    "else:\n",
    "    print(\"ERROR Error en la comparaci\u00f3n\")"
   ]
  },
  {
   "cell_type": "markdown",
   "metadata": {
    "id": "TECQTeJ7qn_T"
   },
   "source": [
    "## 5. Midiendo como un Cient\u00edfico: Propiedades Geom\u00e9tricas\n",
    "\n",
    "Ahora vamos a extraer informaci\u00f3n cuantitativa de nuestro objeto detectado."
   ]
  },
  {
   "cell_type": "markdown",
   "metadata": {
    "id": "slRAB09Iqn_T"
   },
   "source": [
    "### \ud83d\udcd0 \u00c1rea: cv2.contourArea()\n",
    "\n",
    "**\u00bfC\u00f3mo calcula OpenCV el \u00e1rea?**\n",
    "\n",
    "- **F\u00f3rmula de Green:** Convierte el problema de \u00e1rea en un c\u00e1lculo de l\u00ednea\n",
    "- **Teorema matem\u00e1tico:** `\u00c1rea = \u00bd|\u2211(x_i * y_{i+1} - x_{i+1} * y_i)|`\n",
    "- **Ventaja:** Muy preciso, funciona con pol\u00edgonos irregulares\n",
    "- **Unidad:** P\u00edxeles cuadrados"
   ]
  },
  {
   "cell_type": "code",
   "execution_count": null,
   "metadata": {
    "id": "XX9TX7s5qn_T",
    "executionInfo": {
     "status": "ok",
     "timestamp": 1757542084459,
     "user_tz": 180,
     "elapsed": 15,
     "user": {
      "displayName": "BARRETO MAT\u00cdAS",
      "userId": "15011433883683359534"
     }
    },
    "outputId": "00b9f0b3-6179-4f7b-dee0-1c21f1cf97b7",
    "colab": {
     "base_uri": "https://localhost:8080/"
    }
   },
   "outputs": [
    {
     "output_type": "stream",
     "name": "stdout",
     "text": [
      "\ud83d\udcd0 Calculando \u00e1rea con cv2.contourArea()\n",
      "\n",
      "\ud83d\udcca Resultado:\n",
      "   \u00c1rea calculada: 11235.00 p\u00edxeles cuadrados\n",
      "   Verificaci\u00f3n (conteo manual): 11456 p\u00edxeles cuadrados\n",
      "   Diferencia: 221.00 p\u00edxeles cuadrados\n",
      "   \u26a0\ufe0f Diferencia notable - investigar causa\n",
      "\n",
      "\ud83d\udd2c An\u00e1lisis t\u00e9cnico:\n",
      "   \u2022 cv2.contourArea() usa matem\u00e1tica vectorial precisa\n",
      "   \u2022 El conteo manual cuenta p\u00edxeles discretos\n",
      "   \u2022 Peque\u00f1as diferencias son normales en bordes\n"
     ]
    }
   ],
   "source": [
    "if len(contornos) > 0:\n",
    "    print(\"\ud83d\udcd0 Calculando \u00e1rea con cv2.contourArea()\")\n",
    "\n",
    "    # C\u00e1lculo del \u00e1rea\n",
    "    area_opencv = cv2.contourArea(contorno_principal)\n",
    "\n",
    "    print(f\"\\n\ud83d\udcca Resultado:\")\n",
    "    print(f\"   \u00c1rea calculada: {area_opencv:.2f} p\u00edxeles cuadrados\")\n",
    "\n",
    "    # Verificaci\u00f3n manual contando p\u00edxeles\n",
    "    area_manual = np.count_nonzero(imagen == 255)\n",
    "    print(f\"   Verificaci\u00f3n (conteo manual): {area_manual} p\u00edxeles cuadrados\")\n",
    "\n",
    "    # Comparaci\u00f3n\n",
    "    diferencia = abs(area_opencv - area_manual)\n",
    "    print(f\"   Diferencia: {diferencia:.2f} p\u00edxeles cuadrados\")\n",
    "\n",
    "    if diferencia < 1.0:\n",
    "        print(\"   OK Excelente concordancia entre m\u00e9todos\")\n",
    "    else:\n",
    "        print(\"   \u26a0\ufe0f Diferencia notable - investigar causa\")\n",
    "\n",
    "    print(f\"\\n\ud83d\udd2c An\u00e1lisis t\u00e9cnico:\")\n",
    "    print(f\"   \u2022 cv2.contourArea() usa matem\u00e1tica vectorial precisa\")\n",
    "    print(f\"   \u2022 El conteo manual cuenta p\u00edxeles discretos\")\n",
    "    print(f\"   \u2022 Peque\u00f1as diferencias son normales en bordes\")\n",
    "\n",
    "    area = area_opencv  # Usamos el valor de OpenCV para c\u00e1lculos posteriores\n",
    "else:\n",
    "    print(\"ERROR No hay contornos para medir\")\n",
    "    area = 0"
   ]
  },
  {
   "cell_type": "markdown",
   "metadata": {
    "id": "im02Qatpqn_T"
   },
   "source": [
    "### \ud83d\udccf Per\u00edmetro: cv2.arcLength()\n",
    "\n",
    "**\u00bfC\u00f3mo se calcula la longitud del contorno?**\n",
    "\n",
    "- **Suma de distancias:** Entre puntos consecutivos del contorno\n",
    "- **Distancia euclidiana:** `d = \u221a[(x\u2082-x\u2081)\u00b2 + (y\u2082-y\u2081)\u00b2]`\n",
    "- **Par\u00e1metro closed=True:** Incluye la distancia del \u00faltimo al primer punto\n",
    "- **Unidad:** P\u00edxeles lineales"
   ]
  },
  {
   "cell_type": "code",
   "execution_count": null,
   "metadata": {
    "id": "QAk5-mj6qn_T",
    "executionInfo": {
     "status": "ok",
     "timestamp": 1757542084484,
     "user_tz": 180,
     "elapsed": 22,
     "user": {
      "displayName": "BARRETO MAT\u00cdAS",
      "userId": "15011433883683359534"
     }
    },
    "outputId": "af6c0861-3e1b-4708-a1d7-022bd817e29e",
    "colab": {
     "base_uri": "https://localhost:8080/"
    }
   },
   "outputs": [
    {
     "output_type": "stream",
     "name": "stdout",
     "text": [
      "\ud83d\udccf Calculando per\u00edmetro con cv2.arcLength()\n",
      "\n",
      "\ud83d\udcca Resultado:\n",
      "   Per\u00edmetro: 473.14 p\u00edxeles\n",
      "\n",
      "\ud83d\udd0d Desglose del par\u00e1metro 'closed':\n",
      "   Con closed=True:  473.14 p\u00edxeles\n",
      "   Con closed=False: 470.14 p\u00edxeles\n",
      "   Diferencia: 3.00 p\u00edxeles\n",
      "   (La diferencia es la distancia del \u00faltimo al primer punto)\n",
      "\n",
      "\ud83e\uddee Verificaci\u00f3n manual del per\u00edmetro:\n",
      "   Segmento 1: (50,50) \u2192 (50,53) = 3.00\n",
      "   Segmento 2: (50,53) \u2192 (49,54) = 1.41\n",
      "   Segmento 3: (49,54) \u2192 (49,60) = 6.00\n",
      "   ...\n",
      "   Per\u00edmetro manual total: 473.14\n",
      "   Diferencia con OpenCV: 0.000002\n",
      "   OK Pr\u00e1cticamente id\u00e9nticos (diferencias por precisi\u00f3n num\u00e9rica)\n"
     ]
    }
   ],
   "source": [
    "if len(contornos) > 0:\n",
    "    print(\"\ud83d\udccf Calculando per\u00edmetro con cv2.arcLength()\")\n",
    "\n",
    "    # C\u00e1lculo del per\u00edmetro\n",
    "    perimetro = cv2.arcLength(contorno_principal, True)  # True = contorno cerrado\n",
    "\n",
    "    print(f\"\\n\ud83d\udcca Resultado:\")\n",
    "    print(f\"   Per\u00edmetro: {perimetro:.2f} p\u00edxeles\")\n",
    "\n",
    "    print(f\"\\n\ud83d\udd0d Desglose del par\u00e1metro 'closed':\")\n",
    "    perimetro_abierto = cv2.arcLength(contorno_principal, False)  # False = contorno abierto\n",
    "    print(f\"   Con closed=True:  {perimetro:.2f} p\u00edxeles\")\n",
    "    print(f\"   Con closed=False: {perimetro_abierto:.2f} p\u00edxeles\")\n",
    "    print(f\"   Diferencia: {perimetro - perimetro_abierto:.2f} p\u00edxeles\")\n",
    "    print(f\"   (La diferencia es la distancia del \u00faltimo al primer punto)\")\n",
    "\n",
    "    # C\u00e1lculo manual para validar\n",
    "    print(f\"\\n\ud83e\uddee Verificaci\u00f3n manual del per\u00edmetro:\")\n",
    "    puntos_contorno = contorno_principal.reshape(-1, 2)  # Simplificar formato\n",
    "    perimetro_manual = 0\n",
    "\n",
    "    for i in range(len(puntos_contorno)):\n",
    "        p1 = puntos_contorno[i]\n",
    "        p2 = puntos_contorno[(i + 1) % len(puntos_contorno)]  # % para cerrar el contorno\n",
    "        distancia = np.sqrt((p2[0] - p1[0])**2 + (p2[1] - p1[1])**2)\n",
    "        perimetro_manual += distancia\n",
    "\n",
    "        if i < 3:  # Mostrar los primeros 3 c\u00e1lculos\n",
    "            print(f\"   Segmento {i+1}: ({p1[0]},{p1[1]}) \u2192 ({p2[0]},{p2[1]}) = {distancia:.2f}\")\n",
    "\n",
    "    print(f\"   ...\")\n",
    "    print(f\"   Per\u00edmetro manual total: {perimetro_manual:.2f}\")\n",
    "    print(f\"   Diferencia con OpenCV: {abs(perimetro - perimetro_manual):.6f}\")\n",
    "    print(f\"   OK Pr\u00e1cticamente id\u00e9nticos (diferencias por precisi\u00f3n num\u00e9rica)\")\n",
    "\n",
    "else:\n",
    "    print(\"ERROR No hay contornos para medir\")\n",
    "    perimetro = 0"
   ]
  },
  {
   "cell_type": "markdown",
   "metadata": {
    "id": "n2knDe9-qn_T"
   },
   "source": [
    "### \ud83c\udfaf Centro Geom\u00e9trico: cv2.moments()\n",
    "\n",
    "**\u00bfQu\u00e9 son los momentos en geometr\u00eda?**\n",
    "\n",
    "Los momentos son integrales que describen la distribuci\u00f3n de masa de un objeto:\n",
    "\n",
    "- **m00:** Momento de orden cero (\u00e1rea total)\n",
    "- **m10:** Momento de primer orden en X\n",
    "- **m01:** Momento de primer orden en Y\n",
    "- **Centroide:** Centro de masa, calculado como (m10/m00, m01/m00)"
   ]
  },
  {
   "cell_type": "code",
   "execution_count": null,
   "metadata": {
    "id": "XVoUbsiyqn_T",
    "executionInfo": {
     "status": "ok",
     "timestamp": 1757542084499,
     "user_tz": 180,
     "elapsed": 12,
     "user": {
      "displayName": "BARRETO MAT\u00cdAS",
      "userId": "15011433883683359534"
     }
    },
    "outputId": "9e4c494d-dd0d-41a3-86d6-1c011b192a1e",
    "colab": {
     "base_uri": "https://localhost:8080/"
    }
   },
   "outputs": [
    {
     "output_type": "stream",
     "name": "stdout",
     "text": [
      "\ud83c\udfaf Calculando centroide con cv2.moments()\n",
      "\n",
      "\ud83d\udcca Momentos calculados:\n",
      "   m00 (\u00e1rea): 11235.00\n",
      "   m10 (momento X): 1340730.00\n",
      "   m01 (momento Y): 1094905.83\n",
      "\n",
      "\ud83d\udd0d Verificaci\u00f3n:\n",
      "   m00 deber\u00eda ser igual al \u00e1rea: 11235.00 vs 11235.00\n",
      "   OK Concordancia perfecta\n",
      "\n",
      "\ud83e\uddee C\u00e1lculo del centroide:\n",
      "   cx = m10/m00 = 1340730.0/11235.0 = 119.34\n",
      "   cy = m01/m00 = 1094905.8/11235.0 = 97.45\n",
      "   Centroide: (119.34, 97.45)\n",
      "   Centroide (entero): (119, 97)\n",
      "\n",
      "\ud83d\udca1 Interpretaci\u00f3n f\u00edsica:\n",
      "   Si el objeto fuera una l\u00e1mina de metal uniforme,\n",
      "   se equilibrar\u00eda perfectamente en este punto\n"
     ]
    }
   ],
   "source": [
    "if len(contornos) > 0:\n",
    "    print(\"\ud83c\udfaf Calculando centroide con cv2.moments()\")\n",
    "\n",
    "    # C\u00e1lculo de momentos\n",
    "    momentos = cv2.moments(contorno_principal)\n",
    "\n",
    "    print(f\"\\n\ud83d\udcca Momentos calculados:\")\n",
    "    print(f\"   m00 (\u00e1rea): {momentos['m00']:.2f}\")\n",
    "    print(f\"   m10 (momento X): {momentos['m10']:.2f}\")\n",
    "    print(f\"   m01 (momento Y): {momentos['m01']:.2f}\")\n",
    "\n",
    "    # Verificaci\u00f3n del \u00e1rea\n",
    "    print(f\"\\n\ud83d\udd0d Verificaci\u00f3n:\")\n",
    "    print(f\"   m00 deber\u00eda ser igual al \u00e1rea: {momentos['m00']:.2f} vs {area:.2f}\")\n",
    "    if abs(momentos['m00'] - area) < 0.01:\n",
    "        print(f\"   OK Concordancia perfecta\")\n",
    "\n",
    "    # C\u00e1lculo del centroide\n",
    "    if momentos['m00'] != 0:\n",
    "        centroide_x = momentos['m10'] / momentos['m00']\n",
    "        centroide_y = momentos['m01'] / momentos['m00']\n",
    "\n",
    "        print(f\"\\n\ud83e\uddee C\u00e1lculo del centroide:\")\n",
    "        print(f\"   cx = m10/m00 = {momentos['m10']:.1f}/{momentos['m00']:.1f} = {centroide_x:.2f}\")\n",
    "        print(f\"   cy = m01/m00 = {momentos['m01']:.1f}/{momentos['m00']:.1f} = {centroide_y:.2f}\")\n",
    "        print(f\"   Centroide: ({centroide_x:.2f}, {centroide_y:.2f})\")\n",
    "\n",
    "        # Para dibujar, necesitamos coordenadas enteras\n",
    "        centroide_x_int = int(round(centroide_x))\n",
    "        centroide_y_int = int(round(centroide_y))\n",
    "\n",
    "        print(f\"   Centroide (entero): ({centroide_x_int}, {centroide_y_int})\")\n",
    "\n",
    "        print(f\"\\n\ud83d\udca1 Interpretaci\u00f3n f\u00edsica:\")\n",
    "        print(f\"   Si el objeto fuera una l\u00e1mina de metal uniforme,\")\n",
    "        print(f\"   se equilibrar\u00eda perfectamente en este punto\")\n",
    "\n",
    "    else:\n",
    "        print(f\"ERROR No se puede calcular centroide (\u00e1rea = 0)\")\n",
    "        centroide_x_int = centroide_y_int = -1\n",
    "\n",
    "else:\n",
    "    print(\"ERROR No hay contornos para analizar\")\n",
    "    centroide_x_int = centroide_y_int = -1\n",
    "    momentos = None"
   ]
  },
  {
   "cell_type": "markdown",
   "metadata": {
    "id": "qDYHN3ydqn_T"
   },
   "source": [
    "### \ud83d\udd18 \u00cdndices de Forma: An\u00e1lisis Geom\u00e9trico Avanzado\n",
    "\n",
    "Con \u00e1rea y per\u00edmetro podemos calcular \u00edndices que describen la forma del objeto:"
   ]
  },
  {
   "cell_type": "code",
   "execution_count": null,
   "metadata": {
    "id": "hYySvd1Fqn_T",
    "executionInfo": {
     "status": "ok",
     "timestamp": 1757542084513,
     "user_tz": 180,
     "elapsed": 12,
     "user": {
      "displayName": "BARRETO MAT\u00cdAS",
      "userId": "15011433883683359534"
     }
    },
    "outputId": "2209d8be-e74c-4582-a3ea-a96381448e55",
    "colab": {
     "base_uri": "https://localhost:8080/"
    }
   },
   "outputs": [
    {
     "output_type": "stream",
     "name": "stdout",
     "text": [
      "\ud83d\udd18 Calculando \u00edndices de forma\n",
      "\n",
      "\ud83d\udcca \u00cdndices calculados:\n",
      "   Circularidad: 0.631\n",
      "   Compacidad: 19.93\n",
      "   Relaci\u00f3n de aspecto: 1.59\n",
      "\n",
      "\ud83d\udd0d Interpretaci\u00f3n:\n",
      "   \u2022 Circularidad = 1.0 \u2192 c\u00edrculo perfecto\n",
      "   \u2022 Circularidad < 1.0 \u2192 forma irregular\n",
      "   \u2022 Nuestra forma: 0.631 (forma irregular)\n",
      "\n",
      "   \u2022 Aspecto = 1.0 \u2192 cuadrado/c\u00edrculo\n",
      "   \u2022 Aspecto > 1.0 \u2192 m\u00e1s ancho que alto\n",
      "   \u2022 Aspecto < 1.0 \u2192 m\u00e1s alto que ancho\n",
      "   \u2022 Nuestra forma: 1.59 (m\u00e1s ancha)\n"
     ]
    }
   ],
   "source": [
    "if area > 0 and perimetro > 0:\n",
    "    print(\"\ud83d\udd18 Calculando \u00edndices de forma\")\n",
    "\n",
    "    # Circularidad (cu\u00e1n parecido a un c\u00edrculo)\n",
    "    circularidad = 4 * np.pi * area / (perimetro ** 2)\n",
    "\n",
    "    # Compacidad (otra medida de circularidad)\n",
    "    compacidad = perimetro ** 2 / area\n",
    "\n",
    "    # Relaci\u00f3n de aspecto (usando bounding box)\n",
    "    x, y, w, h = cv2.boundingRect(contorno_principal)\n",
    "    aspecto = w / h\n",
    "\n",
    "    print(f\"\\n\ud83d\udcca \u00cdndices calculados:\")\n",
    "    print(f\"   Circularidad: {circularidad:.3f}\")\n",
    "    print(f\"   Compacidad: {compacidad:.2f}\")\n",
    "    print(f\"   Relaci\u00f3n de aspecto: {aspecto:.2f}\")\n",
    "\n",
    "    print(f\"\\n\ud83d\udd0d Interpretaci\u00f3n:\")\n",
    "    print(f\"   \u2022 Circularidad = 1.0 \u2192 c\u00edrculo perfecto\")\n",
    "    print(f\"   \u2022 Circularidad < 1.0 \u2192 forma irregular\")\n",
    "    print(f\"   \u2022 Nuestra forma: {circularidad:.3f} ({'bastante circular' if circularidad > 0.7 else 'forma irregular'})\")\n",
    "\n",
    "    print(f\"\\n   \u2022 Aspecto = 1.0 \u2192 cuadrado/c\u00edrculo\")\n",
    "    print(f\"   \u2022 Aspecto > 1.0 \u2192 m\u00e1s ancho que alto\")\n",
    "    print(f\"   \u2022 Aspecto < 1.0 \u2192 m\u00e1s alto que ancho\")\n",
    "    print(f\"   \u2022 Nuestra forma: {aspecto:.2f} ({'m\u00e1s ancha' if aspecto > 1.2 else 'm\u00e1s alta' if aspecto < 0.8 else 'proporcionada'})\")\n",
    "\n",
    "else:\n",
    "    print(\"ERROR No se pueden calcular \u00edndices de forma\")"
   ]
  },
  {
   "cell_type": "markdown",
   "metadata": {
    "id": "huLXhtFvqn_T"
   },
   "source": [
    "## 6. \ud83c\udfa8 Visualizaci\u00f3n Cient\u00edfica: Comunicando Resultados\n",
    "\n",
    "Como cient\u00edficos de datos, necesitamos presentar nuestros hallazgos de manera clara y profesional."
   ]
  },
  {
   "cell_type": "markdown",
   "metadata": {
    "id": "Abaumo5Qqn_T"
   },
   "source": [
    "### \ud83d\udd8c\ufe0f Preparando la Visualizaci\u00f3n: cv2.drawContours()\n",
    "\n",
    "**\u00bfC\u00f3mo funciona el dibujado de contornos?**\n",
    "\n",
    "- **cv2.drawContours()** modifica la imagen p\u00edxel por p\u00edxel\n",
    "- **Algoritmo de l\u00ednea:** Usa el algoritmo de Bresenham para dibujar l\u00edneas suaves\n",
    "- **Colores en BGR:** OpenCV usa Blue-Green-Red (no RGB como otros sistemas)"
   ]
  },
  {
   "cell_type": "code",
   "execution_count": null,
   "metadata": {
    "id": "lZ3Z2SXJqn_T",
    "executionInfo": {
     "status": "ok",
     "timestamp": 1757542084542,
     "user_tz": 180,
     "elapsed": 27,
     "user": {
      "displayName": "BARRETO MAT\u00cdAS",
      "userId": "15011433883683359534"
     }
    },
    "outputId": "f6092f9f-09fd-4af6-cd00-207a0d5325ae",
    "colab": {
     "base_uri": "https://localhost:8080/"
    }
   },
   "outputs": [
    {
     "output_type": "stream",
     "name": "stdout",
     "text": [
      "\ud83c\udfa8 Preparando visualizaci\u00f3n cient\u00edfica\n",
      "\n",
      "\ud83d\udd04 Conversi\u00f3n de formato:\n",
      "   Original: (200, 300) (escala de grises)\n",
      "   Convertida: (200, 300, 3) (BGR color)\n",
      "   Canales: [Azul, Verde, Rojo]\n",
      "\n",
      "\ud83d\udd8c\ufe0f Dibujando contorno:\n",
      "   Color usado: (0, 255, 0) (BGR)\n",
      "   Grosor: 2 p\u00edxeles\n",
      "   Contornos dibujados: 1\n",
      "\n",
      "\ud83c\udfaf Dibujando centroide:\n",
      "   Posici\u00f3n: (119, 97)\n",
      "   Color: (0, 0, 255) (BGR)\n",
      "   Radio: 5 p\u00edxeles\n",
      "   Etiqueta agregada\n",
      "\n",
      "OK Imagen de visualizaci\u00f3n preparada\n"
     ]
    }
   ],
   "source": [
    "# Preparar imagen para visualizaci\u00f3n\n",
    "print(\"\ud83c\udfa8 Preparando visualizaci\u00f3n cient\u00edfica\")\n",
    "\n",
    "# Convertir de escala de grises a color (BGR)\n",
    "imagen_visualizacion = cv2.cvtColor(imagen, cv2.COLOR_GRAY2BGR)\n",
    "\n",
    "print(f\"\\n\ud83d\udd04 Conversi\u00f3n de formato:\")\n",
    "print(f\"   Original: {imagen.shape} (escala de grises)\")\n",
    "print(f\"   Convertida: {imagen_visualizacion.shape} (BGR color)\")\n",
    "print(f\"   Canales: [Azul, Verde, Rojo]\")\n",
    "\n",
    "if len(contornos) > 0:\n",
    "    # Dibujar el contorno\n",
    "    print(f\"\\n\ud83d\udd8c\ufe0f Dibujando contorno:\")\n",
    "    color_contorno = (0, 255, 0)  # Verde en formato BGR\n",
    "    grosor = 2\n",
    "\n",
    "    cv2.drawContours(\n",
    "        imagen_visualizacion,    # Imagen destino (se modifica)\n",
    "        [contorno_principal],    # Lista de contornos\n",
    "        -1,                      # \u00cdndice (-1 = todos los contornos)\n",
    "        color_contorno,          # Color BGR\n",
    "        grosor                   # Grosor en p\u00edxeles\n",
    "    )\n",
    "\n",
    "    print(f\"   Color usado: {color_contorno} (BGR)\")\n",
    "    print(f\"   Grosor: {grosor} p\u00edxeles\")\n",
    "    print(f\"   Contornos dibujados: 1\")\n",
    "\n",
    "    # Dibujar el centroide\n",
    "    if centroide_x_int != -1 and centroide_y_int != -1:\n",
    "        print(f\"\\n\ud83c\udfaf Dibujando centroide:\")\n",
    "        color_centroide = (0, 0, 255)  # Rojo en formato BGR\n",
    "        radio = 5\n",
    "\n",
    "        cv2.circle(\n",
    "            imagen_visualizacion,           # Imagen destino\n",
    "            (centroide_x_int, centroide_y_int),  # Centro del c\u00edrculo\n",
    "            radio,                          # Radio\n",
    "            color_centroide,               # Color BGR\n",
    "            -1                             # Grosor (-1 = relleno)\n",
    "        )\n",
    "\n",
    "        print(f\"   Posici\u00f3n: ({centroide_x_int}, {centroide_y_int})\")\n",
    "        print(f\"   Color: {color_centroide} (BGR)\")\n",
    "        print(f\"   Radio: {radio} p\u00edxeles\")\n",
    "\n",
    "        # Agregar etiqueta de texto\n",
    "        cv2.putText(\n",
    "            imagen_visualizacion,\n",
    "            'Centroide',\n",
    "            (centroide_x_int + 10, centroide_y_int - 10),\n",
    "            cv2.FONT_HERSHEY_SIMPLEX,\n",
    "            0.5,\n",
    "            color_centroide,\n",
    "            1\n",
    "        )\n",
    "\n",
    "        print(f\"   Etiqueta agregada\")\n",
    "\n",
    "else:\n",
    "    print(\"ERROR No hay contornos para dibujar\")\n",
    "\n",
    "print(f\"\\nOK Imagen de visualizaci\u00f3n preparada\")"
   ]
  },
  {
   "cell_type": "markdown",
   "metadata": {
    "id": "6A1VVx8xqn_X"
   },
   "source": [
    "### \ud83d\udcca Presentaci\u00f3n de Resultados\n",
    "\n",
    "Ahora vamos a crear una presentaci\u00f3n profesional de nuestros hallazgos:"
   ]
  },
  {
   "cell_type": "code",
   "execution_count": null,
   "metadata": {
    "id": "ClSL5oTHqn_X",
    "executionInfo": {
     "status": "ok",
     "timestamp": 1757542084729,
     "user_tz": 180,
     "elapsed": 189,
     "user": {
      "displayName": "BARRETO MAT\u00cdAS",
      "userId": "15011433883683359534"
     }
    },
    "outputId": "6301873f-8c09-42e7-bd5d-c0306a7ac126",
    "colab": {
     "base_uri": "https://localhost:8080/"
    }
   },
   "outputs": [
    {
     "output_type": "display_data",
     "data": {
      "text/plain": [
       "<Figure size 1500x600 with 2 Axes>"
      ],
      "image/png": "[encoded data removed]"
     },
     "metadata": {}
    },
    {
     "output_type": "stream",
     "name": "stdout",
     "text": [
      "============================================================\n",
      "           REPORTE DE AN\u00c1LISIS GEOM\u00c9TRICO\n",
      "============================================================\n",
      "\ud83d\udcca PROPIEDADES B\u00c1SICAS:\n",
      "   \u2022 \u00c1rea: 11235.00 p\u00edxeles\u00b2\n",
      "   \u2022 Per\u00edmetro: 473.14 p\u00edxeles\n",
      "   \u2022 Centroide: (119.34, 97.45)\n",
      "\n",
      "\ud83d\udd0d \u00cdNDICES DE FORMA:\n",
      "   \u2022 Circularidad: 0.631\n",
      "   \u2022 Compacidad: 19.93\n",
      "   \u2022 Relaci\u00f3n de aspecto: 1.59\n",
      "\n",
      "\ud83d\udd27 DETALLES T\u00c9CNICOS:\n",
      "   \u2022 Puntos del contorno: 164\n",
      "   \u2022 M\u00e9todo de aproximaci\u00f3n: CHAIN_APPROX_SIMPLE\n",
      "   \u2022 Precisi\u00f3n del \u00e1rea: \u00b10.5 p\u00edxeles\u00b2\n",
      "   \u2022 Precisi\u00f3n del per\u00edmetro: \u00b10.1 p\u00edxeles\n",
      "============================================================\n",
      "\ud83d\udcc5 An\u00e1lisis completado exitosamente\n",
      "\ud83d\udd2c Algoritmos utilizados: Suzuki-Abe, Green's theorem, Bresenham\n"
     ]
    }
   ],
   "source": [
    "# Crear figura con m\u00faltiples subplots\n",
    "fig, axes = plt.subplots(1, 2, figsize=(15, 6))\n",
    "\n",
    "# Subplot 1: Imagen original\n",
    "axes[0].imshow(imagen, cmap='gray')\n",
    "axes[0].set_title('Imagen Original\\n(Entrada del algoritmo)', fontsize=12, fontweight='bold')\n",
    "axes[0].axis('off')\n",
    "\n",
    "# Subplot 2: Imagen con an\u00e1lisis\n",
    "# Convertir BGR a RGB para matplotlib\n",
    "imagen_rgb = cv2.cvtColor(imagen_visualizacion, cv2.COLOR_BGR2RGB)\n",
    "axes[1].imshow(imagen_rgb)\n",
    "axes[1].set_title('An\u00e1lisis Completado\\n(Contorno verde, Centroide rojo)', fontsize=12, fontweight='bold')\n",
    "axes[1].axis('off')\n",
    "\n",
    "plt.tight_layout()\n",
    "plt.show()\n",
    "\n",
    "# Reporte cuantitativo\n",
    "print(\"=\"*60)\n",
    "print(\"           REPORTE DE AN\u00c1LISIS GEOM\u00c9TRICO\")\n",
    "print(\"=\"*60)\n",
    "\n",
    "if len(contornos) > 0:\n",
    "    print(f\"\ud83d\udcca PROPIEDADES B\u00c1SICAS:\")\n",
    "    print(f\"   \u2022 \u00c1rea: {area:.2f} p\u00edxeles\u00b2\")\n",
    "    print(f\"   \u2022 Per\u00edmetro: {perimetro:.2f} p\u00edxeles\")\n",
    "    if centroide_x_int != -1:\n",
    "        print(f\"   \u2022 Centroide: ({centroide_x:.2f}, {centroide_y:.2f})\")\n",
    "\n",
    "    print(f\"\\n\ud83d\udd0d \u00cdNDICES DE FORMA:\")\n",
    "    if 'circularidad' in locals():\n",
    "        print(f\"   \u2022 Circularidad: {circularidad:.3f}\")\n",
    "        print(f\"   \u2022 Compacidad: {compacidad:.2f}\")\n",
    "        print(f\"   \u2022 Relaci\u00f3n de aspecto: {aspecto:.2f}\")\n",
    "\n",
    "    print(f\"\\n\ud83d\udd27 DETALLES T\u00c9CNICOS:\")\n",
    "    print(f\"   \u2022 Puntos del contorno: {len(contorno_principal)}\")\n",
    "    print(f\"   \u2022 M\u00e9todo de aproximaci\u00f3n: CHAIN_APPROX_SIMPLE\")\n",
    "    print(f\"   \u2022 Precisi\u00f3n del \u00e1rea: \u00b10.5 p\u00edxeles\u00b2\")\n",
    "    print(f\"   \u2022 Precisi\u00f3n del per\u00edmetro: \u00b10.1 p\u00edxeles\")\n",
    "\n",
    "else:\n",
    "    print(\"ERROR NO SE DETECTARON OBJETOS\")\n",
    "    print(\"   Posibles causas:\")\n",
    "    print(\"   \u2022 Imagen no binaria\")\n",
    "    print(\"   \u2022 Objetos muy peque\u00f1os\")\n",
    "    print(\"   \u2022 Contraste insuficiente\")\n",
    "\n",
    "print(\"=\"*60)\n",
    "print(f\"\ud83d\udcc5 An\u00e1lisis completado exitosamente\")\n",
    "print(f\"\ud83d\udd2c Algoritmos utilizados: Suzuki-Abe, Green's theorem, Bresenham\")"
   ]
  },
  {
   "cell_type": "markdown",
   "metadata": {
    "id": "ac8e_9zqqn_X"
   },
   "source": [
    "## 7. Laboratorio Experimental: Ejercicios Guiados\n",
    "\n",
    "Ahora que entendemos la teor\u00eda, vamos a experimentar con diferentes par\u00e1metros y configuraciones."
   ]
  },
  {
   "cell_type": "markdown",
   "metadata": {
    "id": "ojAPBJ8qqn_X"
   },
   "source": [
    "### Experimento 1: Comparando Modos de Recuperaci\u00f3n\n",
    "\n",
    "Vamos a crear un objeto con un \"hueco\" y ver c\u00f3mo diferentes modos afectan la detecci\u00f3n:"
   ]
  },
  {
   "cell_type": "code",
   "execution_count": null,
   "metadata": {
    "id": "qz8TOmEBqn_X",
    "executionInfo": {
     "status": "ok",
     "timestamp": 1757542084843,
     "user_tz": 180,
     "elapsed": 110,
     "user": {
      "displayName": "BARRETO MAT\u00cdAS",
      "userId": "15011433883683359534"
     }
    },
    "outputId": "0be3a228-c35c-4fb9-ccc9-f1bff80e1b34",
    "colab": {
     "base_uri": "https://localhost:8080/",
     "height": 833
    }
   },
   "outputs": [
    {
     "output_type": "stream",
     "name": "stdout",
     "text": [
      "Experimento 1: Objeto con hueco interno\n",
      "Imagen con hueco creada\n",
      "\n",
      "Resultados del experimento:\n",
      "   RETR_EXTERNAL:\n",
      "     Contornos detectados: 1\n",
      "     Jerarqu\u00eda: (1, 1, 4)\n",
      "   RETR_LIST:\n",
      "     Contornos detectados: 2\n",
      "     Jerarqu\u00eda: (1, 2, 4)\n",
      "   RETR_TREE:\n",
      "     Contornos detectados: 2\n",
      "     Jerarqu\u00eda: (1, 2, 4)\n",
      "\n",
      "Interpretaci\u00f3n:\n",
      "   \u2022 RETR_EXTERNAL: Solo el contorno exterior\n",
      "   \u2022 RETR_LIST: Todos los contornos sin relaci\u00f3n\n",
      "   \u2022 RETR_TREE: Todos con informaci\u00f3n jer\u00e1rquica\n"
     ]
    },
    {
     "output_type": "display_data",
     "data": {
      "text/plain": [
       "<Figure size 1000x600 with 1 Axes>"
      ],
      "image/png": "[encoded data removed]"
     },
     "metadata": {}
    }
   ],
   "source": [
    "print(\"Experimento 1: Objeto con hueco interno\")\n",
    "\n",
    "# Crear imagen con objeto y hueco\n",
    "imagen_hueco = np.zeros((200, 200), dtype=np.uint8)\n",
    "\n",
    "# Dibujar rect\u00e1ngulo exterior (blanco)\n",
    "cv2.rectangle(imagen_hueco, (50, 50), (150, 150), 255, -1)\n",
    "\n",
    "# Dibujar rect\u00e1ngulo interior (negro = hueco)\n",
    "cv2.rectangle(imagen_hueco, (80, 80), (120, 120), 0, -1)\n",
    "\n",
    "print(\"Imagen con hueco creada\")\n",
    "\n",
    "# Probar diferentes modos\n",
    "modos = {\n",
    "    'RETR_EXTERNAL': cv2.RETR_EXTERNAL,\n",
    "    'RETR_LIST': cv2.RETR_LIST,\n",
    "    'RETR_TREE': cv2.RETR_TREE\n",
    "}\n",
    "\n",
    "resultados = {}\n",
    "\n",
    "for nombre, modo in modos.items():\n",
    "    contornos_modo, jerarquia_modo = cv2.findContours(imagen_hueco, modo, cv2.CHAIN_APPROX_SIMPLE)\n",
    "    resultados[nombre] = {\n",
    "        'contornos': len(contornos_modo),\n",
    "        'jerarquia': jerarquia_modo.shape if jerarquia_modo is not None else 'None'\n",
    "    }\n",
    "\n",
    "print(f\"\\nResultados del experimento:\")\n",
    "for modo, resultado in resultados.items():\n",
    "    print(f\"   {modo}:\")\n",
    "    print(f\"     Contornos detectados: {resultado['contornos']}\")\n",
    "    print(f\"     Jerarqu\u00eda: {resultado['jerarquia']}\")\n",
    "\n",
    "print(f\"\\nInterpretaci\u00f3n:\")\n",
    "print(f\"   \u2022 RETR_EXTERNAL: Solo el contorno exterior\")\n",
    "print(f\"   \u2022 RETR_LIST: Todos los contornos sin relaci\u00f3n\")\n",
    "print(f\"   \u2022 RETR_TREE: Todos con informaci\u00f3n jer\u00e1rquica\")\n",
    "\n",
    "# Visualizar\n",
    "plt.imshow(imagen_hueco, cmap='gray')\n",
    "plt.title('Objeto con Hueco Internal')\n",
    "plt.axis('off')\n",
    "plt.show()"
   ]
  },
  {
   "cell_type": "markdown",
   "metadata": {
    "id": "ta5dJDylqn_X"
   },
   "source": [
    "### \ud83c\udfaf Experimento 2: Tu Turno - C\u00edrculo Investigativo\n",
    "\n",
    "Ahora cre\u00e1 un c\u00edrculo y aplic\u00e1 todo lo que aprendimos:"
   ]
  },
  {
   "cell_type": "code",
   "execution_count": null,
   "metadata": {
    "id": "0kATX2KSqn_X",
    "executionInfo": {
     "status": "ok",
     "timestamp": 1757542085028,
     "user_tz": 180,
     "elapsed": 183,
     "user": {
      "displayName": "BARRETO MAT\u00cdAS",
      "userId": "15011433883683359534"
     }
    },
    "outputId": "2ffe5cbb-fc86-492d-abc9-65b14cb7368b",
    "colab": {
     "base_uri": "https://localhost:8080/",
     "height": 972
    }
   },
   "outputs": [
    {
     "output_type": "stream",
     "name": "stdout",
     "text": [
      "\ud83c\udfaf Tu experimento: Analizando un c\u00edrculo\n",
      "\n",
      "\ud83d\udcdd Tareas a completar:\n",
      "   1. Crear imagen con c\u00edrculo\n",
      "   2. Detectar contornos\n",
      "   3. Calcular propiedades\n",
      "   4. Analizar circularidad (deber\u00eda ser ~1.0)\n",
      "\n",
      "\ud83d\udd0d Informaci\u00f3n del c\u00edrculo te\u00f3rico:\n",
      "   Radio: 50 p\u00edxeles\n",
      "   \u00c1rea te\u00f3rica: 7853.98 p\u00edxeles\u00b2\n",
      "   Per\u00edmetro te\u00f3rico: 314.16 p\u00edxeles\n",
      "\n",
      "\ud83d\udcca Resultados experimentales:\n",
      "   \u00c1rea medida: 7704.00 p\u00edxeles\u00b2\n",
      "   Per\u00edmetro medido: 329.71 p\u00edxeles\n",
      "   Circularidad: 0.891\n",
      "\n",
      "\ud83d\udd2c Comparaci\u00f3n te\u00f3rico vs experimental:\n",
      "   Error en \u00e1rea: 1.9%\n",
      "   Error en per\u00edmetro: 4.9%\n",
      "   Circularidad del c\u00edrculo: 0.891\n",
      "   \ud83e\udd14 Interesante, menos circular de lo esperado\n",
      "      (debido a la discretizaci\u00f3n en p\u00edxeles)\n"
     ]
    },
    {
     "output_type": "display_data",
     "data": {
      "text/plain": [
       "<Figure size 1000x600 with 1 Axes>"
      ],
      "image/png": "[encoded data removed]"
     },
     "metadata": {}
    },
    {
     "output_type": "stream",
     "name": "stdout",
     "text": [
      "\n",
      "\ud83c\udf89 \u00a1Experimento completado! Comparaste teor\u00eda con pr\u00e1ctica\n"
     ]
    }
   ],
   "source": [
    "print(\"\ud83c\udfaf Tu experimento: Analizando un c\u00edrculo\")\n",
    "print(\"\\n\ud83d\udcdd Tareas a completar:\")\n",
    "print(\"   1. Crear imagen con c\u00edrculo\")\n",
    "print(\"   2. Detectar contornos\")\n",
    "print(\"   3. Calcular propiedades\")\n",
    "print(\"   4. Analizar circularidad (deber\u00eda ser ~1.0)\")\n",
    "\n",
    "# Paso 1: Crear imagen con c\u00edrculo\n",
    "imagen_circulo = np.zeros((200, 200), dtype=np.uint8)\n",
    "cv2.circle(imagen_circulo, (100, 100), 50, 255, -1)  # Centro, radio, color, relleno\n",
    "\n",
    "print(\"\\n\ud83d\udd0d Informaci\u00f3n del c\u00edrculo te\u00f3rico:\")\n",
    "radio_teorico = 50\n",
    "area_teorica = np.pi * radio_teorico**2\n",
    "perimetro_teorico = 2 * np.pi * radio_teorico\n",
    "print(f\"   Radio: {radio_teorico} p\u00edxeles\")\n",
    "print(f\"   \u00c1rea te\u00f3rica: {area_teorica:.2f} p\u00edxeles\u00b2\")\n",
    "print(f\"   Per\u00edmetro te\u00f3rico: {perimetro_teorico:.2f} p\u00edxeles\")\n",
    "\n",
    "# ESPACIO PARA TU C\u00d3DIGO:\n",
    "# Complet\u00e1 las siguientes l\u00edneas usando lo que aprendiste:\n",
    "\n",
    "# Detectar contornos\n",
    "contornos_circulo, _ = cv2.findContours(imagen_circulo, cv2.RETR_EXTERNAL, cv2.CHAIN_APPROX_SIMPLE)\n",
    "\n",
    "if len(contornos_circulo) > 0:\n",
    "    contorno_circulo = contornos_circulo[0]\n",
    "\n",
    "    # Calcular propiedades\n",
    "    area_medida = cv2.contourArea(contorno_circulo)\n",
    "    perimetro_medido = cv2.arcLength(contorno_circulo, True)\n",
    "    circularidad_medida = 4 * np.pi * area_medida / (perimetro_medido ** 2)\n",
    "\n",
    "    print(f\"\\n\ud83d\udcca Resultados experimentales:\")\n",
    "    print(f\"   \u00c1rea medida: {area_medida:.2f} p\u00edxeles\u00b2\")\n",
    "    print(f\"   Per\u00edmetro medido: {perimetro_medido:.2f} p\u00edxeles\")\n",
    "    print(f\"   Circularidad: {circularidad_medida:.3f}\")\n",
    "\n",
    "    print(f\"\\n\ud83d\udd2c Comparaci\u00f3n te\u00f3rico vs experimental:\")\n",
    "    error_area = abs(area_teorica - area_medida) / area_teorica * 100\n",
    "    error_perimetro = abs(perimetro_teorico - perimetro_medido) / perimetro_teorico * 100\n",
    "\n",
    "    print(f\"   Error en \u00e1rea: {error_area:.1f}%\")\n",
    "    print(f\"   Error en per\u00edmetro: {error_perimetro:.1f}%\")\n",
    "    print(f\"   Circularidad del c\u00edrculo: {circularidad_medida:.3f}\")\n",
    "\n",
    "    if circularidad_medida > 0.95:\n",
    "        print(f\"   OK Excelente! Muy circular (como esper\u00e1bamos)\")\n",
    "    else:\n",
    "        print(f\"   \ud83e\udd14 Interesante, menos circular de lo esperado\")\n",
    "        print(f\"      (debido a la discretizaci\u00f3n en p\u00edxeles)\")\n",
    "\n",
    "plt.imshow(imagen_circulo, cmap='gray')\n",
    "plt.title('Tu C\u00edrculo Experimental')\n",
    "plt.axis('off')\n",
    "plt.show()\n",
    "\n",
    "print(\"\\n\ud83c\udf89 \u00a1Experimento completado! Comparaste teor\u00eda con pr\u00e1ctica\")"
   ]
  },
  {
   "cell_type": "markdown",
   "metadata": {
    "id": "xEo2VPUdqn_Y"
   },
   "source": [
    "## 8. \ud83d\ude80 Aplicaciones del Mundo Real\n",
    "\n",
    "Ahora que domin\u00e1s la t\u00e9cnica, veamos c\u00f3mo se aplica en la industria:"
   ]
  },
  {
   "cell_type": "markdown",
   "metadata": {
    "id": "g8zGGHXSqn_Y"
   },
   "source": [
    "### \ud83c\udfed Casos de Uso Industriales\n",
    "\n",
    "**Control de Calidad en Manufactura:**\n",
    "- **Problema:** Verificar que piezas tengan el tama\u00f1o correcto\n",
    "- **Soluci\u00f3n:** Usar \u00e1rea y per\u00edmetro como criterios de aceptaci\u00f3n\n",
    "- **Ventaja:** Automatizaci\u00f3n 24/7, precisi\u00f3n constante\n",
    "\n",
    "**An\u00e1lisis M\u00e9dico:**\n",
    "- **Problema:** Medir c\u00e9lulas o tumores en im\u00e1genes microsc\u00f3picas\n",
    "- **Soluci\u00f3n:** Contornos para segmentar y medir objetos biol\u00f3gicos\n",
    "- **Ventaja:** Cuantificaci\u00f3n objetiva para diagn\u00f3sticos\n",
    "\n",
    "**Agricultura de Precisi\u00f3n:**\n",
    "- **Problema:** Contar y clasificar frutas por tama\u00f1o\n",
    "- **Soluci\u00f3n:** Detecci\u00f3n de contornos en im\u00e1genes de drones\n",
    "- **Ventaja:** Estimaci\u00f3n de rendimiento automatizada"
   ]
  },
  {
   "cell_type": "code",
   "execution_count": null,
   "metadata": {
    "id": "S7hSr3ajqn_Y",
    "executionInfo": {
     "status": "ok",
     "timestamp": 1757542085041,
     "user_tz": 180,
     "elapsed": 12,
     "user": {
      "displayName": "BARRETO MAT\u00cdAS",
      "userId": "15011433883683359534"
     }
    },
    "outputId": "ce02913d-e0ee-440c-d501-fc0e1e6c83dc",
    "colab": {
     "base_uri": "https://localhost:8080/"
    }
   },
   "outputs": [
    {
     "output_type": "stream",
     "name": "stdout",
     "text": [
      "\ud83c\udfed Simulaci\u00f3n: Control de Calidad Automatizado\n",
      "\n",
      "\ud83d\udccb Especificaciones del producto:\n",
      "   \u00c1rea objetivo: 7500 p\u00edxeles\u00b2\n",
      "   Tolerancia: \u00b110.0%\n",
      "   Rango aceptable: 6750 - 8250 p\u00edxeles\u00b2\n",
      "\n",
      "\ud83d\udd0d Evaluando pieza actual:\n",
      "   \u00c1rea medida: 11235.00 p\u00edxeles\u00b2\n",
      "   Resultado: ERROR RECHAZADA\n",
      "   Acci\u00f3n: Pieza muy grande - revisar proceso\n",
      "   Desviaci\u00f3n: +49.8%\n",
      "\n",
      "\ud83d\udca1 En una l\u00ednea de producci\u00f3n real:\n",
      "   \u2022 Este an\u00e1lisis tomar\u00eda <1 segundo por pieza\n",
      "   \u2022 Precisi\u00f3n t\u00edpica: \u00b10.1mm en mediciones f\u00edsicas\n",
      "   \u2022 Capacidad: miles de piezas por hora\n"
     ]
    }
   ],
   "source": [
    "# Simulaci\u00f3n de control de calidad\n",
    "print(\"\ud83c\udfed Simulaci\u00f3n: Control de Calidad Automatizado\")\n",
    "print(\"\\n\ud83d\udccb Especificaciones del producto:\")\n",
    "area_objetivo = 7500  # p\u00edxeles\u00b2\n",
    "tolerancia = 0.1      # \u00b110%\n",
    "\n",
    "area_min = area_objetivo * (1 - tolerancia)\n",
    "area_max = area_objetivo * (1 + tolerancia)\n",
    "\n",
    "print(f\"   \u00c1rea objetivo: {area_objetivo} p\u00edxeles\u00b2\")\n",
    "print(f\"   Tolerancia: \u00b1{tolerancia*100}%\")\n",
    "print(f\"   Rango aceptable: {area_min:.0f} - {area_max:.0f} p\u00edxeles\u00b2\")\n",
    "\n",
    "# Evaluar nuestro objeto\n",
    "if area > 0:\n",
    "    print(f\"\\n\ud83d\udd0d Evaluando pieza actual:\")\n",
    "    print(f\"   \u00c1rea medida: {area:.2f} p\u00edxeles\u00b2\")\n",
    "\n",
    "    if area_min <= area <= area_max:\n",
    "        resultado = \"OK APROBADA\"\n",
    "        accion = \"Enviar a empaque\"\n",
    "    else:\n",
    "        resultado = \"ERROR RECHAZADA\"\n",
    "        if area < area_min:\n",
    "            accion = \"Pieza muy peque\u00f1a - revisar proceso\"\n",
    "        else:\n",
    "            accion = \"Pieza muy grande - revisar proceso\"\n",
    "\n",
    "    print(f\"   Resultado: {resultado}\")\n",
    "    print(f\"   Acci\u00f3n: {accion}\")\n",
    "\n",
    "    # Estad\u00edsticas\n",
    "    desviacion = (area - area_objetivo) / area_objetivo * 100\n",
    "    print(f\"   Desviaci\u00f3n: {desviacion:+.1f}%\")\n",
    "\n",
    "print(f\"\\n\ud83d\udca1 En una l\u00ednea de producci\u00f3n real:\")\n",
    "print(f\"   \u2022 Este an\u00e1lisis tomar\u00eda <1 segundo por pieza\")\n",
    "print(f\"   \u2022 Precisi\u00f3n t\u00edpica: \u00b10.1mm en mediciones f\u00edsicas\")\n",
    "print(f\"   \u2022 Capacidad: miles de piezas por hora\")"
   ]
  },
  {
   "cell_type": "markdown",
   "metadata": {
    "id": "qjKYpzlsqn_Y"
   },
   "source": [
    "## 9. S\u00edntesis y Reflexiones\n",
    "\n",
    "### Lo Que Aprendimos (Caja Abierta)\n",
    "\n",
    "**M\u00f3dulos y Funciones:**\n",
    "- **OpenCV:** Especialista en visi\u00f3n, optimizado en C++\n",
    "- **NumPy:** Matem\u00e1tico de matrices, memoria eficiente\n",
    "- **Matplotlib:** Artista visualizador, interpreta n\u00fameros como colores\n",
    "\n",
    "**Algoritmos Internos:**\n",
    "- **Suzuki-Abe:** Para detecci\u00f3n jer\u00e1rquica de contornos\n",
    "- **Green's Theorem:** Para c\u00e1lculo preciso de \u00e1reas\n",
    "- **Bresenham:** Para dibujado suave de l\u00edneas\n",
    "\n",
    "**Par\u00e1metros Cr\u00edticos:**\n",
    "- **dtype=uint8:** Eficiencia vs precisi\u00f3n en im\u00e1genes\n",
    "- **RETR_EXTERNAL vs RETR_TREE:** Estrategias de b\u00fasqueda\n",
    "- **CHAIN_APPROX_SIMPLE:** Compresi\u00f3n inteligente de datos"
   ]
  },
  {
   "cell_type": "code",
   "execution_count": null,
   "metadata": {
    "id": "4snH17NHqn_Y",
    "executionInfo": {
     "status": "ok",
     "timestamp": 1757542085050,
     "user_tz": 180,
     "elapsed": 7,
     "user": {
      "displayName": "BARRETO MAT\u00cdAS",
      "userId": "15011433883683359534"
     }
    },
    "outputId": "69d3d9bc-cc8a-42d0-b26a-f2bf261ebe19",
    "colab": {
     "base_uri": "https://localhost:8080/"
    }
   },
   "outputs": [
    {
     "output_type": "stream",
     "name": "stdout",
     "text": [
      "Evaluaci\u00f3n de Competencias Adquiridas\n",
      "\n",
      "Competencias T\u00e9cnicas:\n",
      "   \u2022 Comprensi\u00f3n de algoritmos de contornos\n",
      "   \u2022 Manejo de par\u00e1metros y sus efectos\n",
      "   \u2022 An\u00e1lisis cuantitativo de formas\n",
      "   \u2022 Validaci\u00f3n experimental de resultados\n",
      "\n",
      "Competencias de Ciencia de Datos:\n",
      "   \u2022 Extracci\u00f3n de caracter\u00edsticas num\u00e9ricas\n",
      "   \u2022 Verificaci\u00f3n de calidad de datos\n",
      "   \u2022 Visualizaci\u00f3n cient\u00edfica\n",
      "   \u2022 Interpretaci\u00f3n de resultados\n",
      "\n",
      "Pensamiento Cr\u00edtico:\n",
      "   \u2022 Comparaci\u00f3n teor\u00eda vs pr\u00e1ctica\n",
      "   \u2022 Evaluaci\u00f3n de precisi\u00f3n y errores\n",
      "   \u2022 Selecci\u00f3n de m\u00e9todos apropiados\n",
      "   \u2022 Conexi\u00f3n con aplicaciones reales\n",
      "\n",
      "Pr\u00f3ximos Desaf\u00edos:\n",
      "   \u2022 Im\u00e1genes con m\u00faltiples objetos\n",
      "   \u2022 Formas m\u00e1s complejas e irregulares\n",
      "   \u2022 Combinaci\u00f3n con machine learning\n",
      "   \u2022 Procesamiento en tiempo real\n",
      "\n",
      "Felicitaciones! Abriste exitosamente la caja negra\n",
      "    de la detecci\u00f3n de contornos. Ahora entend\u00e9s\n",
      "    tanto el QU\u00c9 como el C\u00d3MO de la visi\u00f3n por computadora.\n"
     ]
    }
   ],
   "source": [
    "print(\"Evaluaci\u00f3n de Competencias Adquiridas\")\n",
    "print(\"\\nCompetencias T\u00e9cnicas:\")\n",
    "print(\"   \u2022 Comprensi\u00f3n de algoritmos de contornos\")\n",
    "print(\"   \u2022 Manejo de par\u00e1metros y sus efectos\")\n",
    "print(\"   \u2022 An\u00e1lisis cuantitativo de formas\")\n",
    "print(\"   \u2022 Validaci\u00f3n experimental de resultados\")\n",
    "\n",
    "print(\"\\nCompetencias de Ciencia de Datos:\")\n",
    "print(\"   \u2022 Extracci\u00f3n de caracter\u00edsticas num\u00e9ricas\")\n",
    "print(\"   \u2022 Verificaci\u00f3n de calidad de datos\")\n",
    "print(\"   \u2022 Visualizaci\u00f3n cient\u00edfica\")\n",
    "print(\"   \u2022 Interpretaci\u00f3n de resultados\")\n",
    "\n",
    "print(\"\\nPensamiento Cr\u00edtico:\")\n",
    "print(\"   \u2022 Comparaci\u00f3n teor\u00eda vs pr\u00e1ctica\")\n",
    "print(\"   \u2022 Evaluaci\u00f3n de precisi\u00f3n y errores\")\n",
    "print(\"   \u2022 Selecci\u00f3n de m\u00e9todos apropiados\")\n",
    "print(\"   \u2022 Conexi\u00f3n con aplicaciones reales\")\n",
    "\n",
    "print(\"\\nPr\u00f3ximos Desaf\u00edos:\")\n",
    "print(\"   \u2022 Im\u00e1genes con m\u00faltiples objetos\")\n",
    "print(\"   \u2022 Formas m\u00e1s complejas e irregulares\")\n",
    "print(\"   \u2022 Combinaci\u00f3n con machine learning\")\n",
    "print(\"   \u2022 Procesamiento en tiempo real\")\n",
    "\n",
    "print(\"\\nFelicitaciones! Abriste exitosamente la caja negra\")\n",
    "print(\"    de la detecci\u00f3n de contornos. Ahora entend\u00e9s\")\n",
    "print(\"    tanto el QU\u00c9 como el C\u00d3MO de la visi\u00f3n por computadora.\")"
   ]
  }
 ],
 "metadata": {
  "kernelspec": {
   "display_name": "Python 3",
   "language": "python",
   "name": "python3"
  },
  "language_info": {
   "codemirror_mode": {
    "name": "ipython",
    "version": 3
   },
   "file_extension": ".py",
   "mimetype": "text/x-python",
   "name": "python",
   "nbconvert_exporter": "python",
   "pygments_lexer": "ipython3",
   "version": "3.8.5"
  },
  "colab": {
   "provenance": [
    {
     "file_id": "1blu7awUgBL27sflsscFd8WNfb4gC8a4M",
     "timestamp": 1757546907662
    }
   ]
  }
 },
 "nbformat": 4,
 "nbformat_minor": 0
}